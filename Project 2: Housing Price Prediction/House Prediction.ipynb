{
 "cells": [
  {
   "cell_type": "code",
   "execution_count": 26,
   "id": "3f32c0af",
   "metadata": {},
   "outputs": [
    {
     "data": {
      "text/html": [
       "<style>.container { width: 90% !important}; </style>"
      ],
      "text/plain": [
       "<IPython.core.display.HTML object>"
      ]
     },
     "metadata": {},
     "output_type": "display_data"
    }
   ],
   "source": [
    "import os\n",
    "import warnings\n",
    "\n",
    "import sklearn\n",
    "import numpy as np\n",
    "import pandas as pd\n",
    "import seaborn as sns\n",
    "import matplotlib as mpl\n",
    "import matplotlib.pyplot as plt\n",
    "\n",
    "from IPython.display import display, HTML\n",
    "display(HTML(\"<style>.container { width: 90% !important}; </style>\"))"
   ]
  },
  {
   "cell_type": "code",
   "execution_count": 27,
   "id": "0a624ac5",
   "metadata": {},
   "outputs": [],
   "source": [
    "warnings.filterwarnings(\n",
    "    action='ignore',\n",
    "    message='înternal gelsd'\n",
    ")"
   ]
  },
  {
   "cell_type": "code",
   "execution_count": 28,
   "id": "94137a9b",
   "metadata": {},
   "outputs": [],
   "source": [
    "np.random.seed(1)\n",
    "\n",
    "pd.set_option('display.max_rows', 20)\n",
    "pd.set_option('display.max_columns', 500)\n",
    "pd.set_option('display.max_colwidth', 50)"
   ]
  },
  {
   "cell_type": "code",
   "execution_count": 29,
   "id": "f6932cd7",
   "metadata": {},
   "outputs": [],
   "source": [
    "# Matplotlib set label size\n",
    "%matplotlib inline\n",
    "\n",
    "mpl.rc('axes', labelsize=14)\n",
    "mpl.rc('xtick', labelsize=14)\n",
    "mpl.rc('ytick', labelsize=14)\n",
    "\n",
    "plt.rc('font', size=12)\n",
    "plt.rc('figure', figsize=(12, 5))"
   ]
  },
  {
   "cell_type": "code",
   "execution_count": 30,
   "id": "9cb323eb",
   "metadata": {},
   "outputs": [],
   "source": [
    "sns.set_style('whitegrid')\n",
    "sns.set_context(\n",
    "    'notebook',\n",
    "    font_scale=1,\n",
    "    rc={\n",
    "        'lines.linewidth': 2,\n",
    "        'font.family': [u'times']\n",
    "    }\n",
    ")"
   ]
  },
  {
   "cell_type": "markdown",
   "id": "14ef8f46",
   "metadata": {},
   "source": [
    "## Data Exploration"
   ]
  },
  {
   "cell_type": "markdown",
   "id": "3093f84d",
   "metadata": {},
   "source": [
    "We have multiple houses, and we want to predict their **market price**.\n",
    "So we are going to explore the features that we have."
   ]
  },
  {
   "cell_type": "code",
   "execution_count": 48,
   "id": "006c5114",
   "metadata": {},
   "outputs": [],
   "source": [
    "train_set = pd.read_csv('./data/train_set.csv', index_col=0)\n",
    "test_set = pd.read_csv('./data/test_set.csv')"
   ]
  },
  {
   "cell_type": "code",
   "execution_count": 34,
   "id": "b6cbc76e",
   "metadata": {},
   "outputs": [
    {
     "name": "stdout",
     "output_type": "stream",
     "text": [
      "Number of samples:  5432\n",
      "Number of features:  21\n"
     ]
    }
   ],
   "source": [
    "print('Number of samples: ', train_set.shape[0])\n",
    "print('Number of features: ', test_set.shape[1])"
   ]
  },
  {
   "cell_type": "code",
   "execution_count": 49,
   "id": "dbf51b25",
   "metadata": {},
   "outputs": [
    {
     "data": {
      "text/html": [
       "<div>\n",
       "<style scoped>\n",
       "    .dataframe tbody tr th:only-of-type {\n",
       "        vertical-align: middle;\n",
       "    }\n",
       "\n",
       "    .dataframe tbody tr th {\n",
       "        vertical-align: top;\n",
       "    }\n",
       "\n",
       "    .dataframe thead th {\n",
       "        text-align: right;\n",
       "    }\n",
       "</style>\n",
       "<table border=\"1\" class=\"dataframe\">\n",
       "  <thead>\n",
       "    <tr style=\"text-align: right;\">\n",
       "      <th></th>\n",
       "      <th>Suburb</th>\n",
       "      <th>Address</th>\n",
       "      <th>Rooms</th>\n",
       "      <th>Type</th>\n",
       "      <th>Price</th>\n",
       "      <th>Method</th>\n",
       "      <th>SellerG</th>\n",
       "      <th>Date</th>\n",
       "      <th>Distance</th>\n",
       "      <th>Postcode</th>\n",
       "      <th>Bedroom2</th>\n",
       "      <th>Bathroom</th>\n",
       "      <th>Car</th>\n",
       "      <th>Landsize</th>\n",
       "      <th>BuildingArea</th>\n",
       "      <th>YearBuilt</th>\n",
       "      <th>CouncilArea</th>\n",
       "      <th>Lattitude</th>\n",
       "      <th>Longtitude</th>\n",
       "      <th>Regionname</th>\n",
       "      <th>Propertycount</th>\n",
       "    </tr>\n",
       "    <tr>\n",
       "      <th>index</th>\n",
       "      <th></th>\n",
       "      <th></th>\n",
       "      <th></th>\n",
       "      <th></th>\n",
       "      <th></th>\n",
       "      <th></th>\n",
       "      <th></th>\n",
       "      <th></th>\n",
       "      <th></th>\n",
       "      <th></th>\n",
       "      <th></th>\n",
       "      <th></th>\n",
       "      <th></th>\n",
       "      <th></th>\n",
       "      <th></th>\n",
       "      <th></th>\n",
       "      <th></th>\n",
       "      <th></th>\n",
       "      <th></th>\n",
       "      <th></th>\n",
       "      <th></th>\n",
       "    </tr>\n",
       "  </thead>\n",
       "  <tbody>\n",
       "    <tr>\n",
       "      <th>0</th>\n",
       "      <td>Aberfeldie</td>\n",
       "      <td>241 Buckley St</td>\n",
       "      <td>4</td>\n",
       "      <td>h</td>\n",
       "      <td>1380000.0</td>\n",
       "      <td>VB</td>\n",
       "      <td>Nelson</td>\n",
       "      <td>12/08/2017</td>\n",
       "      <td>7.5</td>\n",
       "      <td>3040.0</td>\n",
       "      <td>4.0</td>\n",
       "      <td>2.0</td>\n",
       "      <td>2.0</td>\n",
       "      <td>766.0</td>\n",
       "      <td>NaN</td>\n",
       "      <td>NaN</td>\n",
       "      <td>Moonee Valley</td>\n",
       "      <td>-37.75595</td>\n",
       "      <td>144.90551</td>\n",
       "      <td>Western Metropolitan</td>\n",
       "      <td>1543.0</td>\n",
       "    </tr>\n",
       "    <tr>\n",
       "      <th>1</th>\n",
       "      <td>Northcote</td>\n",
       "      <td>67 Charles St</td>\n",
       "      <td>2</td>\n",
       "      <td>h</td>\n",
       "      <td>1100000.0</td>\n",
       "      <td>SP</td>\n",
       "      <td>Jellis</td>\n",
       "      <td>20/05/2017</td>\n",
       "      <td>5.5</td>\n",
       "      <td>3070.0</td>\n",
       "      <td>2.0</td>\n",
       "      <td>1.0</td>\n",
       "      <td>1.0</td>\n",
       "      <td>189.0</td>\n",
       "      <td>NaN</td>\n",
       "      <td>NaN</td>\n",
       "      <td>Darebin</td>\n",
       "      <td>-37.77670</td>\n",
       "      <td>144.99240</td>\n",
       "      <td>Northern Metropolitan</td>\n",
       "      <td>11364.0</td>\n",
       "    </tr>\n",
       "    <tr>\n",
       "      <th>2</th>\n",
       "      <td>Balwyn North</td>\n",
       "      <td>42 Maud St</td>\n",
       "      <td>3</td>\n",
       "      <td>h</td>\n",
       "      <td>1480000.0</td>\n",
       "      <td>PI</td>\n",
       "      <td>Jellis</td>\n",
       "      <td>15/10/2016</td>\n",
       "      <td>9.2</td>\n",
       "      <td>3104.0</td>\n",
       "      <td>3.0</td>\n",
       "      <td>1.0</td>\n",
       "      <td>4.0</td>\n",
       "      <td>605.0</td>\n",
       "      <td>116.0</td>\n",
       "      <td>1950.0</td>\n",
       "      <td>Boroondara</td>\n",
       "      <td>-37.79510</td>\n",
       "      <td>145.06960</td>\n",
       "      <td>Southern Metropolitan</td>\n",
       "      <td>7809.0</td>\n",
       "    </tr>\n",
       "  </tbody>\n",
       "</table>\n",
       "</div>"
      ],
      "text/plain": [
       "             Suburb         Address  Rooms Type      Price Method SellerG  \\\n",
       "index                                                                       \n",
       "0        Aberfeldie  241 Buckley St      4    h  1380000.0     VB  Nelson   \n",
       "1         Northcote   67 Charles St      2    h  1100000.0     SP  Jellis   \n",
       "2      Balwyn North      42 Maud St      3    h  1480000.0     PI  Jellis   \n",
       "\n",
       "             Date  Distance  Postcode  Bedroom2  Bathroom  Car  Landsize  \\\n",
       "index                                                                      \n",
       "0      12/08/2017       7.5    3040.0       4.0       2.0  2.0     766.0   \n",
       "1      20/05/2017       5.5    3070.0       2.0       1.0  1.0     189.0   \n",
       "2      15/10/2016       9.2    3104.0       3.0       1.0  4.0     605.0   \n",
       "\n",
       "       BuildingArea  YearBuilt    CouncilArea  Lattitude  Longtitude  \\\n",
       "index                                                                  \n",
       "0               NaN        NaN  Moonee Valley  -37.75595   144.90551   \n",
       "1               NaN        NaN        Darebin  -37.77670   144.99240   \n",
       "2             116.0     1950.0     Boroondara  -37.79510   145.06960   \n",
       "\n",
       "                  Regionname  Propertycount  \n",
       "index                                        \n",
       "0       Western Metropolitan         1543.0  \n",
       "1      Northern Metropolitan        11364.0  \n",
       "2      Southern Metropolitan         7809.0  "
      ]
     },
     "execution_count": 49,
     "metadata": {},
     "output_type": "execute_result"
    }
   ],
   "source": [
    "train_set.head(3)"
   ]
  },
  {
   "cell_type": "code",
   "execution_count": 51,
   "id": "6409b180",
   "metadata": {},
   "outputs": [
    {
     "name": "stdout",
     "output_type": "stream",
     "text": [
      "Suburb - object -  292\n",
      "Address - object -  5400\n",
      "Rooms - int64 -  8\n",
      "Type - object -  3\n",
      "Price - float64 -  1458\n",
      "Method - object -  5\n",
      "Sellerg - object -  203\n",
      "Date - object -  58\n",
      "Distance - float64 -  194\n",
      "Postcode - float64 -  187\n",
      "Bedroom2 - float64 -  11\n",
      "Bathroom - float64 -  9\n",
      "Car - float64 -  10\n",
      "Landsize - float64 -  1131\n",
      "Buildingarea - float64 -  435\n",
      "Yearbuilt - float64 -  121\n",
      "Councilarea - object -  32\n",
      "Lattitude - float64 -  3568\n",
      "Longtitude - float64 -  3790\n",
      "Regionname - object -  8\n",
      "Propertycount - float64 -  289\n"
     ]
    }
   ],
   "source": [
    "def diplay_unique_values(df: pd.DataFrame):\n",
    "    print('')\n",
    "    for column in train_set.columns.values:\n",
    "        print(f'{column.capitalize()} - {train_set[column].dtype} - ', train_set[column].nunique())\n",
    "    \n",
    "diplay_unique_values(train_set)"
   ]
  },
  {
   "cell_type": "code",
   "execution_count": 47,
   "id": "f165b968",
   "metadata": {},
   "outputs": [],
   "source": [
    "# In the case of the Addres, we can see that would not provide a lot of information to have such a categorical variable\n",
    "train_set.drop(['Address'], axis=1, inplace=True)\n",
    "test_set.drop(['Address'], axis=1, inplace=True)"
   ]
  },
  {
   "cell_type": "markdown",
   "id": "fd9f8c1c",
   "metadata": {},
   "source": [
    "### Categorical Variables"
   ]
  },
  {
   "cell_type": "code",
   "execution_count": 52,
   "id": "da8fca61",
   "metadata": {},
   "outputs": [
    {
     "data": {
      "text/html": [
       "<div>\n",
       "<style scoped>\n",
       "    .dataframe tbody tr th:only-of-type {\n",
       "        vertical-align: middle;\n",
       "    }\n",
       "\n",
       "    .dataframe tbody tr th {\n",
       "        vertical-align: top;\n",
       "    }\n",
       "\n",
       "    .dataframe thead th {\n",
       "        text-align: right;\n",
       "    }\n",
       "</style>\n",
       "<table border=\"1\" class=\"dataframe\">\n",
       "  <thead>\n",
       "    <tr style=\"text-align: right;\">\n",
       "      <th></th>\n",
       "      <th>Suburb</th>\n",
       "      <th>Address</th>\n",
       "      <th>Type</th>\n",
       "      <th>Method</th>\n",
       "      <th>SellerG</th>\n",
       "      <th>Date</th>\n",
       "      <th>CouncilArea</th>\n",
       "      <th>Regionname</th>\n",
       "    </tr>\n",
       "    <tr>\n",
       "      <th>index</th>\n",
       "      <th></th>\n",
       "      <th></th>\n",
       "      <th></th>\n",
       "      <th></th>\n",
       "      <th></th>\n",
       "      <th></th>\n",
       "      <th></th>\n",
       "      <th></th>\n",
       "    </tr>\n",
       "  </thead>\n",
       "  <tbody>\n",
       "    <tr>\n",
       "      <th>0</th>\n",
       "      <td>Aberfeldie</td>\n",
       "      <td>241 Buckley St</td>\n",
       "      <td>h</td>\n",
       "      <td>VB</td>\n",
       "      <td>Nelson</td>\n",
       "      <td>12/08/2017</td>\n",
       "      <td>Moonee Valley</td>\n",
       "      <td>Western Metropolitan</td>\n",
       "    </tr>\n",
       "    <tr>\n",
       "      <th>1</th>\n",
       "      <td>Northcote</td>\n",
       "      <td>67 Charles St</td>\n",
       "      <td>h</td>\n",
       "      <td>SP</td>\n",
       "      <td>Jellis</td>\n",
       "      <td>20/05/2017</td>\n",
       "      <td>Darebin</td>\n",
       "      <td>Northern Metropolitan</td>\n",
       "    </tr>\n",
       "    <tr>\n",
       "      <th>2</th>\n",
       "      <td>Balwyn North</td>\n",
       "      <td>42 Maud St</td>\n",
       "      <td>h</td>\n",
       "      <td>PI</td>\n",
       "      <td>Jellis</td>\n",
       "      <td>15/10/2016</td>\n",
       "      <td>Boroondara</td>\n",
       "      <td>Southern Metropolitan</td>\n",
       "    </tr>\n",
       "  </tbody>\n",
       "</table>\n",
       "</div>"
      ],
      "text/plain": [
       "             Suburb         Address Type Method SellerG        Date  \\\n",
       "index                                                                 \n",
       "0        Aberfeldie  241 Buckley St    h     VB  Nelson  12/08/2017   \n",
       "1         Northcote   67 Charles St    h     SP  Jellis  20/05/2017   \n",
       "2      Balwyn North      42 Maud St    h     PI  Jellis  15/10/2016   \n",
       "\n",
       "         CouncilArea             Regionname  \n",
       "index                                        \n",
       "0      Moonee Valley   Western Metropolitan  \n",
       "1            Darebin  Northern Metropolitan  \n",
       "2         Boroondara  Southern Metropolitan  "
      ]
     },
     "execution_count": 52,
     "metadata": {},
     "output_type": "execute_result"
    }
   ],
   "source": [
    "# Can take a closer look to the object ones\n",
    "train_set.select_dtypes(include=['object']).head(3)"
   ]
  },
  {
   "cell_type": "code",
   "execution_count": 53,
   "id": "8cd2ca16",
   "metadata": {},
   "outputs": [
    {
     "data": {
      "text/plain": [
       "<AxesSubplot: xlabel='count', ylabel='Type'>"
      ]
     },
     "execution_count": 53,
     "metadata": {},
     "output_type": "execute_result"
    },
    {
     "data": {
      "image/png": "[encoded data removed]",
      "text/plain": [
       "<Figure size 1200x500 with 1 Axes>"
      ]
     },
     "metadata": {},
     "output_type": "display_data"
    }
   ],
   "source": [
    "sns.countplot(\n",
    "    y='Type',\n",
    "    data=train_set,\n",
    "    color='c'\n",
    ")"
   ]
  },
  {
   "cell_type": "markdown",
   "id": "c5cbe5c4",
   "metadata": {},
   "source": [
    "We have the different types:\n",
    "- **h**: hourse, cottage, villa, semi, terrace\n",
    "- **u**: unit, duplex\n",
    "- **t**: townhouse\n",
    "\n",
    "And we can see that the majority of them are of type *h*."
   ]
  },
  {
   "cell_type": "code",
   "execution_count": 61,
   "id": "971f395e",
   "metadata": {},
   "outputs": [
    {
     "data": {
      "image/png": "[encoded data removed]",
      "text/plain": [
       "<Figure size 1200x500 with 1 Axes>"
      ]
     },
     "metadata": {},
     "output_type": "display_data"
    }
   ],
   "source": [
    "sns.boxplot(\n",
    "    x='Price',\n",
    "    y='Regionname',\n",
    "    data=train_set,\n",
    ")\n",
    "\n",
    "sns.swarmplot(\n",
    "    x=\"Price\", \n",
    "    y=\"Regionname\", \n",
    "    data=train_set, \n",
    "    color='black', \n",
    "    alpha = 0.5,\n",
    "    size=0.8\n",
    ");"
   ]
  },
  {
   "cell_type": "markdown",
   "id": "66e7e836",
   "metadata": {},
   "source": [
    "We can see that there is a difference in the visualization on the distribution.\n",
    "\n",
    "We might have to do a test to know if this difference of distributions is important to take into consideration. For this, we could make an ANOVA test."
   ]
  },
  {
   "cell_type": "code",
   "execution_count": 62,
   "id": "07221615",
   "metadata": {},
   "outputs": [],
   "source": [
    "# Consider normality of price distribution in each group to apply ANOVA "
   ]
  },
  {
   "cell_type": "markdown",
   "id": "8d558182",
   "metadata": {},
   "source": [
    "## TODO's\n",
    "\n",
    "- With one hot encoding, the U of Type could be skipped (multi-collinearity if we have all of them)\n",
    "- Create model for predicting building area / landsize & infer nan -> LR for type of house and landsize\n",
    "- Buildyear based on KNN, \n",
    "- Filter by the outliers \n",
    "- Each model for division\n",
    "- Train/val split\n",
    "- Data with same ranges as test (and same parameters for conversion/normalization)"
   ]
  }
 ],
 "metadata": {
  "kernelspec": {
   "display_name": "Python 3 (ipykernel)",
   "language": "python",
   "name": "python3"
  },
  "language_info": {
   "codemirror_mode": {
    "name": "ipython",
    "version": 3
   },
   "file_extension": ".py",
   "mimetype": "text/x-python",
   "name": "python",
   "nbconvert_exporter": "python",
   "pygments_lexer": "ipython3",
   "version": "3.10.6"
  }
 },
 "nbformat": 4,
 "nbformat_minor": 5
}
