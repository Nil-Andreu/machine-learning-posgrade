{
 "cells": [
  {
   "cell_type": "code",
   "execution_count": 26,
   "id": "105d8f3d",
   "metadata": {},
   "outputs": [
    {
     "data": {
      "text/html": [
       "<style>.container { width: 90% !important}; </style>"
      ],
      "text/plain": [
       "<IPython.core.display.HTML object>"
      ]
     },
     "metadata": {},
     "output_type": "display_data"
    }
   ],
   "source": [
    "import os\n",
    "import warnings\n",
    "\n",
    "import sklearn\n",
    "import numpy as np\n",
    "import pandas as pd\n",
    "import seaborn as sns\n",
    "import matplotlib as mpl\n",
    "import matplotlib.pyplot as plt\n",
    "\n",
    "from IPython.display import display, HTML\n",
    "display(HTML(\"<style>.container { width: 90% !important}; </style>\"))"
   ]
  },
  {
   "cell_type": "code",
   "execution_count": 27,
   "id": "0ede938b",
   "metadata": {},
   "outputs": [],
   "source": [
    "warnings.filterwarnings(\n",
    "    action='ignore',\n",
    "    message='înternal gelsd'\n",
    ")"
   ]
  },
  {
   "cell_type": "code",
   "execution_count": 28,
   "id": "f03bea36",
   "metadata": {},
   "outputs": [],
   "source": [
    "np.random.seed(1)\n",
    "\n",
    "pd.set_option('display.max_rows', 20)\n",
    "pd.set_option('display.max_columns', 500)\n",
    "pd.set_option('display.max_colwidth', 50)"
   ]
  },
  {
   "cell_type": "code",
   "execution_count": 29,
   "id": "8c712c3b",
   "metadata": {},
   "outputs": [],
   "source": [
    "# Matplotlib set label size\n",
    "%matplotlib inline\n",
    "\n",
    "mpl.rc('axes', labelsize=14)\n",
    "mpl.rc('xtick', labelsize=14)\n",
    "mpl.rc('ytick', labelsize=14)\n",
    "\n",
    "plt.rc('font', size=12)\n",
    "plt.rc('figure', figsize=(12, 5))"
   ]
  },
  {
   "cell_type": "code",
   "execution_count": 30,
   "id": "f4153a80",
   "metadata": {},
   "outputs": [],
   "source": [
    "sns.set_style('whitegrid')\n",
    "sns.set_context(\n",
    "    'notebook',\n",
    "    font_scale=1,\n",
    "    rc={\n",
    "        'lines.linewidth': 2,\n",
    "        'font.family': [u'times']\n",
    "    }\n",
    ")"
   ]
  },
  {
   "cell_type": "markdown",
   "id": "9359dd68",
   "metadata": {},
   "source": [
    "## TODO's\n",
    "\n",
    "- Create model for predicting building area / landsize & infer nan\n",
    "- Buildyear based on KNN, \n",
    "- Filter by the outliers \n",
    "- Each model for division\n",
    "- Train/val split\n",
    "- Data with same ranges as test (and same parameters for conversion/normalization)"
   ]
  }
 ],
 "metadata": {
  "kernelspec": {
   "display_name": "Python 3 (ipykernel)",
   "language": "python",
   "name": "python3"
  },
  "language_info": {
   "codemirror_mode": {
    "name": "ipython",
    "version": 3
   },
   "file_extension": ".py",
   "mimetype": "text/x-python",
   "name": "python",
   "nbconvert_exporter": "python",
   "pygments_lexer": "ipython3",
   "version": "3.10.6"
  }
 },
 "nbformat": 4,
 "nbformat_minor": 5
}
