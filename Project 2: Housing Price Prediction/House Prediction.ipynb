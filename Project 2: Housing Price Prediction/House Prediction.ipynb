{
 "cells": [
  {
   "cell_type": "code",
   "execution_count": 26,
   "id": "6760f537",
   "metadata": {},
   "outputs": [
    {
     "data": {
      "text/html": [
       "<style>.container { width: 90% !important}; </style>"
      ],
      "text/plain": [
       "<IPython.core.display.HTML object>"
      ]
     },
     "metadata": {},
     "output_type": "display_data"
    }
   ],
   "source": [
    "import os\n",
    "import warnings\n",
    "\n",
    "import sklearn\n",
    "import numpy as np\n",
    "import pandas as pd\n",
    "import seaborn as sns\n",
    "import matplotlib as mpl\n",
    "import matplotlib.pyplot as plt\n",
    "\n",
    "from IPython.display import display, HTML\n",
    "display(HTML(\"<style>.container { width: 90% !important}; </style>\"))"
   ]
  },
  {
   "cell_type": "code",
   "execution_count": 27,
   "id": "5930bd2d",
   "metadata": {},
   "outputs": [],
   "source": [
    "warnings.filterwarnings(\n",
    "    action='ignore',\n",
    "    message='înternal gelsd'\n",
    ")"
   ]
  },
  {
   "cell_type": "code",
   "execution_count": 28,
   "id": "19df83f5",
   "metadata": {},
   "outputs": [],
   "source": [
    "np.random.seed(1)\n",
    "\n",
    "pd.set_option('display.max_rows', 20)\n",
    "pd.set_option('display.max_columns', 500)\n",
    "pd.set_option('display.max_colwidth', 50)"
   ]
  },
  {
   "cell_type": "code",
   "execution_count": 29,
   "id": "1cea2e3a",
   "metadata": {},
   "outputs": [],
   "source": [
    "# Matplotlib set label size\n",
    "%matplotlib inline\n",
    "\n",
    "mpl.rc('axes', labelsize=14)\n",
    "mpl.rc('xtick', labelsize=14)\n",
    "mpl.rc('ytick', labelsize=14)\n",
    "\n",
    "plt.rc('font', size=12)\n",
    "plt.rc('figure', figsize=(12, 5))"
   ]
  },
  {
   "cell_type": "code",
   "execution_count": 30,
   "id": "85a6f712",
   "metadata": {},
   "outputs": [],
   "source": [
    "sns.set_style('whitegrid')\n",
    "sns.set_context(\n",
    "    'notebook',\n",
    "    font_scale=1,\n",
    "    rc={\n",
    "        'lines.linewidth': 2,\n",
    "        'font.family': [u'times']\n",
    "    }\n",
    ")"
   ]
  },
  {
   "cell_type": "markdown",
   "id": "d7144084",
   "metadata": {},
   "source": [
    "## Data Visualization"
   ]
  },
  {
   "cell_type": "markdown",
   "id": "37a1632f",
   "metadata": {},
   "source": [
    "We have multiple houses, and we want to predict their **market price**.\n",
    "So we are going to explore the features that we have."
   ]
  },
  {
   "cell_type": "code",
   "execution_count": 31,
   "id": "9c984c91",
   "metadata": {},
   "outputs": [],
   "source": [
    "train_set = pd.read_csv('./data/train_set.csv')\n",
    "test_set = pd.read_csv('./data/test_set.csv')"
   ]
  },
  {
   "cell_type": "code",
   "execution_count": 34,
   "id": "b6a92cf4",
   "metadata": {},
   "outputs": [
    {
     "name": "stdout",
     "output_type": "stream",
     "text": [
      "Number of samples:  5432\n",
      "Number of features:  21\n"
     ]
    }
   ],
   "source": [
    "print('Number of samples: ', train_set.shape[0])\n",
    "print('Number of features: ', test_set.shape[1])"
   ]
  },
  {
   "cell_type": "code",
   "execution_count": 35,
   "id": "a93c8d2b",
   "metadata": {},
   "outputs": [
    {
     "data": {
      "text/html": [
       "<div>\n",
       "<style scoped>\n",
       "    .dataframe tbody tr th:only-of-type {\n",
       "        vertical-align: middle;\n",
       "    }\n",
       "\n",
       "    .dataframe tbody tr th {\n",
       "        vertical-align: top;\n",
       "    }\n",
       "\n",
       "    .dataframe thead th {\n",
       "        text-align: right;\n",
       "    }\n",
       "</style>\n",
       "<table border=\"1\" class=\"dataframe\">\n",
       "  <thead>\n",
       "    <tr style=\"text-align: right;\">\n",
       "      <th></th>\n",
       "      <th>index</th>\n",
       "      <th>Suburb</th>\n",
       "      <th>Address</th>\n",
       "      <th>Rooms</th>\n",
       "      <th>Type</th>\n",
       "      <th>Price</th>\n",
       "      <th>Method</th>\n",
       "      <th>SellerG</th>\n",
       "      <th>Date</th>\n",
       "      <th>Distance</th>\n",
       "      <th>Postcode</th>\n",
       "      <th>Bedroom2</th>\n",
       "      <th>Bathroom</th>\n",
       "      <th>Car</th>\n",
       "      <th>Landsize</th>\n",
       "      <th>BuildingArea</th>\n",
       "      <th>YearBuilt</th>\n",
       "      <th>CouncilArea</th>\n",
       "      <th>Lattitude</th>\n",
       "      <th>Longtitude</th>\n",
       "      <th>Regionname</th>\n",
       "      <th>Propertycount</th>\n",
       "    </tr>\n",
       "  </thead>\n",
       "  <tbody>\n",
       "    <tr>\n",
       "      <th>0</th>\n",
       "      <td>0</td>\n",
       "      <td>Aberfeldie</td>\n",
       "      <td>241 Buckley St</td>\n",
       "      <td>4</td>\n",
       "      <td>h</td>\n",
       "      <td>1380000.0</td>\n",
       "      <td>VB</td>\n",
       "      <td>Nelson</td>\n",
       "      <td>12/08/2017</td>\n",
       "      <td>7.5</td>\n",
       "      <td>3040.0</td>\n",
       "      <td>4.0</td>\n",
       "      <td>2.0</td>\n",
       "      <td>2.0</td>\n",
       "      <td>766.0</td>\n",
       "      <td>NaN</td>\n",
       "      <td>NaN</td>\n",
       "      <td>Moonee Valley</td>\n",
       "      <td>-37.75595</td>\n",
       "      <td>144.90551</td>\n",
       "      <td>Western Metropolitan</td>\n",
       "      <td>1543.0</td>\n",
       "    </tr>\n",
       "    <tr>\n",
       "      <th>1</th>\n",
       "      <td>1</td>\n",
       "      <td>Northcote</td>\n",
       "      <td>67 Charles St</td>\n",
       "      <td>2</td>\n",
       "      <td>h</td>\n",
       "      <td>1100000.0</td>\n",
       "      <td>SP</td>\n",
       "      <td>Jellis</td>\n",
       "      <td>20/05/2017</td>\n",
       "      <td>5.5</td>\n",
       "      <td>3070.0</td>\n",
       "      <td>2.0</td>\n",
       "      <td>1.0</td>\n",
       "      <td>1.0</td>\n",
       "      <td>189.0</td>\n",
       "      <td>NaN</td>\n",
       "      <td>NaN</td>\n",
       "      <td>Darebin</td>\n",
       "      <td>-37.77670</td>\n",
       "      <td>144.99240</td>\n",
       "      <td>Northern Metropolitan</td>\n",
       "      <td>11364.0</td>\n",
       "    </tr>\n",
       "    <tr>\n",
       "      <th>2</th>\n",
       "      <td>2</td>\n",
       "      <td>Balwyn North</td>\n",
       "      <td>42 Maud St</td>\n",
       "      <td>3</td>\n",
       "      <td>h</td>\n",
       "      <td>1480000.0</td>\n",
       "      <td>PI</td>\n",
       "      <td>Jellis</td>\n",
       "      <td>15/10/2016</td>\n",
       "      <td>9.2</td>\n",
       "      <td>3104.0</td>\n",
       "      <td>3.0</td>\n",
       "      <td>1.0</td>\n",
       "      <td>4.0</td>\n",
       "      <td>605.0</td>\n",
       "      <td>116.0</td>\n",
       "      <td>1950.0</td>\n",
       "      <td>Boroondara</td>\n",
       "      <td>-37.79510</td>\n",
       "      <td>145.06960</td>\n",
       "      <td>Southern Metropolitan</td>\n",
       "      <td>7809.0</td>\n",
       "    </tr>\n",
       "  </tbody>\n",
       "</table>\n",
       "</div>"
      ],
      "text/plain": [
       "   index        Suburb         Address  Rooms Type      Price Method SellerG  \\\n",
       "0      0    Aberfeldie  241 Buckley St      4    h  1380000.0     VB  Nelson   \n",
       "1      1     Northcote   67 Charles St      2    h  1100000.0     SP  Jellis   \n",
       "2      2  Balwyn North      42 Maud St      3    h  1480000.0     PI  Jellis   \n",
       "\n",
       "         Date  Distance  Postcode  Bedroom2  Bathroom  Car  Landsize  \\\n",
       "0  12/08/2017       7.5    3040.0       4.0       2.0  2.0     766.0   \n",
       "1  20/05/2017       5.5    3070.0       2.0       1.0  1.0     189.0   \n",
       "2  15/10/2016       9.2    3104.0       3.0       1.0  4.0     605.0   \n",
       "\n",
       "   BuildingArea  YearBuilt    CouncilArea  Lattitude  Longtitude  \\\n",
       "0           NaN        NaN  Moonee Valley  -37.75595   144.90551   \n",
       "1           NaN        NaN        Darebin  -37.77670   144.99240   \n",
       "2         116.0     1950.0     Boroondara  -37.79510   145.06960   \n",
       "\n",
       "              Regionname  Propertycount  \n",
       "0   Western Metropolitan         1543.0  \n",
       "1  Northern Metropolitan        11364.0  \n",
       "2  Southern Metropolitan         7809.0  "
      ]
     },
     "execution_count": 35,
     "metadata": {},
     "output_type": "execute_result"
    }
   ],
   "source": [
    "train_set.head(3)"
   ]
  },
  {
   "cell_type": "code",
   "execution_count": 43,
   "id": "a48dc7fd",
   "metadata": {},
   "outputs": [
    {
     "name": "stdout",
     "output_type": "stream",
     "text": [
      "Unique values of index:  5432\n",
      "Unique values of Suburb:  292\n",
      "Unique values of Address:  5400\n",
      "Unique values of Rooms:  8\n",
      "Unique values of Type:  3\n",
      "Unique values of Price:  1458\n",
      "Unique values of Method:  5\n",
      "Unique values of SellerG:  203\n",
      "Unique values of Date:  58\n",
      "Unique values of Distance:  194\n",
      "Unique values of Postcode:  187\n",
      "Unique values of Bedroom2:  11\n",
      "Unique values of Bathroom:  9\n",
      "Unique values of Car:  10\n",
      "Unique values of Landsize:  1131\n",
      "Unique values of BuildingArea:  435\n",
      "Unique values of YearBuilt:  121\n",
      "Unique values of CouncilArea:  32\n",
      "Unique values of Lattitude:  3568\n",
      "Unique values of Longtitude:  3790\n",
      "Unique values of Regionname:  8\n",
      "Unique values of Propertycount:  289\n"
     ]
    }
   ],
   "source": [
    "def diplay_unique_values(df: pd.DataFrame):\n",
    "    for column in train_set.columns.values:\n",
    "        print(f'Unique values of {column}: ', train_set[column].nunique())\n",
    "    \n",
    "diplay_unique_values(train_set)"
   ]
  },
  {
   "cell_type": "markdown",
   "id": "d41ca655",
   "metadata": {},
   "source": [
    "## TODO's\n",
    "\n",
    "- Create model for predicting building area / landsize & infer nan -> LR for type of house and landsize\n",
    "- Buildyear based on KNN, \n",
    "- Filter by the outliers \n",
    "- Each model for division\n",
    "- Train/val split\n",
    "- Data with same ranges as test (and same parameters for conversion/normalization)"
   ]
  }
 ],
 "metadata": {
  "kernelspec": {
   "display_name": "Python 3 (ipykernel)",
   "language": "python",
   "name": "python3"
  },
  "language_info": {
   "codemirror_mode": {
    "name": "ipython",
    "version": 3
   },
   "file_extension": ".py",
   "mimetype": "text/x-python",
   "name": "python",
   "nbconvert_exporter": "python",
   "pygments_lexer": "ipython3",
   "version": "3.10.6"
  }
 },
 "nbformat": 4,
 "nbformat_minor": 5
}
