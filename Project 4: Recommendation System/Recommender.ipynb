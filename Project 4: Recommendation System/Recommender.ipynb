{
 "cells": [
  {
   "cell_type": "markdown",
   "metadata": {
    "id": "zyntHB33NhFN",
    "papermill": {
     "duration": 0.021947,
     "end_time": "2022-02-07T14:56:43.864970",
     "exception": false,
     "start_time": "2022-02-07T14:56:43.843023",
     "status": "completed"
    },
    "tags": []
   },
   "source": [
    "# MINI-PROJECT RECSYS"
   ]
  },
  {
   "cell_type": "markdown",
   "metadata": {
    "id": "qSq3oHtsUS4r"
   },
   "source": [
    "Today we will build a recommender system (RS) using [*ml-100k* dataset](https://grouplens.org/datasets/movielens/100k/). This data consist on 100,000 ratings from 1000 users on 1700 movies and it is tipically used for either comparing results in SOTA papers or for building toy RS."
   ]
  },
  {
   "cell_type": "markdown",
   "metadata": {
    "id": "ZvKeC5b_U3FW"
   },
   "source": [
    "1. You first need to create a folder called *data* and then put inside the downloaded dataset. Thus, your data needs to be stored in:\n",
    "> *./data/ml-100k/all_files_here*.\n",
    "\n",
    "2. Then, in the next cell you can observe how all the model and pipeline configuration is set up. You can modify any parameter if you want to (like the seed, lr, batch_size or embedding dimension...).\n",
    "\n",
    "3. Check also that, in order to allow reproducing the results you achieve, the seed you choose is forwaded to all tensorflow, numpy and os libraries."
   ]
  },
  {
   "cell_type": "code",
   "execution_count": 20,
   "metadata": {
    "execution": {
     "iopub.execute_input": "2022-02-07T14:56:43.910485Z",
     "iopub.status.busy": "2022-02-07T14:56:43.909603Z",
     "iopub.status.idle": "2022-02-07T14:56:50.477928Z",
     "shell.execute_reply": "2022-02-07T14:56:50.477003Z",
     "shell.execute_reply.started": "2022-02-07T14:53:55.207726Z"
    },
    "id": "mtST8SPcNhFO",
    "papermill": {
     "duration": 6.592,
     "end_time": "2022-02-07T14:56:50.478169",
     "exception": false,
     "start_time": "2022-02-07T14:56:43.886169",
     "status": "completed"
    },
    "tags": []
   },
   "outputs": [],
   "source": [
    "import os\n",
    "import csv\n",
    "import pandas as pd\n",
    "import random\n",
    "import numpy as np\n",
    "\n",
    "pd.set_option('display.max_columns', None)"
   ]
  },
  {
   "cell_type": "code",
   "execution_count": 2,
   "metadata": {
    "execution": {
     "iopub.execute_input": "2022-02-07T14:56:43.910485Z",
     "iopub.status.busy": "2022-02-07T14:56:43.909603Z",
     "iopub.status.idle": "2022-02-07T14:56:50.477928Z",
     "shell.execute_reply": "2022-02-07T14:56:50.477003Z",
     "shell.execute_reply.started": "2022-02-07T14:53:55.207726Z"
    },
    "id": "mtST8SPcNhFO",
    "papermill": {
     "duration": 6.592,
     "end_time": "2022-02-07T14:56:50.478169",
     "exception": false,
     "start_time": "2022-02-07T14:56:43.886169",
     "status": "completed"
    },
    "tags": []
   },
   "outputs": [
    {
     "name": "stderr",
     "output_type": "stream",
     "text": [
      "2023-05-11 17:07:35.717110: I tensorflow/core/platform/cpu_feature_guard.cc:193] This TensorFlow binary is optimized with oneAPI Deep Neural Network Library (oneDNN) to use the following CPU instructions in performance-critical operations:  SSE4.1 SSE4.2\n",
      "To enable them in other operations, rebuild TensorFlow with the appropriate compiler flags.\n"
     ]
    }
   ],
   "source": [
    "import tensorflow as tf"
   ]
  },
  {
   "cell_type": "code",
   "execution_count": 4,
   "metadata": {
    "execution": {
     "iopub.execute_input": "2022-02-07T14:56:43.910485Z",
     "iopub.status.busy": "2022-02-07T14:56:43.909603Z",
     "iopub.status.idle": "2022-02-07T14:56:50.477928Z",
     "shell.execute_reply": "2022-02-07T14:56:50.477003Z",
     "shell.execute_reply.started": "2022-02-07T14:53:55.207726Z"
    },
    "id": "mtST8SPcNhFO",
    "papermill": {
     "duration": 6.592,
     "end_time": "2022-02-07T14:56:50.478169",
     "exception": false,
     "start_time": "2022-02-07T14:56:43.886169",
     "status": "completed"
    },
    "tags": []
   },
   "outputs": [],
   "source": [
    "import warnings\n",
    "warnings.simplefilter('ignore')\n",
    "\n",
    "DATA_DIR = 'data/ml-100k'\n",
    "OUTPUT_DIR = './'\n",
    "\n",
    "class Config:\n",
    "    category_col = ['user_id','movie_id','Action','Adventure','Animation',\"Childrens\",'Comedy','Crime',\n",
    "          'Documentary','Drama','Fantasy','Film-Noir','Horror','Musical','Mystery',\n",
    "          'Romance','Sci-Fi','Thriller','War','Western', 'gender','occupation','year']\n",
    "    num_col = ['age']\n",
    "    target_col = ['label']\n",
    "    \n",
    "    epochs=5\n",
    "    batch_size=128\n",
    "    seed=17\n",
    "    embedding_dim=8\n",
    "    lr=1e-4\n",
    "    \n",
    "\n",
    "def seed_everything(seed=1234):\n",
    "    random.seed(seed)\n",
    "    os.environ['PYTHONHASHSEED'] = str(seed)\n",
    "    np.random.seed(seed)\n",
    "    tf.random.set_seed(seed)\n",
    "    os.environ['TF_DETERMINISTIC_OPS'] = '1'\n",
    "    os.environ['TF_CUDNN_DETERMINISTIC'] = '1'\n",
    "\n",
    "    tf.config.threading.set_inter_op_parallelism_threads(1)\n",
    "    tf.config.threading.set_intra_op_parallelism_threads(1)"
   ]
  },
  {
   "cell_type": "code",
   "execution_count": 5,
   "metadata": {
    "id": "3LRvCg-_Wgwx"
   },
   "outputs": [],
   "source": [
    "config=Config()\n",
    "seed_everything(config.seed)"
   ]
  },
  {
   "cell_type": "markdown",
   "metadata": {
    "id": "4YllQeedNhFP",
    "papermill": {
     "duration": 0.01992,
     "end_time": "2022-02-07T14:56:50.520387",
     "exception": false,
     "start_time": "2022-02-07T14:56:50.500467",
     "status": "completed"
    },
    "tags": []
   },
   "source": [
    "## Load data"
   ]
  },
  {
   "cell_type": "markdown",
   "metadata": {
    "id": "PkSuv3nWW0UF"
   },
   "source": [
    "In this section we will load the three different files available on ml-100k dataset: \n",
    "\n",
    "- the data interactions\n",
    "- the user data\n",
    "- the item's data"
   ]
  },
  {
   "cell_type": "code",
   "execution_count": 6,
   "metadata": {
    "execution": {
     "iopub.execute_input": "2022-02-07T14:56:50.578774Z",
     "iopub.status.busy": "2022-02-07T14:56:50.578057Z",
     "iopub.status.idle": "2022-02-07T14:56:50.582005Z",
     "shell.execute_reply": "2022-02-07T14:56:50.582585Z",
     "shell.execute_reply.started": "2022-02-07T14:54:00.449957Z"
    },
    "id": "c3_Tk0TqNhFP",
    "papermill": {
     "duration": 0.041234,
     "end_time": "2022-02-07T14:56:50.582826",
     "exception": false,
     "start_time": "2022-02-07T14:56:50.541592",
     "status": "completed"
    },
    "tags": []
   },
   "outputs": [],
   "source": [
    "def load_data_df():\n",
    "    df = pd.read_csv(os.path.join(DATA_DIR, 'u.data'), sep='\\t', header=None)\n",
    "    df.columns = ['user_id', 'movie_id', 'rating', 'timestamp']\n",
    "    return df\n",
    "\n",
    "def load_item_df():\n",
    "    m_cols = ['movie_id', 'title', 'release_date', 'video_release_date', 'imdb_url',\n",
    "          'unknown','Action','Adventure','Animation',\"Children's\",'Comedy','Crime',\n",
    "          'Documentary','Drama','Fantasy','Film-Noir','Horror','Musical','Mystery',\n",
    "          'Romance','Sci-Fi','Thriller','War','Western',]\n",
    "    item_df = pd.read_csv(os.path.join(DATA_DIR, 'u.item'), sep='|', encoding=\"iso-8859-1\", names=m_cols)\n",
    "    item_df = item_df.rename(columns={\"Children's\":'Childrens'})\n",
    "    return item_df\n",
    "\n",
    "def load_user_df():\n",
    "    u_cols = ['user_id', 'age', 'gender', 'occupation', 'zip_code']\n",
    "    user_df = pd.read_csv(os.path.join(DATA_DIR, 'u.user'), sep='|', encoding=\"iso-8859-1\", names=u_cols)\n",
    "    return user_df"
   ]
  },
  {
   "cell_type": "code",
   "execution_count": 7,
   "metadata": {
    "colab": {
     "base_uri": "https://localhost:8080/",
     "height": 371
    },
    "execution": {
     "iopub.execute_input": "2022-02-07T14:56:50.637465Z",
     "iopub.status.busy": "2022-02-07T14:56:50.636833Z",
     "iopub.status.idle": "2022-02-07T14:56:50.816944Z",
     "shell.execute_reply": "2022-02-07T14:56:50.816359Z",
     "shell.execute_reply.started": "2022-02-07T14:54:00.460660Z"
    },
    "id": "qksTYIYtNhFP",
    "outputId": "569ed82d-b9e2-4f9d-a5ad-9da1f3defd83",
    "papermill": {
     "duration": 0.209114,
     "end_time": "2022-02-07T14:56:50.817093",
     "exception": false,
     "start_time": "2022-02-07T14:56:50.607979",
     "status": "completed"
    },
    "tags": []
   },
   "outputs": [],
   "source": [
    "data_df = load_data_df()\n",
    "item_df = load_item_df()\n",
    "user_df = load_user_df()"
   ]
  },
  {
   "cell_type": "code",
   "execution_count": 23,
   "metadata": {
    "execution": {
     "iopub.execute_input": "2022-02-07T14:56:50.869379Z",
     "iopub.status.busy": "2022-02-07T14:56:50.868668Z",
     "iopub.status.idle": "2022-02-07T14:56:50.885446Z",
     "shell.execute_reply": "2022-02-07T14:56:50.884897Z",
     "shell.execute_reply.started": "2022-02-07T14:54:00.615207Z"
    },
    "id": "cDmn0UHmNhFP",
    "papermill": {
     "duration": 0.046065,
     "end_time": "2022-02-07T14:56:50.885585",
     "exception": false,
     "start_time": "2022-02-07T14:56:50.839520",
     "status": "completed"
    },
    "tags": []
   },
   "outputs": [
    {
     "data": {
      "text/html": [
       "<div>\n",
       "<style scoped>\n",
       "    .dataframe tbody tr th:only-of-type {\n",
       "        vertical-align: middle;\n",
       "    }\n",
       "\n",
       "    .dataframe tbody tr th {\n",
       "        vertical-align: top;\n",
       "    }\n",
       "\n",
       "    .dataframe thead th {\n",
       "        text-align: right;\n",
       "    }\n",
       "</style>\n",
       "<table border=\"1\" class=\"dataframe\">\n",
       "  <thead>\n",
       "    <tr style=\"text-align: right;\">\n",
       "      <th></th>\n",
       "      <th>user_id</th>\n",
       "      <th>movie_id</th>\n",
       "      <th>rating</th>\n",
       "      <th>timestamp</th>\n",
       "    </tr>\n",
       "  </thead>\n",
       "  <tbody>\n",
       "    <tr>\n",
       "      <th>0</th>\n",
       "      <td>196</td>\n",
       "      <td>242</td>\n",
       "      <td>3</td>\n",
       "      <td>881250949</td>\n",
       "    </tr>\n",
       "    <tr>\n",
       "      <th>1</th>\n",
       "      <td>186</td>\n",
       "      <td>302</td>\n",
       "      <td>3</td>\n",
       "      <td>891717742</td>\n",
       "    </tr>\n",
       "    <tr>\n",
       "      <th>2</th>\n",
       "      <td>22</td>\n",
       "      <td>377</td>\n",
       "      <td>1</td>\n",
       "      <td>878887116</td>\n",
       "    </tr>\n",
       "    <tr>\n",
       "      <th>3</th>\n",
       "      <td>244</td>\n",
       "      <td>51</td>\n",
       "      <td>2</td>\n",
       "      <td>880606923</td>\n",
       "    </tr>\n",
       "    <tr>\n",
       "      <th>4</th>\n",
       "      <td>166</td>\n",
       "      <td>346</td>\n",
       "      <td>1</td>\n",
       "      <td>886397596</td>\n",
       "    </tr>\n",
       "  </tbody>\n",
       "</table>\n",
       "</div>"
      ],
      "text/plain": [
       "   user_id  movie_id  rating  timestamp\n",
       "0      196       242       3  881250949\n",
       "1      186       302       3  891717742\n",
       "2       22       377       1  878887116\n",
       "3      244        51       2  880606923\n",
       "4      166       346       1  886397596"
      ]
     },
     "execution_count": 23,
     "metadata": {},
     "output_type": "execute_result"
    }
   ],
   "source": [
    "################################\n",
    "# Excercice 1: \n",
    "#\n",
    "# You can now visualize each of them and get familiar with the data by using dataframe.head() function.\n",
    "#\n",
    "###############################\n",
    "\n",
    "data_df.head()"
   ]
  },
  {
   "cell_type": "code",
   "execution_count": 21,
   "metadata": {},
   "outputs": [
    {
     "data": {
      "text/html": [
       "<div>\n",
       "<style scoped>\n",
       "    .dataframe tbody tr th:only-of-type {\n",
       "        vertical-align: middle;\n",
       "    }\n",
       "\n",
       "    .dataframe tbody tr th {\n",
       "        vertical-align: top;\n",
       "    }\n",
       "\n",
       "    .dataframe thead th {\n",
       "        text-align: right;\n",
       "    }\n",
       "</style>\n",
       "<table border=\"1\" class=\"dataframe\">\n",
       "  <thead>\n",
       "    <tr style=\"text-align: right;\">\n",
       "      <th></th>\n",
       "      <th>movie_id</th>\n",
       "      <th>title</th>\n",
       "      <th>release_date</th>\n",
       "      <th>video_release_date</th>\n",
       "      <th>imdb_url</th>\n",
       "      <th>unknown</th>\n",
       "      <th>Action</th>\n",
       "      <th>Adventure</th>\n",
       "      <th>Animation</th>\n",
       "      <th>Childrens</th>\n",
       "      <th>Comedy</th>\n",
       "      <th>Crime</th>\n",
       "      <th>Documentary</th>\n",
       "      <th>Drama</th>\n",
       "      <th>Fantasy</th>\n",
       "      <th>Film-Noir</th>\n",
       "      <th>Horror</th>\n",
       "      <th>Musical</th>\n",
       "      <th>Mystery</th>\n",
       "      <th>Romance</th>\n",
       "      <th>Sci-Fi</th>\n",
       "      <th>Thriller</th>\n",
       "      <th>War</th>\n",
       "      <th>Western</th>\n",
       "    </tr>\n",
       "  </thead>\n",
       "  <tbody>\n",
       "    <tr>\n",
       "      <th>0</th>\n",
       "      <td>1</td>\n",
       "      <td>Toy Story (1995)</td>\n",
       "      <td>01-Jan-1995</td>\n",
       "      <td>NaN</td>\n",
       "      <td>http://us.imdb.com/M/title-exact?Toy%20Story%2...</td>\n",
       "      <td>0</td>\n",
       "      <td>0</td>\n",
       "      <td>0</td>\n",
       "      <td>1</td>\n",
       "      <td>1</td>\n",
       "      <td>1</td>\n",
       "      <td>0</td>\n",
       "      <td>0</td>\n",
       "      <td>0</td>\n",
       "      <td>0</td>\n",
       "      <td>0</td>\n",
       "      <td>0</td>\n",
       "      <td>0</td>\n",
       "      <td>0</td>\n",
       "      <td>0</td>\n",
       "      <td>0</td>\n",
       "      <td>0</td>\n",
       "      <td>0</td>\n",
       "      <td>0</td>\n",
       "    </tr>\n",
       "    <tr>\n",
       "      <th>1</th>\n",
       "      <td>2</td>\n",
       "      <td>GoldenEye (1995)</td>\n",
       "      <td>01-Jan-1995</td>\n",
       "      <td>NaN</td>\n",
       "      <td>http://us.imdb.com/M/title-exact?GoldenEye%20(...</td>\n",
       "      <td>0</td>\n",
       "      <td>1</td>\n",
       "      <td>1</td>\n",
       "      <td>0</td>\n",
       "      <td>0</td>\n",
       "      <td>0</td>\n",
       "      <td>0</td>\n",
       "      <td>0</td>\n",
       "      <td>0</td>\n",
       "      <td>0</td>\n",
       "      <td>0</td>\n",
       "      <td>0</td>\n",
       "      <td>0</td>\n",
       "      <td>0</td>\n",
       "      <td>0</td>\n",
       "      <td>0</td>\n",
       "      <td>1</td>\n",
       "      <td>0</td>\n",
       "      <td>0</td>\n",
       "    </tr>\n",
       "    <tr>\n",
       "      <th>2</th>\n",
       "      <td>3</td>\n",
       "      <td>Four Rooms (1995)</td>\n",
       "      <td>01-Jan-1995</td>\n",
       "      <td>NaN</td>\n",
       "      <td>http://us.imdb.com/M/title-exact?Four%20Rooms%...</td>\n",
       "      <td>0</td>\n",
       "      <td>0</td>\n",
       "      <td>0</td>\n",
       "      <td>0</td>\n",
       "      <td>0</td>\n",
       "      <td>0</td>\n",
       "      <td>0</td>\n",
       "      <td>0</td>\n",
       "      <td>0</td>\n",
       "      <td>0</td>\n",
       "      <td>0</td>\n",
       "      <td>0</td>\n",
       "      <td>0</td>\n",
       "      <td>0</td>\n",
       "      <td>0</td>\n",
       "      <td>0</td>\n",
       "      <td>1</td>\n",
       "      <td>0</td>\n",
       "      <td>0</td>\n",
       "    </tr>\n",
       "    <tr>\n",
       "      <th>3</th>\n",
       "      <td>4</td>\n",
       "      <td>Get Shorty (1995)</td>\n",
       "      <td>01-Jan-1995</td>\n",
       "      <td>NaN</td>\n",
       "      <td>http://us.imdb.com/M/title-exact?Get%20Shorty%...</td>\n",
       "      <td>0</td>\n",
       "      <td>1</td>\n",
       "      <td>0</td>\n",
       "      <td>0</td>\n",
       "      <td>0</td>\n",
       "      <td>1</td>\n",
       "      <td>0</td>\n",
       "      <td>0</td>\n",
       "      <td>1</td>\n",
       "      <td>0</td>\n",
       "      <td>0</td>\n",
       "      <td>0</td>\n",
       "      <td>0</td>\n",
       "      <td>0</td>\n",
       "      <td>0</td>\n",
       "      <td>0</td>\n",
       "      <td>0</td>\n",
       "      <td>0</td>\n",
       "      <td>0</td>\n",
       "    </tr>\n",
       "    <tr>\n",
       "      <th>4</th>\n",
       "      <td>5</td>\n",
       "      <td>Copycat (1995)</td>\n",
       "      <td>01-Jan-1995</td>\n",
       "      <td>NaN</td>\n",
       "      <td>http://us.imdb.com/M/title-exact?Copycat%20(1995)</td>\n",
       "      <td>0</td>\n",
       "      <td>0</td>\n",
       "      <td>0</td>\n",
       "      <td>0</td>\n",
       "      <td>0</td>\n",
       "      <td>0</td>\n",
       "      <td>1</td>\n",
       "      <td>0</td>\n",
       "      <td>1</td>\n",
       "      <td>0</td>\n",
       "      <td>0</td>\n",
       "      <td>0</td>\n",
       "      <td>0</td>\n",
       "      <td>0</td>\n",
       "      <td>0</td>\n",
       "      <td>0</td>\n",
       "      <td>1</td>\n",
       "      <td>0</td>\n",
       "      <td>0</td>\n",
       "    </tr>\n",
       "  </tbody>\n",
       "</table>\n",
       "</div>"
      ],
      "text/plain": [
       "   movie_id              title release_date  video_release_date  \\\n",
       "0         1   Toy Story (1995)  01-Jan-1995                 NaN   \n",
       "1         2   GoldenEye (1995)  01-Jan-1995                 NaN   \n",
       "2         3  Four Rooms (1995)  01-Jan-1995                 NaN   \n",
       "3         4  Get Shorty (1995)  01-Jan-1995                 NaN   \n",
       "4         5     Copycat (1995)  01-Jan-1995                 NaN   \n",
       "\n",
       "                                            imdb_url  unknown  Action  \\\n",
       "0  http://us.imdb.com/M/title-exact?Toy%20Story%2...        0       0   \n",
       "1  http://us.imdb.com/M/title-exact?GoldenEye%20(...        0       1   \n",
       "2  http://us.imdb.com/M/title-exact?Four%20Rooms%...        0       0   \n",
       "3  http://us.imdb.com/M/title-exact?Get%20Shorty%...        0       1   \n",
       "4  http://us.imdb.com/M/title-exact?Copycat%20(1995)        0       0   \n",
       "\n",
       "   Adventure  Animation  Childrens  Comedy  Crime  Documentary  Drama  \\\n",
       "0          0          1          1       1      0            0      0   \n",
       "1          1          0          0       0      0            0      0   \n",
       "2          0          0          0       0      0            0      0   \n",
       "3          0          0          0       1      0            0      1   \n",
       "4          0          0          0       0      1            0      1   \n",
       "\n",
       "   Fantasy  Film-Noir  Horror  Musical  Mystery  Romance  Sci-Fi  Thriller  \\\n",
       "0        0          0       0        0        0        0       0         0   \n",
       "1        0          0       0        0        0        0       0         1   \n",
       "2        0          0       0        0        0        0       0         1   \n",
       "3        0          0       0        0        0        0       0         0   \n",
       "4        0          0       0        0        0        0       0         1   \n",
       "\n",
       "   War  Western  \n",
       "0    0        0  \n",
       "1    0        0  \n",
       "2    0        0  \n",
       "3    0        0  \n",
       "4    0        0  "
      ]
     },
     "execution_count": 21,
     "metadata": {},
     "output_type": "execute_result"
    }
   ],
   "source": [
    "item_df.head()"
   ]
  },
  {
   "cell_type": "code",
   "execution_count": 22,
   "metadata": {},
   "outputs": [
    {
     "data": {
      "text/html": [
       "<div>\n",
       "<style scoped>\n",
       "    .dataframe tbody tr th:only-of-type {\n",
       "        vertical-align: middle;\n",
       "    }\n",
       "\n",
       "    .dataframe tbody tr th {\n",
       "        vertical-align: top;\n",
       "    }\n",
       "\n",
       "    .dataframe thead th {\n",
       "        text-align: right;\n",
       "    }\n",
       "</style>\n",
       "<table border=\"1\" class=\"dataframe\">\n",
       "  <thead>\n",
       "    <tr style=\"text-align: right;\">\n",
       "      <th></th>\n",
       "      <th>user_id</th>\n",
       "      <th>age</th>\n",
       "      <th>gender</th>\n",
       "      <th>occupation</th>\n",
       "      <th>zip_code</th>\n",
       "    </tr>\n",
       "  </thead>\n",
       "  <tbody>\n",
       "    <tr>\n",
       "      <th>0</th>\n",
       "      <td>1</td>\n",
       "      <td>24</td>\n",
       "      <td>M</td>\n",
       "      <td>technician</td>\n",
       "      <td>85711</td>\n",
       "    </tr>\n",
       "    <tr>\n",
       "      <th>1</th>\n",
       "      <td>2</td>\n",
       "      <td>53</td>\n",
       "      <td>F</td>\n",
       "      <td>other</td>\n",
       "      <td>94043</td>\n",
       "    </tr>\n",
       "    <tr>\n",
       "      <th>2</th>\n",
       "      <td>3</td>\n",
       "      <td>23</td>\n",
       "      <td>M</td>\n",
       "      <td>writer</td>\n",
       "      <td>32067</td>\n",
       "    </tr>\n",
       "    <tr>\n",
       "      <th>3</th>\n",
       "      <td>4</td>\n",
       "      <td>24</td>\n",
       "      <td>M</td>\n",
       "      <td>technician</td>\n",
       "      <td>43537</td>\n",
       "    </tr>\n",
       "    <tr>\n",
       "      <th>4</th>\n",
       "      <td>5</td>\n",
       "      <td>33</td>\n",
       "      <td>F</td>\n",
       "      <td>other</td>\n",
       "      <td>15213</td>\n",
       "    </tr>\n",
       "    <tr>\n",
       "      <th>...</th>\n",
       "      <td>...</td>\n",
       "      <td>...</td>\n",
       "      <td>...</td>\n",
       "      <td>...</td>\n",
       "      <td>...</td>\n",
       "    </tr>\n",
       "    <tr>\n",
       "      <th>938</th>\n",
       "      <td>939</td>\n",
       "      <td>26</td>\n",
       "      <td>F</td>\n",
       "      <td>student</td>\n",
       "      <td>33319</td>\n",
       "    </tr>\n",
       "    <tr>\n",
       "      <th>939</th>\n",
       "      <td>940</td>\n",
       "      <td>32</td>\n",
       "      <td>M</td>\n",
       "      <td>administrator</td>\n",
       "      <td>02215</td>\n",
       "    </tr>\n",
       "    <tr>\n",
       "      <th>940</th>\n",
       "      <td>941</td>\n",
       "      <td>20</td>\n",
       "      <td>M</td>\n",
       "      <td>student</td>\n",
       "      <td>97229</td>\n",
       "    </tr>\n",
       "    <tr>\n",
       "      <th>941</th>\n",
       "      <td>942</td>\n",
       "      <td>48</td>\n",
       "      <td>F</td>\n",
       "      <td>librarian</td>\n",
       "      <td>78209</td>\n",
       "    </tr>\n",
       "    <tr>\n",
       "      <th>942</th>\n",
       "      <td>943</td>\n",
       "      <td>22</td>\n",
       "      <td>M</td>\n",
       "      <td>student</td>\n",
       "      <td>77841</td>\n",
       "    </tr>\n",
       "  </tbody>\n",
       "</table>\n",
       "<p>943 rows × 5 columns</p>\n",
       "</div>"
      ],
      "text/plain": [
       "     user_id  age gender     occupation zip_code\n",
       "0          1   24      M     technician    85711\n",
       "1          2   53      F          other    94043\n",
       "2          3   23      M         writer    32067\n",
       "3          4   24      M     technician    43537\n",
       "4          5   33      F          other    15213\n",
       "..       ...  ...    ...            ...      ...\n",
       "938      939   26      F        student    33319\n",
       "939      940   32      M  administrator    02215\n",
       "940      941   20      M        student    97229\n",
       "941      942   48      F      librarian    78209\n",
       "942      943   22      M        student    77841\n",
       "\n",
       "[943 rows x 5 columns]"
      ]
     },
     "execution_count": 22,
     "metadata": {},
     "output_type": "execute_result"
    }
   ],
   "source": [
    "user_df"
   ]
  },
  {
   "cell_type": "markdown",
   "metadata": {
    "id": "JQzT2XPSYGt1"
   },
   "source": [
    "> #### Please, check the [pandas.merge documentation](https://pandas.pydata.org/docs/reference/api/pandas.DataFrame.merge.html) for more clarifying information about the next exercice.\n"
   ]
  },
  {
   "cell_type": "code",
   "execution_count": 11,
   "metadata": {
    "execution": {
     "iopub.execute_input": "2022-02-07T14:56:51.111184Z",
     "iopub.status.busy": "2022-02-07T14:56:51.109872Z",
     "iopub.status.idle": "2022-02-07T14:56:51.284257Z",
     "shell.execute_reply": "2022-02-07T14:56:51.283561Z",
     "shell.execute_reply.started": "2022-02-07T14:54:00.676659Z"
    },
    "id": "xJ9Fw1AQNhFQ",
    "papermill": {
     "duration": 0.201572,
     "end_time": "2022-02-07T14:56:51.284429",
     "exception": false,
     "start_time": "2022-02-07T14:56:51.082857",
     "status": "completed"
    },
    "tags": []
   },
   "outputs": [],
   "source": [
    "################################\n",
    "# Excercice 2: \n",
    "#\n",
    "# Build the following function in order to merge the data into one single dataframe, which needs to be merged by \n",
    "# 'inner' mode. \n",
    "#\n",
    "###############################\n",
    "\n",
    "def merge_df(data_df, item_df, user_df):\n",
    "    tmp = pd.merge(data_df, item_df)\n",
    "    tmp = pd.merge(tmp, user_df)\n",
    "    \n",
    "    return tmp"
   ]
  },
  {
   "cell_type": "code",
   "execution_count": 14,
   "metadata": {
    "execution": {
     "iopub.execute_input": "2022-02-07T14:56:51.338630Z",
     "iopub.status.busy": "2022-02-07T14:56:51.337606Z",
     "iopub.status.idle": "2022-02-07T14:56:51.428644Z",
     "shell.execute_reply": "2022-02-07T14:56:51.428034Z",
     "shell.execute_reply.started": "2022-02-07T14:54:00.833983Z"
    },
    "id": "tSnXIeM2NhFQ",
    "papermill": {
     "duration": 0.121052,
     "end_time": "2022-02-07T14:56:51.428814",
     "exception": false,
     "start_time": "2022-02-07T14:56:51.307762",
     "status": "completed"
    },
    "tags": []
   },
   "outputs": [
    {
     "data": {
      "text/html": [
       "<div>\n",
       "<style scoped>\n",
       "    .dataframe tbody tr th:only-of-type {\n",
       "        vertical-align: middle;\n",
       "    }\n",
       "\n",
       "    .dataframe tbody tr th {\n",
       "        vertical-align: top;\n",
       "    }\n",
       "\n",
       "    .dataframe thead th {\n",
       "        text-align: right;\n",
       "    }\n",
       "</style>\n",
       "<table border=\"1\" class=\"dataframe\">\n",
       "  <thead>\n",
       "    <tr style=\"text-align: right;\">\n",
       "      <th></th>\n",
       "      <th>user_id</th>\n",
       "      <th>movie_id</th>\n",
       "      <th>rating</th>\n",
       "      <th>timestamp</th>\n",
       "      <th>title</th>\n",
       "      <th>release_date</th>\n",
       "      <th>video_release_date</th>\n",
       "      <th>imdb_url</th>\n",
       "      <th>unknown</th>\n",
       "      <th>Action</th>\n",
       "      <th>...</th>\n",
       "      <th>Mystery</th>\n",
       "      <th>Romance</th>\n",
       "      <th>Sci-Fi</th>\n",
       "      <th>Thriller</th>\n",
       "      <th>War</th>\n",
       "      <th>Western</th>\n",
       "      <th>age</th>\n",
       "      <th>gender</th>\n",
       "      <th>occupation</th>\n",
       "      <th>zip_code</th>\n",
       "    </tr>\n",
       "  </thead>\n",
       "  <tbody>\n",
       "    <tr>\n",
       "      <th>0</th>\n",
       "      <td>196</td>\n",
       "      <td>242</td>\n",
       "      <td>3</td>\n",
       "      <td>881250949</td>\n",
       "      <td>Kolya (1996)</td>\n",
       "      <td>24-Jan-1997</td>\n",
       "      <td>NaN</td>\n",
       "      <td>http://us.imdb.com/M/title-exact?Kolya%20(1996)</td>\n",
       "      <td>0</td>\n",
       "      <td>0</td>\n",
       "      <td>...</td>\n",
       "      <td>0</td>\n",
       "      <td>0</td>\n",
       "      <td>0</td>\n",
       "      <td>0</td>\n",
       "      <td>0</td>\n",
       "      <td>0</td>\n",
       "      <td>49</td>\n",
       "      <td>M</td>\n",
       "      <td>writer</td>\n",
       "      <td>55105</td>\n",
       "    </tr>\n",
       "    <tr>\n",
       "      <th>1</th>\n",
       "      <td>196</td>\n",
       "      <td>257</td>\n",
       "      <td>2</td>\n",
       "      <td>881251577</td>\n",
       "      <td>Men in Black (1997)</td>\n",
       "      <td>04-Jul-1997</td>\n",
       "      <td>NaN</td>\n",
       "      <td>http://us.imdb.com/M/title-exact?Men+in+Black+...</td>\n",
       "      <td>0</td>\n",
       "      <td>1</td>\n",
       "      <td>...</td>\n",
       "      <td>0</td>\n",
       "      <td>0</td>\n",
       "      <td>1</td>\n",
       "      <td>0</td>\n",
       "      <td>0</td>\n",
       "      <td>0</td>\n",
       "      <td>49</td>\n",
       "      <td>M</td>\n",
       "      <td>writer</td>\n",
       "      <td>55105</td>\n",
       "    </tr>\n",
       "    <tr>\n",
       "      <th>2</th>\n",
       "      <td>196</td>\n",
       "      <td>111</td>\n",
       "      <td>4</td>\n",
       "      <td>881251793</td>\n",
       "      <td>Truth About Cats &amp; Dogs, The (1996)</td>\n",
       "      <td>26-Apr-1996</td>\n",
       "      <td>NaN</td>\n",
       "      <td>http://us.imdb.com/M/title-exact?Truth%20About...</td>\n",
       "      <td>0</td>\n",
       "      <td>0</td>\n",
       "      <td>...</td>\n",
       "      <td>0</td>\n",
       "      <td>1</td>\n",
       "      <td>0</td>\n",
       "      <td>0</td>\n",
       "      <td>0</td>\n",
       "      <td>0</td>\n",
       "      <td>49</td>\n",
       "      <td>M</td>\n",
       "      <td>writer</td>\n",
       "      <td>55105</td>\n",
       "    </tr>\n",
       "    <tr>\n",
       "      <th>3</th>\n",
       "      <td>196</td>\n",
       "      <td>25</td>\n",
       "      <td>4</td>\n",
       "      <td>881251955</td>\n",
       "      <td>Birdcage, The (1996)</td>\n",
       "      <td>08-Mar-1996</td>\n",
       "      <td>NaN</td>\n",
       "      <td>http://us.imdb.com/M/title-exact?Birdcage,%20T...</td>\n",
       "      <td>0</td>\n",
       "      <td>0</td>\n",
       "      <td>...</td>\n",
       "      <td>0</td>\n",
       "      <td>0</td>\n",
       "      <td>0</td>\n",
       "      <td>0</td>\n",
       "      <td>0</td>\n",
       "      <td>0</td>\n",
       "      <td>49</td>\n",
       "      <td>M</td>\n",
       "      <td>writer</td>\n",
       "      <td>55105</td>\n",
       "    </tr>\n",
       "    <tr>\n",
       "      <th>4</th>\n",
       "      <td>196</td>\n",
       "      <td>382</td>\n",
       "      <td>4</td>\n",
       "      <td>881251843</td>\n",
       "      <td>Adventures of Priscilla, Queen of the Desert, ...</td>\n",
       "      <td>01-Jan-1994</td>\n",
       "      <td>NaN</td>\n",
       "      <td>http://us.imdb.com/M/title-exact?Adventures%20...</td>\n",
       "      <td>0</td>\n",
       "      <td>0</td>\n",
       "      <td>...</td>\n",
       "      <td>0</td>\n",
       "      <td>0</td>\n",
       "      <td>0</td>\n",
       "      <td>0</td>\n",
       "      <td>0</td>\n",
       "      <td>0</td>\n",
       "      <td>49</td>\n",
       "      <td>M</td>\n",
       "      <td>writer</td>\n",
       "      <td>55105</td>\n",
       "    </tr>\n",
       "  </tbody>\n",
       "</table>\n",
       "<p>5 rows × 31 columns</p>\n",
       "</div>"
      ],
      "text/plain": [
       "   user_id  movie_id  rating  timestamp  \\\n",
       "0      196       242       3  881250949   \n",
       "1      196       257       2  881251577   \n",
       "2      196       111       4  881251793   \n",
       "3      196        25       4  881251955   \n",
       "4      196       382       4  881251843   \n",
       "\n",
       "                                               title release_date  \\\n",
       "0                                       Kolya (1996)  24-Jan-1997   \n",
       "1                                Men in Black (1997)  04-Jul-1997   \n",
       "2                Truth About Cats & Dogs, The (1996)  26-Apr-1996   \n",
       "3                               Birdcage, The (1996)  08-Mar-1996   \n",
       "4  Adventures of Priscilla, Queen of the Desert, ...  01-Jan-1994   \n",
       "\n",
       "   video_release_date                                           imdb_url  \\\n",
       "0                 NaN    http://us.imdb.com/M/title-exact?Kolya%20(1996)   \n",
       "1                 NaN  http://us.imdb.com/M/title-exact?Men+in+Black+...   \n",
       "2                 NaN  http://us.imdb.com/M/title-exact?Truth%20About...   \n",
       "3                 NaN  http://us.imdb.com/M/title-exact?Birdcage,%20T...   \n",
       "4                 NaN  http://us.imdb.com/M/title-exact?Adventures%20...   \n",
       "\n",
       "   unknown  Action  ...  Mystery  Romance  Sci-Fi  Thriller  War  Western  \\\n",
       "0        0       0  ...        0        0       0         0    0        0   \n",
       "1        0       1  ...        0        0       1         0    0        0   \n",
       "2        0       0  ...        0        1       0         0    0        0   \n",
       "3        0       0  ...        0        0       0         0    0        0   \n",
       "4        0       0  ...        0        0       0         0    0        0   \n",
       "\n",
       "   age  gender  occupation  zip_code  \n",
       "0   49       M      writer     55105  \n",
       "1   49       M      writer     55105  \n",
       "2   49       M      writer     55105  \n",
       "3   49       M      writer     55105  \n",
       "4   49       M      writer     55105  \n",
       "\n",
       "[5 rows x 31 columns]"
      ]
     },
     "execution_count": 14,
     "metadata": {},
     "output_type": "execute_result"
    }
   ],
   "source": [
    "df = merge_df(data_df, item_df, user_df)\n",
    "df.head()"
   ]
  },
  {
   "cell_type": "code",
   "execution_count": 15,
   "metadata": {
    "id": "qv_s4rI-YYsT"
   },
   "outputs": [
    {
     "name": "stdout",
     "output_type": "stream",
     "text": [
      "(100000, 31)\n"
     ]
    }
   ],
   "source": [
    "################################\n",
    "# Excercice 3: \n",
    "#\n",
    "# Check with one command line that our merged dataframe contains 100,000 rows and 31 features per each row. \n",
    "#\n",
    "###############################\n",
    "\n",
    "# ...\n",
    "print(df.shape)\n"
   ]
  },
  {
   "cell_type": "markdown",
   "metadata": {
    "id": "MsGfHKZBNhFQ",
    "papermill": {
     "duration": 0.02341,
     "end_time": "2022-02-07T14:56:51.060852",
     "exception": false,
     "start_time": "2022-02-07T14:56:51.037442",
     "status": "completed"
    },
    "tags": []
   },
   "source": [
    "## Preprocess"
   ]
  },
  {
   "cell_type": "markdown",
   "metadata": {
    "id": "pQxmBLs6Yo8w"
   },
   "source": [
    "In this section we will pre-process the data in order to apply some common filters (such as a a film having a mínimum of 10 views) and also some data transformations to allow the model process numerical and categorical features."
   ]
  },
  {
   "cell_type": "code",
   "execution_count": 17,
   "metadata": {
    "execution": {
     "iopub.execute_input": "2022-02-07T14:56:51.482005Z",
     "iopub.status.busy": "2022-02-07T14:56:51.480753Z",
     "iopub.status.idle": "2022-02-07T14:56:52.458991Z",
     "shell.execute_reply": "2022-02-07T14:56:52.458391Z",
     "shell.execute_reply.started": "2022-02-07T14:54:00.927613Z"
    },
    "id": "aDsH9kIANhFQ",
    "papermill": {
     "duration": 1.00638,
     "end_time": "2022-02-07T14:56:52.459150",
     "exception": false,
     "start_time": "2022-02-07T14:56:51.452770",
     "status": "completed"
    },
    "tags": []
   },
   "outputs": [],
   "source": [
    "from sklearn.compose import ColumnTransformer\n",
    "from sklearn.pipeline import Pipeline\n",
    "from sklearn.preprocessing import StandardScaler, OrdinalEncoder\n",
    "from sklearn.impute import SimpleImputer\n",
    "from sklearn.model_selection import train_test_split\n",
    "\n",
    "\n",
    "def build_preprocessor(config): \n",
    "    category_col = config.category_col\n",
    "    num_col = config.num_col\n",
    "    \n",
    "    num_transformer = Pipeline(steps=[\n",
    "        (\"imputer\", SimpleImputer(strategy=\"mean\")),\n",
    "        ('std', (StandardScaler())),])\n",
    "\n",
    "    categorical_transformer = Pipeline(steps=[\n",
    "        (\"imputer\", SimpleImputer(strategy=\"constant\", fill_value='NAN')),\n",
    "        ('oe', (OrdinalEncoder())),\n",
    "        ])\n",
    "    \n",
    "    preprocessor = ColumnTransformer(\n",
    "        transformers=[\n",
    "            ('num', num_transformer, num_col),\n",
    "            ('cat', categorical_transformer, category_col),\n",
    "        ],\n",
    "        remainder=\"drop\")\n",
    "    return preprocessor"
   ]
  },
  {
   "cell_type": "code",
   "execution_count": 18,
   "metadata": {
    "id": "XboaI5jzY_gc"
   },
   "outputs": [],
   "source": [
    "################################\n",
    "# Excercice 4: \n",
    "#\n",
    "# Explain, by understanding the code of the previous cell and by researching in the documentation what is the\n",
    "# function 'build_preprocessor' doing to our data. Answer in the next cell.\n",
    "#\n",
    "###############################"
   ]
  },
  {
   "cell_type": "markdown",
   "metadata": {
    "id": "UWUtPOibZQuy"
   },
   "source": [
    "> **Answer here:** \n",
    "\n",
    "So in this preprocessor, we are automating pipelines for the transformation of our variables. In specific, what we are doing are:\n",
    "\n",
    "- **Numerical variables**: First for the NaN, apply the mean of that variable. Then, scale those values with standarization.\n",
    "- **Categorical variables**: First for the NaN, fill them with the value 'NaN'. Then, apply one-hot encoding.\n",
    "\n",
    "And with the column transformer, we ensure that those transformations are applied to their corresponding data types."
   ]
  },
  {
   "cell_type": "code",
   "execution_count": null,
   "metadata": {
    "id": "Bd-cbnlKZfxA"
   },
   "outputs": [],
   "source": [
    "################################\n",
    "# Excercice 5: \n",
    "#\n",
    "# Now, by following the next steps we propose, please try to come up with the code that corresponds to the  \n",
    "# filters that need to be done. We have splitted the steps into a), b), c) and d)\n",
    "#\n",
    "###############################"
   ]
  },
  {
   "cell_type": "code",
   "execution_count": 19,
   "metadata": {
    "id": "JtuvjlJ-PPsv"
   },
   "outputs": [],
   "source": [
    "category_col = config.category_col\n",
    "num_col = config.num_col\n",
    "target_col = config.target_col[0]"
   ]
  },
  {
   "cell_type": "code",
   "execution_count": 32,
   "metadata": {},
   "outputs": [
    {
     "data": {
      "text/plain": [
       "array([ 242,  257,  111, ...,  374, 1239, 1253])"
      ]
     },
     "execution_count": 32,
     "metadata": {},
     "output_type": "execute_result"
    }
   ],
   "source": []
  },
  {
   "cell_type": "code",
   "execution_count": 34,
   "metadata": {
    "id": "OarpwP_VPRvv"
   },
   "outputs": [
    {
     "name": "stdout",
     "output_type": "stream",
     "text": [
      "(100000, 31)\n",
      "(90849, 31)\n"
     ]
    }
   ],
   "source": [
    "#######\n",
    "# a) Apply the filter in order to just use movies with more than 10 views\n",
    "#######\n",
    "\n",
    "print(df.shape)\n",
    "\n",
    "df = df[df.movie_id.isin(\n",
    "    df.movie_id.unique()[\n",
    "        df.groupby('movie_id')['movie_id'].count().apply(lambda x: x > 10)\n",
    "    ]\n",
    ")]\n",
    "\n",
    "print(df.shape)"
   ]
  },
  {
   "cell_type": "code",
   "execution_count": 40,
   "metadata": {
    "id": "JhJyAaRNPVfj"
   },
   "outputs": [],
   "source": [
    "#######\n",
    "# b) Extract the year from the 'release_date' column.\n",
    "#######\n",
    "\n",
    "df[\"year\"] = pd.to_datetime(df.release_date).dt.year"
   ]
  },
  {
   "cell_type": "code",
   "execution_count": null,
   "metadata": {
    "id": "cLxTA-GSPpb4"
   },
   "outputs": [],
   "source": [
    "#######\n",
    "# c) Create a label column for binary classification from the 'rating' column. If rating >=4, we want the target_col\n",
    "#    to be 1, and if not 0. \n",
    "#######\n",
    "\n",
    "df['label'] = # ...\n",
    "df[target_col]"
   ]
  },
  {
   "cell_type": "code",
   "execution_count": null,
   "metadata": {
    "id": "18Xqn3PiPNUJ"
   },
   "outputs": [],
   "source": [
    "# Build pipeline\n",
    "pp = build_preprocessor(config)\n",
    "pp.fit(df)"
   ]
  },
  {
   "cell_type": "code",
   "execution_count": null,
   "metadata": {
    "execution": {
     "iopub.execute_input": "2022-02-07T14:56:54.518502Z",
     "iopub.status.busy": "2022-02-07T14:56:54.517842Z",
     "iopub.status.idle": "2022-02-07T14:56:55.748768Z",
     "shell.execute_reply": "2022-02-07T14:56:55.748141Z",
     "shell.execute_reply.started": "2022-02-07T14:54:02.922735Z"
    },
    "id": "7m3yXMubNhFQ",
    "papermill": {
     "duration": 1.263564,
     "end_time": "2022-02-07T14:56:55.748932",
     "exception": false,
     "start_time": "2022-02-07T14:56:54.485368",
     "status": "completed"
    },
    "tags": []
   },
   "outputs": [],
   "source": [
    "# Check that it transforms the data (do not do it yet)\n",
    "pp.transform(df).shape"
   ]
  },
  {
   "cell_type": "code",
   "execution_count": null,
   "metadata": {
    "execution": {
     "iopub.execute_input": "2022-02-07T14:56:55.813637Z",
     "iopub.status.busy": "2022-02-07T14:56:55.812568Z",
     "iopub.status.idle": "2022-02-07T14:56:55.948038Z",
     "shell.execute_reply": "2022-02-07T14:56:55.948660Z",
     "shell.execute_reply.started": "2022-02-07T14:54:03.633171Z"
    },
    "id": "biKMWIdpNhFR",
    "papermill": {
     "duration": 0.173481,
     "end_time": "2022-02-07T14:56:55.948883",
     "exception": false,
     "start_time": "2022-02-07T14:56:55.775402",
     "status": "completed"
    },
    "tags": []
   },
   "outputs": [],
   "source": [
    "#######\n",
    "# d) Split the data into 80% (train) and 20% (test) with the imported function 'train_test_split'. Look at the \n",
    "#    documentation and use df['movie_id'] as 'stratify' parameter and config.seed as 'random_state'.\n",
    "#######\n",
    "tra_df, val_df = # ...\n",
    "print(tra_df.shape)\n",
    "print(val_df.shape)"
   ]
  },
  {
   "cell_type": "code",
   "execution_count": null,
   "metadata": {
    "execution": {
     "iopub.execute_input": "2022-02-07T14:56:56.008774Z",
     "iopub.status.busy": "2022-02-07T14:56:56.006579Z",
     "iopub.status.idle": "2022-02-07T14:56:56.036620Z",
     "shell.execute_reply": "2022-02-07T14:56:56.035128Z",
     "shell.execute_reply.started": "2022-02-07T14:54:03.736186Z"
    },
    "id": "Kweq-EjqNhFR",
    "papermill": {
     "duration": 0.061755,
     "end_time": "2022-02-07T14:56:56.036866",
     "exception": false,
     "start_time": "2022-02-07T14:56:55.975111",
     "status": "completed"
    },
    "tags": []
   },
   "outputs": [],
   "source": [
    "assert tra_df.movie_id.nunique() == val_df.movie_id.nunique()\n",
    "assert len(set(val_df.user_id) - set(tra_df.user_id)) == 0"
   ]
  },
  {
   "cell_type": "markdown",
   "metadata": {
    "id": "wVzwt0bLNhFR",
    "papermill": {
     "duration": 0.028326,
     "end_time": "2022-02-07T14:56:56.096963",
     "exception": false,
     "start_time": "2022-02-07T14:56:56.068637",
     "status": "completed"
    },
    "tags": []
   },
   "source": [
    "## Training"
   ]
  },
  {
   "cell_type": "markdown",
   "metadata": {
    "id": "9ff9K4YwbLb5"
   },
   "source": [
    "In this section we will build the model and train it with the data we have been preparing."
   ]
  },
  {
   "cell_type": "code",
   "execution_count": null,
   "metadata": {
    "execution": {
     "iopub.execute_input": "2022-02-07T14:56:56.161899Z",
     "iopub.status.busy": "2022-02-07T14:56:56.160815Z",
     "iopub.status.idle": "2022-02-07T14:56:56.178967Z",
     "shell.execute_reply": "2022-02-07T14:56:56.179429Z",
     "shell.execute_reply.started": "2022-02-07T14:54:03.756202Z"
    },
    "id": "hNBWVMZzNhFR",
    "papermill": {
     "duration": 0.050254,
     "end_time": "2022-02-07T14:56:56.179617",
     "exception": false,
     "start_time": "2022-02-07T14:56:56.129363",
     "status": "completed"
    },
    "tags": []
   },
   "outputs": [],
   "source": [
    "from tensorflow.keras.layers import Input, Embedding, Dense, Flatten, add, Activation, dot\n",
    "from tensorflow.keras.models import Model\n",
    "from tensorflow.keras.regularizers import l2 as l2_reg\n",
    "from tensorflow.python.keras.utils.vis_utils import plot_model\n",
    "from tensorflow.keras.callbacks import EarlyStopping\n",
    "\n",
    "import itertools\n",
    "\n",
    "\n",
    "def build_model(category_num, category_cols, num_cols, K=8, l2=0.0, l2_fm=0.0):\n",
    "\n",
    "    # Numerical features\n",
    "    num_inputs = [Input(shape=(1,), name=col,) for col in num_cols]\n",
    "    # Categorical features\n",
    "    cat_inputs = [Input(shape=(1,), name=col,) for col in category_cols]\n",
    "\n",
    "    inputs = num_inputs + cat_inputs\n",
    "\n",
    "    flatten_layers=[]\n",
    "    # Numerical featrue embedding\n",
    "    for enc_inp, col in zip(num_inputs, num_cols):\n",
    "        # num feature dense\n",
    "        x = Dense(K, name = f'embed_{col}',kernel_regularizer=l2_reg(l2_fm))(enc_inp)\n",
    "        flatten_layers.append(x)\n",
    "\n",
    "    # Category feature embedding\n",
    "    for enc_inp, col in zip(cat_inputs, category_cols):\n",
    "        num_c = category_num[col]\n",
    "        embed_c = Embedding(input_dim=num_c,\n",
    "                            output_dim=K,\n",
    "                            input_length=1,\n",
    "                            name=f'embed_{col}',\n",
    "                            embeddings_regularizer=l2_reg(l2_fm))(enc_inp)\n",
    "        flatten_c = Flatten()(embed_c)\n",
    "        flatten_layers.append(flatten_c)\n",
    "                \n",
    "    # Feature interaction term\n",
    "    fm_layers = []\n",
    "    for emb1,emb2 in itertools.combinations(flatten_layers, 2):\n",
    "        dot_layer = dot([emb1,emb2], axes=1)\n",
    "        fm_layers.append(dot_layer)        \n",
    "\n",
    "    # Linear term\n",
    "    for enc_inp,col in zip(cat_inputs, category_cols):\n",
    "        # embedding\n",
    "        num_c = category_num[col]\n",
    "        embed_c = Embedding(input_dim=num_c,\n",
    "                            output_dim=1,\n",
    "                            input_length=1,\n",
    "                            name=f'linear_{col}',\n",
    "                            embeddings_regularizer=l2_reg(l2_fm))(enc_inp)\n",
    "        flatten_c = Flatten()(embed_c)\n",
    "        fm_layers.append(flatten_c)\n",
    "                \n",
    "    for enc_inp, col in zip(num_inputs, num_cols):\n",
    "        x = Dense(1, name = f'linear_{col}',kernel_regularizer=l2_reg(l2_fm))(enc_inp)\n",
    "        fm_layers.append(x)\n",
    "\n",
    "    # Add all terms\n",
    "    flatten = add(fm_layers)\n",
    "    outputs = Activation('sigmoid',name='outputs')(flatten)\n",
    "    \n",
    "    model = Model(inputs=inputs, outputs=outputs)\n",
    "    return model    "
   ]
  },
  {
   "cell_type": "code",
   "execution_count": null,
   "metadata": {
    "execution": {
     "iopub.execute_input": "2022-02-07T14:56:56.241358Z",
     "iopub.status.busy": "2022-02-07T14:56:56.240355Z",
     "iopub.status.idle": "2022-02-07T14:56:59.112754Z",
     "shell.execute_reply": "2022-02-07T14:56:59.112050Z",
     "shell.execute_reply.started": "2022-02-07T14:54:03.771595Z"
    },
    "id": "K9rw0SHbNhFR",
    "papermill": {
     "duration": 2.906029,
     "end_time": "2022-02-07T14:56:59.112908",
     "exception": false,
     "start_time": "2022-02-07T14:56:56.206879",
     "status": "completed"
    },
    "tags": []
   },
   "outputs": [],
   "source": [
    "################################\n",
    "# Excercice 6: \n",
    "#\n",
    "# Make sure you understand the model from above and then call an instance of it and compile it with \n",
    "# optimizer 'adam', loss 'binary_crossentropy' and metrics 'accuracy'.\n",
    "#\n",
    "###############################\n",
    "\n",
    "category_num = {col: df[col].nunique() for col in config.category_col}\n",
    "\n",
    "model = # instance the model here\n",
    "# complile the model here"
   ]
  },
  {
   "cell_type": "markdown",
   "metadata": {
    "id": "FiuENQADemjm"
   },
   "source": [
    "Now we will build an 'early stopping' callback and also transform the training and validation dataframes with the **pp.transform** function we tested at the beggining of the notebook."
   ]
  },
  {
   "cell_type": "code",
   "execution_count": null,
   "metadata": {
    "execution": {
     "iopub.execute_input": "2022-02-07T14:56:59.230478Z",
     "iopub.status.busy": "2022-02-07T14:56:59.229283Z",
     "iopub.status.idle": "2022-02-07T14:59:11.151139Z",
     "shell.execute_reply": "2022-02-07T14:59:11.150211Z",
     "shell.execute_reply.started": "2022-02-07T14:54:06.161667Z"
    },
    "id": "aO55b03VNhFR",
    "papermill": {
     "duration": 131.954346,
     "end_time": "2022-02-07T14:59:11.151319",
     "exception": false,
     "start_time": "2022-02-07T14:56:59.196973",
     "status": "completed"
    },
    "tags": []
   },
   "outputs": [],
   "source": [
    "cb = [EarlyStopping(monitor='val_loss', min_delta=1e-4, patience=2, verbose=0,)]\n",
    "\n",
    "feature_num = len(config.category_col + config.num_col)\n",
    "tra_inputs = [pp.transform(tra_df)[:, i] for i in range(feature_num)]\n",
    "val_inputs = [pp.transform(val_df)[:, i] for i in range(feature_num)]"
   ]
  },
  {
   "cell_type": "code",
   "execution_count": null,
   "metadata": {
    "id": "Yd54-c5xRxoa"
   },
   "outputs": [],
   "source": [
    "################################\n",
    "# Excercice 7: \n",
    "#\n",
    "# Complete the fit function with the necessary arguments.\n",
    "#\n",
    "###############################\n",
    "\n",
    "history = model.fit(\n",
    "          x= #... ,\n",
    "          y= #... ,\n",
    "          epochs= #... ,\n",
    "          batch_size= #... ,\n",
    "          validation_data= #(... , ... ),\n",
    "          callbacks= # ...\n",
    "         )"
   ]
  },
  {
   "cell_type": "markdown",
   "metadata": {
    "id": "q_zLsCdHfR28"
   },
   "source": [
    "On the next cell we give you a function in order to plot the training and validation curves. Plot them and comment the results:\n",
    "\n",
    "> **Answer here**:"
   ]
  },
  {
   "cell_type": "code",
   "execution_count": null,
   "metadata": {
    "execution": {
     "iopub.execute_input": "2022-02-07T14:59:11.911964Z",
     "iopub.status.busy": "2022-02-07T14:59:11.911304Z",
     "iopub.status.idle": "2022-02-07T14:59:12.369636Z",
     "shell.execute_reply": "2022-02-07T14:59:12.370782Z",
     "shell.execute_reply.started": "2022-02-07T14:55:47.526765Z"
    },
    "id": "phMvWctqNhFR",
    "papermill": {
     "duration": 0.839865,
     "end_time": "2022-02-07T14:59:12.370982",
     "exception": false,
     "start_time": "2022-02-07T14:59:11.531117",
     "status": "completed"
    },
    "tags": []
   },
   "outputs": [],
   "source": [
    "import matplotlib.pyplot as plt\n",
    "def plot_history(history):\n",
    "    # Plot training & validation accuracy values\n",
    "    plt.plot(history.history['accuracy'])\n",
    "    plt.plot(history.history['val_accuracy'])\n",
    "    plt.title('Model accuracy')\n",
    "    plt.ylabel('Accuracy')\n",
    "    plt.xlabel('Epoch')\n",
    "    plt.legend(['Train', 'Valid'], loc='upper left')\n",
    "    plt.show()\n",
    "\n",
    "    # Plot training & validation loss values\n",
    "    plt.plot(history.history['loss'])\n",
    "    plt.plot(history.history['val_loss'])\n",
    "    plt.title('Model loss')\n",
    "    plt.ylabel('Loss')\n",
    "    plt.xlabel('Epoch')\n",
    "    plt.legend(['Train', 'Valid'], loc='upper left')\n",
    "    plt.show()    "
   ]
  },
  {
   "cell_type": "code",
   "execution_count": null,
   "metadata": {
    "id": "Hn3AXo4GfeyR"
   },
   "outputs": [],
   "source": [
    "plot_history(history)"
   ]
  },
  {
   "cell_type": "markdown",
   "metadata": {
    "id": "y3jZCV5HNhFR",
    "papermill": {
     "duration": 0.367017,
     "end_time": "2022-02-07T14:59:13.089492",
     "exception": false,
     "start_time": "2022-02-07T14:59:12.722475",
     "status": "completed"
    },
    "tags": []
   },
   "source": [
    "## Check output"
   ]
  },
  {
   "cell_type": "markdown",
   "metadata": {
    "id": "vO0Df4NXflm_"
   },
   "source": [
    "On this last section, what we propose is to select a user and qualitatively check the prediction results to see what our system would recommend for a given user. You can also try with many different users if you want.\n",
    "\n",
    "What we will do is to select the validation results for a given users (those which the model has not seen) and then compute the predictions for each film on this user to compare whether they make sense with the original ratings the user have given (ground-truth)."
   ]
  },
  {
   "cell_type": "code",
   "execution_count": null,
   "metadata": {
    "execution": {
     "iopub.execute_input": "2022-02-07T14:59:13.813932Z",
     "iopub.status.busy": "2022-02-07T14:59:13.812445Z",
     "iopub.status.idle": "2022-02-07T14:59:13.849061Z",
     "shell.execute_reply": "2022-02-07T14:59:13.848272Z",
     "shell.execute_reply.started": "2022-02-07T14:55:47.870351Z"
    },
    "id": "aYCOX6dDNhFR",
    "papermill": {
     "duration": 0.390776,
     "end_time": "2022-02-07T14:59:13.849225",
     "exception": false,
     "start_time": "2022-02-07T14:59:13.458449",
     "status": "completed"
    },
    "tags": []
   },
   "outputs": [],
   "source": [
    "######################\n",
    "# a) Select user_id and select all his/her validation results\n",
    "#####################\n",
    "user = # ..."
   ]
  },
  {
   "cell_type": "code",
   "execution_count": null,
   "metadata": {
    "id": "VveR1M89TRlS"
   },
   "outputs": [],
   "source": [
    "print(user_df.index)\n",
    "print(feature_num) # feature_num = len(config.category_col + config.num_col)"
   ]
  },
  {
   "cell_type": "code",
   "execution_count": null,
   "metadata": {
    "id": "ZvtNtfbdgOgb"
   },
   "outputs": [],
   "source": [
    "user_inputs = [pp.transform(val_df)[user_df.index, i] for i in range(feature_num)]"
   ]
  },
  {
   "cell_type": "code",
   "execution_count": null,
   "metadata": {
    "execution": {
     "iopub.execute_input": "2022-02-07T14:59:15.286524Z",
     "iopub.status.busy": "2022-02-07T14:59:15.285908Z",
     "iopub.status.idle": "2022-02-07T14:59:24.812074Z",
     "shell.execute_reply": "2022-02-07T14:59:24.810594Z",
     "shell.execute_reply.started": "2022-02-07T14:55:47.911157Z"
    },
    "id": "yZ6vXpBYNhFS",
    "papermill": {
     "duration": 9.884292,
     "end_time": "2022-02-07T14:59:24.812258",
     "exception": false,
     "start_time": "2022-02-07T14:59:14.927966",
     "status": "completed"
    },
    "tags": []
   },
   "outputs": [],
   "source": [
    "######################\n",
    "# b) Predict the results for 'user_inputs' variable and sort their predictions in descending order.\n",
    "#####################\n",
    "\n",
    "user_df['pred'] = # ... compute predictions\n",
    "user_df = # ... sort in descending order"
   ]
  },
  {
   "cell_type": "code",
   "execution_count": null,
   "metadata": {
    "execution": {
     "iopub.execute_input": "2022-02-07T14:59:25.547602Z",
     "iopub.status.busy": "2022-02-07T14:59:25.546613Z",
     "iopub.status.idle": "2022-02-07T14:59:25.562277Z",
     "shell.execute_reply": "2022-02-07T14:59:25.562933Z",
     "shell.execute_reply.started": "2022-02-07T14:55:53.814316Z"
    },
    "id": "MRCCxaWnNhFS",
    "papermill": {
     "duration": 0.377057,
     "end_time": "2022-02-07T14:59:25.563114",
     "exception": false,
     "start_time": "2022-02-07T14:59:25.186057",
     "status": "completed"
    },
    "tags": []
   },
   "outputs": [],
   "source": [
    "# Finally, here we can observe the rating \n",
    "user_df[['title','rating','pred']].head(50)"
   ]
  }
 ],
 "metadata": {
  "colab": {
   "provenance": []
  },
  "kernelspec": {
   "display_name": "Python 3 (ipykernel)",
   "language": "python",
   "name": "python3"
  },
  "language_info": {
   "codemirror_mode": {
    "name": "ipython",
    "version": 3
   },
   "file_extension": ".py",
   "mimetype": "text/x-python",
   "name": "python",
   "nbconvert_exporter": "python",
   "pygments_lexer": "ipython3",
   "version": "3.8.16"
  },
  "papermill": {
   "default_parameters": {},
   "duration": 171.704459,
   "end_time": "2022-02-07T14:59:28.914960",
   "environment_variables": {},
   "exception": null,
   "input_path": "__notebook__.ipynb",
   "output_path": "__notebook__.ipynb",
   "parameters": {},
   "start_time": "2022-02-07T14:56:37.210501",
   "version": "2.2.2"
  },
  "vscode": {
   "interpreter": {
    "hash": "666012cbb8cc1c7061845e2f7461f7a97521a934bdc9e1b6035076912995c67a"
   }
  }
 },
 "nbformat": 4,
 "nbformat_minor": 1
}
