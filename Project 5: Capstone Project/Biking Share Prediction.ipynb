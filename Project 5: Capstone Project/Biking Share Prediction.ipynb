{
 "cells": [
  {
   "cell_type": "markdown",
   "id": "88dc9fc2",
   "metadata": {},
   "source": [
    "## Loading Data"
   ]
  },
  {
   "cell_type": "code",
   "execution_count": 1,
   "id": "25afcda5",
   "metadata": {},
   "outputs": [
    {
     "data": {
      "text/html": [
       "<style>.container { width:90% !important; }</style>"
      ],
      "text/plain": [
       "<IPython.core.display.HTML object>"
      ]
     },
     "metadata": {},
     "output_type": "display_data"
    }
   ],
   "source": [
    "import os\n",
    "import requests\n",
    "import numpy as np\n",
    "import pandas as pd\n",
    "from tqdm import tqdm\n",
    "from datetime import date, datetime\n",
    "\n",
    "from IPython.display import display, HTML\n",
    "display(HTML(\"<style>.container { width:90% !important; }</style>\"))"
   ]
  },
  {
   "cell_type": "code",
   "execution_count": 2,
   "id": "a370b9b7",
   "metadata": {},
   "outputs": [],
   "source": [
    "months = ['Gener', 'Febrer', 'Marc', 'Abril', 'Maig', 'Juny', 'Juliol', 'Agost', 'Setembre', 'Octubre', 'Novembre', 'Desembre']"
   ]
  },
  {
   "cell_type": "code",
   "execution_count": 4,
   "id": "bd7b661f",
   "metadata": {},
   "outputs": [],
   "source": [
    "if not len(os.listdir('./data')):\n",
    "    i2m = list(zip(range(1,13), months))\n",
    "    for year in [2023, 2022, 2021, 2020, 2019]:\n",
    "        for month, month_name in i2m:        \n",
    "            os.system(f\"wget 'https://opendata-ajuntament.barcelona.cat/resources/bcn/BicingBCN/{year}_{month:02d}_{month_name}_BicingNou_ESTACIONS.7z'\")\n",
    "            os.system(f\"7z x '{year}_{month:02d}_{month_name}_BicingNou_ESTACIONS.7z'\")\n",
    "            os.system(f\"rm '{year}_{month:02d}_{month_name}_BicingNou_ESTACIONS.7z'\")"
   ]
  },
  {
   "cell_type": "code",
   "execution_count": 5,
   "id": "6e32984a",
   "metadata": {},
   "outputs": [],
   "source": [
    "df = pd.DataFrame()"
   ]
  },
  {
   "cell_type": "code",
   "execution_count": 6,
   "id": "0bc86167",
   "metadata": {},
   "outputs": [],
   "source": [
    "def get_datetime(miliseconds: int):\n",
    "    return datetime.fromtimestamp(miliseconds)\n",
    "\n",
    "def create_date_df(df: pd.DataFrame):\n",
    "    df['date'] = pd.to_datetime(\n",
    "        df['last_reported'].apply(lambda x: get_datetime(x))\n",
    "    )\n",
    "    \n",
    "    df['year'] = df['date'].dt.year\n",
    "    df['month'] = df['date'].dt.month\n",
    "    df['day'] = df['date'].dt.day\n",
    "    df['hour'] = df['date'].dt.hour\n",
    "    \n",
    "    return df"
   ]
  },
  {
   "cell_type": "code",
   "execution_count": 7,
   "id": "99a97cdc",
   "metadata": {},
   "outputs": [],
   "source": [
    "def create_date_time(row):\n",
    "    return datetime(\n",
    "        int(row['year']),\n",
    "        int(row['month']),\n",
    "        int(row['day']),\n",
    "        int(row['hour'])\n",
    "    )"
   ]
  },
  {
   "cell_type": "code",
   "execution_count": 8,
   "id": "6f9c7f1d",
   "metadata": {},
   "outputs": [],
   "source": [
    "def process_new_df(new_df: pd.DataFrame):\n",
    "    # Unique values\n",
    "    new_df = new_df.drop_duplicates()\n",
    "    new_df = new_df.dropna(subset=['last_reported', 'last_updated'], axis=0)\n",
    "    new_df = new_df.sort_values('last_reported', ascending=True)\n",
    "    \n",
    "    # Convert some categorical into numerical\n",
    "    new_df.status = np.where(new_df.status == 'IN_SERVICE', 1, 0)\n",
    "    new_df.is_charging_station = np.where(new_df.is_charging_station, 1, 0)\n",
    "    \n",
    "    # Create the dates from timestamp and group statistics\n",
    "    new_df = create_date_df(new_df)\n",
    "    new_df = new_df\\\n",
    "        .groupby(['station_id', 'year', 'month', 'day', 'hour'])\\\n",
    "        .mean(numeric_only=True)\\\n",
    "        .reset_index()\n",
    "    \n",
    "    # Creation of the dates\n",
    "    new_df['date_time'] = new_df.apply(lambda row: create_date_time(row), axis=1)\n",
    "    new_df['date'] = new_df.date_time.dt.date\n",
    "    \n",
    "    return new_df"
   ]
  },
  {
   "cell_type": "code",
   "execution_count": null,
   "id": "f4eeb922",
   "metadata": {},
   "outputs": [
    {
     "name": "stderr",
     "output_type": "stream",
     "text": [
      " 24%|███████████████████████████▎                                                                                      | 12/50 [02:42<08:59, 14.19s/it]"
     ]
    }
   ],
   "source": [
    "for csv in tqdm(os.listdir('./data')):\n",
    "    new_df = pd.read_csv('./data/' + csv)\n",
    "    new_df = process_new_df(new_df)\n",
    "    \n",
    "    # Filter out incorrect dates\n",
    "    year, month, *_ = csv.split('_')\n",
    "    year, month = int(year), int(month)\n",
    "    new_df = new_df[(new_df.year == year) & (new_df.month == month)]\n",
    "    \n",
    "    df = pd.concat(\n",
    "        [df, new_df], \n",
    "        axis=0\n",
    "    )\n"
   ]
  },
  {
   "cell_type": "code",
   "execution_count": null,
   "id": "bc800ba5",
   "metadata": {},
   "outputs": [],
   "source": [
    "# Handle NaN: Assume that the NaN in traffic is 0\n",
    "df.traffic = df.traffic.replace(np.nan, 0)"
   ]
  },
  {
   "cell_type": "code",
   "execution_count": null,
   "id": "6a9f25ed",
   "metadata": {},
   "outputs": [],
   "source": [
    "df.shape"
   ]
  },
  {
   "cell_type": "code",
   "execution_count": null,
   "id": "ecc6eb12",
   "metadata": {},
   "outputs": [],
   "source": [
    "df.head()"
   ]
  },
  {
   "cell_type": "markdown",
   "id": "d1cf4c81",
   "metadata": {},
   "source": [
    "### Add station information"
   ]
  },
  {
   "cell_type": "code",
   "execution_count": null,
   "id": "d1b61d63",
   "metadata": {},
   "outputs": [],
   "source": [
    "def get_station_json(\n",
    "    url: str = 'https://opendata-ajuntament.barcelona.cat/data/dataset/bd2462df-6e1e-4e37-8205-a4b8e7313b84/resource/e5adca8d-98bf-42c3-9b9c-364ef0a80494/download'\n",
    "):\n",
    "    \n",
    "    res = requests.get(url)\n",
    "    return res.json()"
   ]
  },
  {
   "cell_type": "code",
   "execution_count": null,
   "id": "e5b28342",
   "metadata": {},
   "outputs": [],
   "source": [
    "station_json = get_station_json()"
   ]
  },
  {
   "cell_type": "code",
   "execution_count": null,
   "id": "5d0a6759",
   "metadata": {},
   "outputs": [],
   "source": [
    "station_df = pd.DataFrame(station_json['data']['stations'])\n",
    "station_df.head()"
   ]
  },
  {
   "cell_type": "code",
   "execution_count": null,
   "id": "fe6c5c1e",
   "metadata": {},
   "outputs": [],
   "source": [
    "# Some fields are not going to be used\n",
    "station_drop_fields = [\n",
    "    'physical_configuration',          # unique value: ELECTRICBIKESTATION\n",
    "    '_ride_code_support',              # unique value: all True\n",
    "    'nearby_distance',                 # unique value: 1000\n",
    "    'name', 'address', 'post_code',    # too specific to each of the stations\n",
    "    'is_charging_station',             # already in the main df\n",
    "    'rental_uris', 'cross_street',     # vast majority are none\n",
    "    \n",
    "]"
   ]
  },
  {
   "cell_type": "code",
   "execution_count": null,
   "id": "80d7e689",
   "metadata": {},
   "outputs": [],
   "source": [
    "station_df = station_df.drop(station_drop_fields, axis=1)\n",
    "station_df.head()"
   ]
  },
  {
   "cell_type": "code",
   "execution_count": null,
   "id": "8436038c",
   "metadata": {},
   "outputs": [],
   "source": [
    "df = pd.merge(df, station_df)"
   ]
  },
  {
   "cell_type": "code",
   "execution_count": null,
   "id": "1f465221",
   "metadata": {},
   "outputs": [],
   "source": [
    "df.head()"
   ]
  },
  {
   "cell_type": "markdown",
   "id": "ef7af462",
   "metadata": {},
   "source": [
    "### Add Weather information"
   ]
  },
  {
   "cell_type": "code",
   "execution_count": null,
   "id": "27198904",
   "metadata": {},
   "outputs": [],
   "source": [
    "df['date'].min()"
   ]
  },
  {
   "cell_type": "markdown",
   "id": "f23fae44",
   "metadata": {},
   "source": [
    "### Add Covid Information\n",
    "\n",
    "The daily covid cases that there were in Barcelona ([source](https://www.amb.cat/en/web/area-metropolitana/dades-obertes/cataleg/detall/-/dataset/covid-19-positive-cases/9147624/11692))"
   ]
  },
  {
   "cell_type": "code",
   "execution_count": null,
   "id": "d29c1b58",
   "metadata": {},
   "outputs": [],
   "source": [
    "def get_covid_json(\n",
    "    url: str = \"https://opendata-ajuntament.barcelona.cat/data/api/action/datastore_search_sql?sql=SELECT%20*%20from%20%22f627ac0a-d05f-416d-9773-eeb464a3fc44%22%20WHERE%20%22Nom_Indicador%22%20LIKE%20%27Casos%20de%20COVID-19%20a%20Barcelona%20(diari)%27\"\n",
    "):\n",
    "    \n",
    "    res_covid = requests.get(url)\n",
    "    return res_covid.json()['result']['records']"
   ]
  },
  {
   "cell_type": "code",
   "execution_count": null,
   "id": "eaa114b3",
   "metadata": {},
   "outputs": [],
   "source": [
    "covid_json = get_covid_json()"
   ]
  },
  {
   "cell_type": "code",
   "execution_count": null,
   "id": "c3d47fa9",
   "metadata": {},
   "outputs": [],
   "source": [
    "covid_df = pd.DataFrame(covid_json)\n",
    "covid_df.head()"
   ]
  },
  {
   "cell_type": "code",
   "execution_count": null,
   "id": "a8d0ff1b",
   "metadata": {},
   "outputs": [],
   "source": [
    "covid_df.shape"
   ]
  },
  {
   "cell_type": "code",
   "execution_count": null,
   "id": "f8337271",
   "metadata": {},
   "outputs": [],
   "source": [
    "covid_df = covid_df[['Data_Indicador', 'Valor']]\n",
    "covid_df.head()"
   ]
  },
  {
   "cell_type": "code",
   "execution_count": null,
   "id": "c55c4af4",
   "metadata": {},
   "outputs": [],
   "source": [
    "covid_df['date'] = pd.to_datetime(covid_df.Data_Indicador).dt.date"
   ]
  },
  {
   "cell_type": "code",
   "execution_count": null,
   "id": "4ff8cd63",
   "metadata": {},
   "outputs": [],
   "source": [
    "covid_df = covid_df\\\n",
    "    .drop('Data_Indicador', axis=1)\\\n",
    "    .rename(columns={'Valor': 'covid_cases'})"
   ]
  },
  {
   "cell_type": "code",
   "execution_count": null,
   "id": "0a57c9be",
   "metadata": {},
   "outputs": [],
   "source": [
    "df = pd.merge(df, covid_df, how='left')"
   ]
  },
  {
   "cell_type": "markdown",
   "id": "8351a89a",
   "metadata": {},
   "source": [
    "We only have NaN values afterwards (not previous to the start of Covid).\n",
    "\n",
    "For those NaN, we will replace them by a percentile that is at the bottom (still not 0, as there are cases)."
   ]
  },
  {
   "cell_type": "code",
   "execution_count": null,
   "id": "8dde591e",
   "metadata": {},
   "outputs": [],
   "source": [
    "df.covid_cases = df.covid_cases.astype('float')"
   ]
  },
  {
   "cell_type": "code",
   "execution_count": null,
   "id": "98611414",
   "metadata": {},
   "outputs": [],
   "source": [
    "df.covid_cases.describe()"
   ]
  },
  {
   "cell_type": "code",
   "execution_count": null,
   "id": "4723259e",
   "metadata": {},
   "outputs": [],
   "source": [
    "df.covid_cases.hist(bins=50)"
   ]
  },
  {
   "cell_type": "code",
   "execution_count": null,
   "id": "2e4286ed",
   "metadata": {},
   "outputs": [],
   "source": [
    "def fill_with_percentile(\n",
    "    df: pd.DataFrame, \n",
    "    column: str, \n",
    "    percentile: float = 0.03,\n",
    "    logging: bool = True\n",
    "):\n",
    "    \n",
    "    quantile_value = df[column].quantile(percentile)\n",
    "    \n",
    "    if logging:\n",
    "        print(f'Percentile {percentile} value is: ', quantile_value)\n",
    "        \n",
    "    df[column] = df[column].fillna(quantile_covid_cases)\n",
    "    \n",
    "    return df"
   ]
  },
  {
   "cell_type": "code",
   "execution_count": null,
   "id": "986782c8",
   "metadata": {},
   "outputs": [],
   "source": [
    "df = fill_with_percentile(df, 'covid_cases')"
   ]
  },
  {
   "cell_type": "markdown",
   "id": "a2982fdf",
   "metadata": {},
   "source": [
    "### Datetime Information"
   ]
  },
  {
   "cell_type": "code",
   "execution_count": null,
   "id": "e1ffae46",
   "metadata": {},
   "outputs": [],
   "source": [
    "# Would need to get the dummies for them\n",
    "date_time_fields = ['day_info', 'hour_info', 'month_info']"
   ]
  },
  {
   "cell_type": "markdown",
   "id": "23f67d39",
   "metadata": {},
   "source": [
    "Related to the **day** (weekend)."
   ]
  },
  {
   "cell_type": "code",
   "execution_count": null,
   "id": "ab0eb776",
   "metadata": {},
   "outputs": [],
   "source": [
    "def get_day_info(date_time):\n",
    "    return 'weekend' if date_time.weekday() in [5, 6] else 'weekday'"
   ]
  },
  {
   "cell_type": "code",
   "execution_count": null,
   "id": "9b081a87",
   "metadata": {},
   "outputs": [],
   "source": [
    "df['day_info'] = df.date_time.apply(lambda x: get_day_info(x))"
   ]
  },
  {
   "cell_type": "markdown",
   "id": "7ebfe666",
   "metadata": {},
   "source": [
    "Related to the **hour** (which time of day it was)."
   ]
  },
  {
   "cell_type": "code",
   "execution_count": null,
   "id": "a91e9d99",
   "metadata": {},
   "outputs": [],
   "source": [
    "def get_hour_info(date_time):\n",
    "    if date_time.hour in range(5):\n",
    "        return 'late_night'\n",
    "\n",
    "    elif date_time.hour in range(5, 9):\n",
    "        return 'early_morning'\n",
    "\n",
    "    elif date_time.hour in range(9, 13):\n",
    "        return 'morning'\n",
    "    \n",
    "    elif date_time.hour in range(13, 17):\n",
    "        return 'noon'\n",
    "    \n",
    "    elif date_time.hour in range(17, 21):\n",
    "        return 'eve'\n",
    "    \n",
    "    return 'night'"
   ]
  },
  {
   "cell_type": "code",
   "execution_count": null,
   "id": "a0adf87e",
   "metadata": {},
   "outputs": [],
   "source": [
    "df['hour_info'] = df.date_time.apply(lambda x: get_hour_info(x))"
   ]
  },
  {
   "cell_type": "markdown",
   "id": "8350cce2",
   "metadata": {},
   "source": [
    "Related to the **month** (season)."
   ]
  },
  {
   "cell_type": "code",
   "execution_count": null,
   "id": "20ef82b3",
   "metadata": {},
   "outputs": [],
   "source": [
    "def get_month_info(date):\n",
    "    if date.month in (3, 4, 5):\n",
    "        return 'spring'\n",
    "    \n",
    "    elif date.month in (6, 7, 8):\n",
    "        return 'summer'\n",
    "    \n",
    "    elif date.month in (9, 10, 11):\n",
    "        return 'autumn'\n",
    "    \n",
    "    return 'winter'"
   ]
  },
  {
   "cell_type": "code",
   "execution_count": null,
   "id": "3d82d19a",
   "metadata": {},
   "outputs": [],
   "source": [
    "df['month_info'] = df.date_time.apply(lambda x: get_month_info(x))"
   ]
  },
  {
   "cell_type": "code",
   "execution_count": null,
   "id": "1ac91b86",
   "metadata": {},
   "outputs": [],
   "source": [
    "df.head()"
   ]
  },
  {
   "cell_type": "markdown",
   "id": "16d2dac2",
   "metadata": {},
   "source": [
    "### Train / Val / Test Split"
   ]
  },
  {
   "cell_type": "code",
   "execution_count": null,
   "id": "af6afb39",
   "metadata": {},
   "outputs": [],
   "source": [
    "df.head()"
   ]
  },
  {
   "cell_type": "code",
   "execution_count": null,
   "id": "fa8d5936",
   "metadata": {},
   "outputs": [],
   "source": [
    "train_df = df[df.year != 2023]\n",
    "test_df = df[df.year == 2023]"
   ]
  },
  {
   "cell_type": "code",
   "execution_count": null,
   "id": "ac323983",
   "metadata": {},
   "outputs": [],
   "source": [
    "print('Train size: ', train_df.shape[0])\n",
    "print('Test size: ', test_df.shape[0])"
   ]
  },
  {
   "cell_type": "code",
   "execution_count": null,
   "id": "f1e67302",
   "metadata": {},
   "outputs": [],
   "source": [
    "valid_df = test_df[test_df.month <= 3]\n",
    "test_df = test_df[test_df.month > 3]"
   ]
  },
  {
   "cell_type": "code",
   "execution_count": null,
   "id": "a9b76db8",
   "metadata": {},
   "outputs": [],
   "source": [
    "print('Valid size: ', valid_df.shape[0])\n",
    "print('Test size: ', test_df.shape[0])"
   ]
  },
  {
   "cell_type": "markdown",
   "id": "e28c1820",
   "metadata": {},
   "source": [
    "### Rolling Window\n",
    "\n",
    "We need to create a rolling window for each of the data available."
   ]
  },
  {
   "cell_type": "code",
   "execution_count": null,
   "id": "1c312652",
   "metadata": {},
   "outputs": [],
   "source": []
  },
  {
   "cell_type": "code",
   "execution_count": null,
   "id": "ff2cd345",
   "metadata": {},
   "outputs": [],
   "source": [
    "train_df.head()"
   ]
  },
  {
   "cell_type": "code",
   "execution_count": null,
   "id": "4b54eed3",
   "metadata": {},
   "outputs": [],
   "source": []
  },
  {
   "cell_type": "markdown",
   "id": "36e330f4",
   "metadata": {},
   "source": [
    "**TODO**: \n",
    "- Window function: ctx-4, ctx-3, ..."
   ]
  },
  {
   "cell_type": "markdown",
   "id": "ff997945",
   "metadata": {},
   "source": [
    "### Exploration"
   ]
  }
 ],
 "metadata": {
  "kernelspec": {
   "display_name": "Python 3 (ipykernel)",
   "language": "python",
   "name": "python3"
  },
  "language_info": {
   "codemirror_mode": {
    "name": "ipython",
    "version": 3
   },
   "file_extension": ".py",
   "mimetype": "text/x-python",
   "name": "python",
   "nbconvert_exporter": "python",
   "pygments_lexer": "ipython3",
   "version": "3.8.10"
  }
 },
 "nbformat": 4,
 "nbformat_minor": 5
}
