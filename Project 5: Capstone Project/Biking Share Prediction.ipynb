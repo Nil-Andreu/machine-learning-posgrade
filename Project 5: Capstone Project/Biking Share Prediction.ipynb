{
 "cells": [
  {
   "cell_type": "markdown",
   "id": "88dc9fc2",
   "metadata": {},
   "source": [
    "## Loading Data"
   ]
  },
  {
   "cell_type": "code",
   "execution_count": 1,
   "id": "25afcda5",
   "metadata": {},
   "outputs": [
    {
     "data": {
      "text/html": [
       "<style>.container { width:90% !important; }</style>"
      ],
      "text/plain": [
       "<IPython.core.display.HTML object>"
      ]
     },
     "metadata": {},
     "output_type": "display_data"
    }
   ],
   "source": [
    "import os\n",
    "import ast\n",
    "import typing\n",
    "import requests\n",
    "import numpy as np\n",
    "import pandas as pd\n",
    "import seaborn as sns\n",
    "from tqdm import tqdm\n",
    "from datetime import date, datetime\n",
    "import matplotlib as plt\n",
    "\n",
    "pd.set_option('display.max_columns', None)\n",
    "\n",
    "from IPython.display import display, HTML\n",
    "display(HTML(\"<style>.container { width:90% !important; }</style>\"))"
   ]
  },
  {
   "cell_type": "code",
   "execution_count": 2,
   "id": "83e438e0",
   "metadata": {},
   "outputs": [],
   "source": [
    "import warnings\n",
    "warnings.filterwarnings('ignore')"
   ]
  },
  {
   "cell_type": "code",
   "execution_count": 3,
   "id": "a370b9b7",
   "metadata": {},
   "outputs": [],
   "source": [
    "months = ['Gener', 'Febrer', 'Marc', 'Abril', 'Maig', 'Juny', 'Juliol', 'Agost', 'Setembre', 'Octubre', 'Novembre', 'Desembre']"
   ]
  },
  {
   "cell_type": "code",
   "execution_count": 4,
   "id": "67376a3a-033b-4684-9487-98191e00e39c",
   "metadata": {
    "tags": []
   },
   "outputs": [],
   "source": [
    "if not os.path.isdir(\"data\"):\n",
    "    os.makedirs(\"data\")\n",
    "\n",
    "if not len(os.listdir('./data')):\n",
    "    i2m = list(zip(range(1,13), months))\n",
    "    os.chdir(\"data\")\n",
    "    for year in [2023, 2022, 2021, 2020, 2019]:\n",
    "        for month, month_name in i2m:        \n",
    "            os.system(f\"wget 'https://opendata-ajuntament.barcelona.cat/resources/bcn/BicingBCN/{year}_{month:02d}_{month_name}_BicingNou_ESTACIONS.7z'\")\n",
    "            os.system(f\"7z x '{year}_{month:02d}_{month_name}_BicingNou_ESTACIONS.7z'\")\n",
    "            os.system(f\"rm '{year}_{month:02d}_{month_name}_BicingNou_ESTACIONS.7z'\")\n",
    "    os.chdir(\"..\")"
   ]
  },
  {
   "cell_type": "code",
   "execution_count": 5,
   "id": "6e32984a",
   "metadata": {},
   "outputs": [],
   "source": [
    "df = pd.DataFrame()"
   ]
  },
  {
   "cell_type": "code",
   "execution_count": 6,
   "id": "0bc86167",
   "metadata": {},
   "outputs": [],
   "source": [
    "def get_datetime(miliseconds: int):\n",
    "    return datetime.fromtimestamp(miliseconds)\n",
    "\n",
    "def create_date_df(df: pd.DataFrame):\n",
    "    df['date'] = pd.to_datetime(\n",
    "        df['last_reported'].apply(lambda x: get_datetime(x))\n",
    "    )\n",
    "    \n",
    "    df['month'] = df['date'].dt.month\n",
    "    df['year'] = df['date'].dt.year\n",
    "    df['hour'] = df['date'].dt.hour\n",
    "    df['day'] = df['date'].dt.day\n",
    "    \n",
    "    return df"
   ]
  },
  {
   "cell_type": "code",
   "execution_count": 7,
   "id": "99a97cdc",
   "metadata": {},
   "outputs": [],
   "source": [
    "def create_date_time(row):\n",
    "    return datetime(\n",
    "        int(row['year']),\n",
    "        int(row['month']),\n",
    "        int(row['day']),\n",
    "        int(row['hour'])\n",
    "    )"
   ]
  },
  {
   "cell_type": "code",
   "execution_count": 8,
   "id": "6f9c7f1d",
   "metadata": {},
   "outputs": [],
   "source": [
    "def process_new_df(new_df: pd.DataFrame):\n",
    "    # Unique values\n",
    "    new_df = new_df.drop_duplicates()\n",
    "    new_df = new_df.dropna(subset=['last_reported', 'last_updated'], axis=0)\n",
    "    new_df = new_df.sort_values('last_reported', ascending=True)\n",
    "    \n",
    "    # Convert some categorical into numerical\n",
    "    new_df.status = np.where(new_df.status == 'IN_SERVICE', 1, 0)\n",
    "    new_df.is_charging_station = np.where(new_df.is_charging_station, 1, 0)\n",
    "    \n",
    "    # Create the dates from timestamp and group statistics\n",
    "    new_df = create_date_df(new_df)\n",
    "    new_df = new_df\\\n",
    "        .groupby(['station_id', 'year', 'month', 'day', 'hour'])\\\n",
    "        .mean(numeric_only=True)\\\n",
    "        .reset_index()\n",
    "    \n",
    "    # Creation of the dates\n",
    "    new_df['date_time'] = new_df.apply(lambda row: create_date_time(row), axis=1)\n",
    "    new_df['date'] = new_df.date_time.dt.date\n",
    "    \n",
    "    # Create percentage of docks availability\n",
    "    #Maria: this is incorrect\n",
    "    new_df['percentage_docks_available'] = new_df['num_bikes_available'] / (new_df['num_docks_available'] + new_df['num_bikes_available'])\n",
    "\n",
    "    return new_df"
   ]
  },
  {
   "cell_type": "code",
   "execution_count": 9,
   "id": "bc238530-536a-4b23-b0f1-e36994874973",
   "metadata": {
    "tags": []
   },
   "outputs": [
    {
     "name": "stderr",
     "output_type": "stream",
     "text": [
      "100%|███████████████████████████████████████████| 51/51 [25:20<00:00, 29.82s/it]\n"
     ]
    }
   ],
   "source": [
    "for csv in tqdm(os.listdir('./data')):\n",
    "    new_df = pd.read_csv('./data/' + csv)\n",
    "    new_df = process_new_df(new_df)\n",
    "    \n",
    "    # Filter out incorrect dates\n",
    "    year, month, *_ = csv.split('_')\n",
    "    year, month = int(year), int(month)\n",
    "    new_df = new_df[(new_df.year == year) & (new_df.month == month)]\n",
    "    \n",
    "    df = pd.concat(\n",
    "        [df, new_df], \n",
    "        axis=0\n",
    "    )"
   ]
  },
  {
   "cell_type": "code",
   "execution_count": 10,
   "id": "bc800ba5",
   "metadata": {},
   "outputs": [],
   "source": [
    "# Handle NaN: Assume that the NaN in traffic is 0\n",
    "df.traffic = df.traffic.replace(np.nan, 0)"
   ]
  },
  {
   "cell_type": "code",
   "execution_count": 11,
   "id": "6a9f25ed",
   "metadata": {},
   "outputs": [
    {
     "data": {
      "text/plain": [
       "(16723475, 21)"
      ]
     },
     "execution_count": 11,
     "metadata": {},
     "output_type": "execute_result"
    }
   ],
   "source": [
    "df.shape"
   ]
  },
  {
   "cell_type": "code",
   "execution_count": 13,
   "id": "14dfedf4-c47b-4b13-990e-275f518f6b74",
   "metadata": {
    "tags": []
   },
   "outputs": [
    {
     "data": {
      "text/plain": [
       "2022    4423951\n",
       "2021    4405069\n",
       "2020    3576052\n",
       "2019    2624539\n",
       "2023    1693864\n",
       "Name: year, dtype: int64"
      ]
     },
     "execution_count": 13,
     "metadata": {},
     "output_type": "execute_result"
    }
   ],
   "source": [
    "df['year'].value_counts()"
   ]
  },
  {
   "cell_type": "code",
   "execution_count": 14,
   "id": "ecc6eb12",
   "metadata": {},
   "outputs": [
    {
     "data": {
      "text/html": [
       "<div>\n",
       "<style scoped>\n",
       "    .dataframe tbody tr th:only-of-type {\n",
       "        vertical-align: middle;\n",
       "    }\n",
       "\n",
       "    .dataframe tbody tr th {\n",
       "        vertical-align: top;\n",
       "    }\n",
       "\n",
       "    .dataframe thead th {\n",
       "        text-align: right;\n",
       "    }\n",
       "</style>\n",
       "<table border=\"1\" class=\"dataframe\">\n",
       "  <thead>\n",
       "    <tr style=\"text-align: right;\">\n",
       "      <th></th>\n",
       "      <th>station_id</th>\n",
       "      <th>year</th>\n",
       "      <th>month</th>\n",
       "      <th>day</th>\n",
       "      <th>hour</th>\n",
       "      <th>num_bikes_available</th>\n",
       "      <th>num_bikes_available_types.mechanical</th>\n",
       "      <th>num_bikes_available_types.ebike</th>\n",
       "      <th>num_docks_available</th>\n",
       "      <th>last_reported</th>\n",
       "      <th>is_charging_station</th>\n",
       "      <th>status</th>\n",
       "      <th>is_installed</th>\n",
       "      <th>is_renting</th>\n",
       "      <th>is_returning</th>\n",
       "      <th>traffic</th>\n",
       "      <th>last_updated</th>\n",
       "      <th>ttl</th>\n",
       "      <th>date_time</th>\n",
       "      <th>date</th>\n",
       "      <th>percentage_docks_available</th>\n",
       "    </tr>\n",
       "  </thead>\n",
       "  <tbody>\n",
       "    <tr>\n",
       "      <th>1</th>\n",
       "      <td>1</td>\n",
       "      <td>2023</td>\n",
       "      <td>1</td>\n",
       "      <td>1</td>\n",
       "      <td>0</td>\n",
       "      <td>37.500000</td>\n",
       "      <td>34.916667</td>\n",
       "      <td>2.583333</td>\n",
       "      <td>8.416667</td>\n",
       "      <td>1.672529e+09</td>\n",
       "      <td>1.0</td>\n",
       "      <td>1.0</td>\n",
       "      <td>1.0</td>\n",
       "      <td>1.0</td>\n",
       "      <td>1.0</td>\n",
       "      <td>0.0</td>\n",
       "      <td>1.672530e+09</td>\n",
       "      <td>11.750000</td>\n",
       "      <td>2023-01-01 00:00:00</td>\n",
       "      <td>2023-01-01</td>\n",
       "      <td>0.816697</td>\n",
       "    </tr>\n",
       "    <tr>\n",
       "      <th>2</th>\n",
       "      <td>1</td>\n",
       "      <td>2023</td>\n",
       "      <td>1</td>\n",
       "      <td>1</td>\n",
       "      <td>1</td>\n",
       "      <td>39.333333</td>\n",
       "      <td>36.666667</td>\n",
       "      <td>2.666667</td>\n",
       "      <td>6.666667</td>\n",
       "      <td>1.672533e+09</td>\n",
       "      <td>1.0</td>\n",
       "      <td>1.0</td>\n",
       "      <td>1.0</td>\n",
       "      <td>1.0</td>\n",
       "      <td>1.0</td>\n",
       "      <td>0.0</td>\n",
       "      <td>1.672533e+09</td>\n",
       "      <td>10.416667</td>\n",
       "      <td>2023-01-01 01:00:00</td>\n",
       "      <td>2023-01-01</td>\n",
       "      <td>0.855072</td>\n",
       "    </tr>\n",
       "    <tr>\n",
       "      <th>3</th>\n",
       "      <td>1</td>\n",
       "      <td>2023</td>\n",
       "      <td>1</td>\n",
       "      <td>1</td>\n",
       "      <td>2</td>\n",
       "      <td>38.666667</td>\n",
       "      <td>37.416667</td>\n",
       "      <td>1.250000</td>\n",
       "      <td>7.250000</td>\n",
       "      <td>1.672537e+09</td>\n",
       "      <td>1.0</td>\n",
       "      <td>1.0</td>\n",
       "      <td>1.0</td>\n",
       "      <td>1.0</td>\n",
       "      <td>1.0</td>\n",
       "      <td>0.0</td>\n",
       "      <td>1.672537e+09</td>\n",
       "      <td>14.000000</td>\n",
       "      <td>2023-01-01 02:00:00</td>\n",
       "      <td>2023-01-01</td>\n",
       "      <td>0.842105</td>\n",
       "    </tr>\n",
       "    <tr>\n",
       "      <th>4</th>\n",
       "      <td>1</td>\n",
       "      <td>2023</td>\n",
       "      <td>1</td>\n",
       "      <td>1</td>\n",
       "      <td>3</td>\n",
       "      <td>39.583333</td>\n",
       "      <td>37.833333</td>\n",
       "      <td>1.750000</td>\n",
       "      <td>6.250000</td>\n",
       "      <td>1.672540e+09</td>\n",
       "      <td>1.0</td>\n",
       "      <td>1.0</td>\n",
       "      <td>1.0</td>\n",
       "      <td>1.0</td>\n",
       "      <td>1.0</td>\n",
       "      <td>0.0</td>\n",
       "      <td>1.672540e+09</td>\n",
       "      <td>11.833333</td>\n",
       "      <td>2023-01-01 03:00:00</td>\n",
       "      <td>2023-01-01</td>\n",
       "      <td>0.863636</td>\n",
       "    </tr>\n",
       "    <tr>\n",
       "      <th>5</th>\n",
       "      <td>1</td>\n",
       "      <td>2023</td>\n",
       "      <td>1</td>\n",
       "      <td>1</td>\n",
       "      <td>4</td>\n",
       "      <td>39.333333</td>\n",
       "      <td>38.250000</td>\n",
       "      <td>1.083333</td>\n",
       "      <td>6.583333</td>\n",
       "      <td>1.672544e+09</td>\n",
       "      <td>1.0</td>\n",
       "      <td>1.0</td>\n",
       "      <td>1.0</td>\n",
       "      <td>1.0</td>\n",
       "      <td>1.0</td>\n",
       "      <td>0.0</td>\n",
       "      <td>1.672544e+09</td>\n",
       "      <td>11.500000</td>\n",
       "      <td>2023-01-01 04:00:00</td>\n",
       "      <td>2023-01-01</td>\n",
       "      <td>0.856624</td>\n",
       "    </tr>\n",
       "  </tbody>\n",
       "</table>\n",
       "</div>"
      ],
      "text/plain": [
       "   station_id  year  month  day  hour  num_bikes_available  \\\n",
       "1           1  2023      1    1     0            37.500000   \n",
       "2           1  2023      1    1     1            39.333333   \n",
       "3           1  2023      1    1     2            38.666667   \n",
       "4           1  2023      1    1     3            39.583333   \n",
       "5           1  2023      1    1     4            39.333333   \n",
       "\n",
       "   num_bikes_available_types.mechanical  num_bikes_available_types.ebike  \\\n",
       "1                             34.916667                         2.583333   \n",
       "2                             36.666667                         2.666667   \n",
       "3                             37.416667                         1.250000   \n",
       "4                             37.833333                         1.750000   \n",
       "5                             38.250000                         1.083333   \n",
       "\n",
       "   num_docks_available  last_reported  is_charging_station  status  \\\n",
       "1             8.416667   1.672529e+09                  1.0     1.0   \n",
       "2             6.666667   1.672533e+09                  1.0     1.0   \n",
       "3             7.250000   1.672537e+09                  1.0     1.0   \n",
       "4             6.250000   1.672540e+09                  1.0     1.0   \n",
       "5             6.583333   1.672544e+09                  1.0     1.0   \n",
       "\n",
       "   is_installed  is_renting  is_returning  traffic  last_updated        ttl  \\\n",
       "1           1.0         1.0           1.0      0.0  1.672530e+09  11.750000   \n",
       "2           1.0         1.0           1.0      0.0  1.672533e+09  10.416667   \n",
       "3           1.0         1.0           1.0      0.0  1.672537e+09  14.000000   \n",
       "4           1.0         1.0           1.0      0.0  1.672540e+09  11.833333   \n",
       "5           1.0         1.0           1.0      0.0  1.672544e+09  11.500000   \n",
       "\n",
       "            date_time        date  percentage_docks_available  \n",
       "1 2023-01-01 00:00:00  2023-01-01                    0.816697  \n",
       "2 2023-01-01 01:00:00  2023-01-01                    0.855072  \n",
       "3 2023-01-01 02:00:00  2023-01-01                    0.842105  \n",
       "4 2023-01-01 03:00:00  2023-01-01                    0.863636  \n",
       "5 2023-01-01 04:00:00  2023-01-01                    0.856624  "
      ]
     },
     "execution_count": 14,
     "metadata": {},
     "output_type": "execute_result"
    }
   ],
   "source": [
    "df.head()"
   ]
  },
  {
   "cell_type": "markdown",
   "id": "d1cf4c81",
   "metadata": {},
   "source": [
    "### Add station information"
   ]
  },
  {
   "cell_type": "code",
   "execution_count": 14,
   "id": "d1b61d63",
   "metadata": {},
   "outputs": [],
   "source": [
    "def get_station_json(\n",
    "    url: str = 'https://opendata-ajuntament.barcelona.cat/data/dataset/bd2462df-6e1e-4e37-8205-a4b8e7313b84/resource/e5adca8d-98bf-42c3-9b9c-364ef0a80494/download'\n",
    "):\n",
    "    \n",
    "    res = requests.get(url)\n",
    "    return res.json()\n",
    "station_json = get_station_json()"
   ]
  },
  {
   "cell_type": "code",
   "execution_count": 15,
   "id": "5d0a6759",
   "metadata": {},
   "outputs": [
    {
     "data": {
      "text/html": [
       "<div>\n",
       "<style scoped>\n",
       "    .dataframe tbody tr th:only-of-type {\n",
       "        vertical-align: middle;\n",
       "    }\n",
       "\n",
       "    .dataframe tbody tr th {\n",
       "        vertical-align: top;\n",
       "    }\n",
       "\n",
       "    .dataframe thead th {\n",
       "        text-align: right;\n",
       "    }\n",
       "</style>\n",
       "<table border=\"1\" class=\"dataframe\">\n",
       "  <thead>\n",
       "    <tr style=\"text-align: right;\">\n",
       "      <th></th>\n",
       "      <th>station_id</th>\n",
       "      <th>name</th>\n",
       "      <th>physical_configuration</th>\n",
       "      <th>lat</th>\n",
       "      <th>lon</th>\n",
       "      <th>altitude</th>\n",
       "      <th>address</th>\n",
       "      <th>post_code</th>\n",
       "      <th>capacity</th>\n",
       "      <th>is_charging_station</th>\n",
       "      <th>nearby_distance</th>\n",
       "      <th>_ride_code_support</th>\n",
       "      <th>rental_uris</th>\n",
       "      <th>cross_street</th>\n",
       "    </tr>\n",
       "  </thead>\n",
       "  <tbody>\n",
       "    <tr>\n",
       "      <th>0</th>\n",
       "      <td>1</td>\n",
       "      <td>GRAN VIA CORTS CATALANES, 760</td>\n",
       "      <td>ELECTRICBIKESTATION</td>\n",
       "      <td>41.397978</td>\n",
       "      <td>2.180107</td>\n",
       "      <td>16.0</td>\n",
       "      <td>GRAN VIA CORTS CATALANES, 760</td>\n",
       "      <td>08013</td>\n",
       "      <td>46</td>\n",
       "      <td>True</td>\n",
       "      <td>1000.0</td>\n",
       "      <td>True</td>\n",
       "      <td>None</td>\n",
       "      <td>NaN</td>\n",
       "    </tr>\n",
       "    <tr>\n",
       "      <th>1</th>\n",
       "      <td>2</td>\n",
       "      <td>C/ ROGER DE FLOR, 126</td>\n",
       "      <td>ELECTRICBIKESTATION</td>\n",
       "      <td>41.395488</td>\n",
       "      <td>2.177198</td>\n",
       "      <td>17.0</td>\n",
       "      <td>C/ ROGER DE FLOR, 126</td>\n",
       "      <td>08013</td>\n",
       "      <td>29</td>\n",
       "      <td>True</td>\n",
       "      <td>1000.0</td>\n",
       "      <td>True</td>\n",
       "      <td>None</td>\n",
       "      <td>NaN</td>\n",
       "    </tr>\n",
       "    <tr>\n",
       "      <th>2</th>\n",
       "      <td>3</td>\n",
       "      <td>C/ NÀPOLS, 82</td>\n",
       "      <td>ELECTRICBIKESTATION</td>\n",
       "      <td>41.394156</td>\n",
       "      <td>2.181331</td>\n",
       "      <td>11.0</td>\n",
       "      <td>C/ NÀPOLS, 82</td>\n",
       "      <td>08013</td>\n",
       "      <td>27</td>\n",
       "      <td>True</td>\n",
       "      <td>1000.0</td>\n",
       "      <td>True</td>\n",
       "      <td>None</td>\n",
       "      <td>NaN</td>\n",
       "    </tr>\n",
       "    <tr>\n",
       "      <th>3</th>\n",
       "      <td>4</td>\n",
       "      <td>C/ RIBES, 13</td>\n",
       "      <td>ELECTRICBIKESTATION</td>\n",
       "      <td>41.393317</td>\n",
       "      <td>2.181248</td>\n",
       "      <td>8.0</td>\n",
       "      <td>C/ RIBES, 13</td>\n",
       "      <td>08013</td>\n",
       "      <td>21</td>\n",
       "      <td>True</td>\n",
       "      <td>1000.0</td>\n",
       "      <td>True</td>\n",
       "      <td>None</td>\n",
       "      <td>NaN</td>\n",
       "    </tr>\n",
       "    <tr>\n",
       "      <th>4</th>\n",
       "      <td>5</td>\n",
       "      <td>PG. LLUIS COMPANYS, 11 (ARC TRIOMF)</td>\n",
       "      <td>ELECTRICBIKESTATION</td>\n",
       "      <td>41.391103</td>\n",
       "      <td>2.180176</td>\n",
       "      <td>7.0</td>\n",
       "      <td>PG. LLUIS COMPANYS, 11 (ARC TRIOMF)</td>\n",
       "      <td>08018</td>\n",
       "      <td>39</td>\n",
       "      <td>True</td>\n",
       "      <td>1000.0</td>\n",
       "      <td>True</td>\n",
       "      <td>None</td>\n",
       "      <td>NaN</td>\n",
       "    </tr>\n",
       "  </tbody>\n",
       "</table>\n",
       "</div>"
      ],
      "text/plain": [
       "   station_id                                 name physical_configuration  \\\n",
       "0           1        GRAN VIA CORTS CATALANES, 760    ELECTRICBIKESTATION   \n",
       "1           2                C/ ROGER DE FLOR, 126    ELECTRICBIKESTATION   \n",
       "2           3                        C/ NÀPOLS, 82    ELECTRICBIKESTATION   \n",
       "3           4                         C/ RIBES, 13    ELECTRICBIKESTATION   \n",
       "4           5  PG. LLUIS COMPANYS, 11 (ARC TRIOMF)    ELECTRICBIKESTATION   \n",
       "\n",
       "         lat       lon  altitude                              address  \\\n",
       "0  41.397978  2.180107      16.0        GRAN VIA CORTS CATALANES, 760   \n",
       "1  41.395488  2.177198      17.0                C/ ROGER DE FLOR, 126   \n",
       "2  41.394156  2.181331      11.0                        C/ NÀPOLS, 82   \n",
       "3  41.393317  2.181248       8.0                         C/ RIBES, 13   \n",
       "4  41.391103  2.180176       7.0  PG. LLUIS COMPANYS, 11 (ARC TRIOMF)   \n",
       "\n",
       "  post_code  capacity  is_charging_station  nearby_distance  \\\n",
       "0     08013        46                 True           1000.0   \n",
       "1     08013        29                 True           1000.0   \n",
       "2     08013        27                 True           1000.0   \n",
       "3     08013        21                 True           1000.0   \n",
       "4     08018        39                 True           1000.0   \n",
       "\n",
       "   _ride_code_support rental_uris cross_street  \n",
       "0                True        None          NaN  \n",
       "1                True        None          NaN  \n",
       "2                True        None          NaN  \n",
       "3                True        None          NaN  \n",
       "4                True        None          NaN  "
      ]
     },
     "execution_count": 15,
     "metadata": {},
     "output_type": "execute_result"
    }
   ],
   "source": [
    "station_df = pd.DataFrame(station_json['data']['stations'])\n",
    "station_df.head()"
   ]
  },
  {
   "cell_type": "code",
   "execution_count": 16,
   "id": "fe6c5c1e",
   "metadata": {},
   "outputs": [],
   "source": [
    "# Some fields are not going to be used\n",
    "station_drop_fields = [\n",
    "    'physical_configuration',          # unique value: ELECTRICBIKESTATION\n",
    "    '_ride_code_support',              # unique value: all True\n",
    "    'nearby_distance',                 # unique value: 1000\n",
    "    'name', 'address', 'post_code',    # too specific to each of the stations\n",
    "    'is_charging_station',             # already in the main df\n",
    "    'rental_uris', 'cross_street',     # vast majority are none\n",
    "    \n",
    "]"
   ]
  },
  {
   "cell_type": "code",
   "execution_count": 17,
   "id": "80d7e689",
   "metadata": {},
   "outputs": [],
   "source": [
    "station_df = station_df.drop(station_drop_fields, axis=1)\n"
   ]
  },
  {
   "cell_type": "code",
   "execution_count": 18,
   "id": "275475dd-74eb-416c-b6dc-7c425c79b75e",
   "metadata": {
    "tags": []
   },
   "outputs": [
    {
     "data": {
      "text/plain": [
       "1      1\n",
       "5      1\n",
       "6      1\n",
       "7      1\n",
       "8      1\n",
       "      ..\n",
       "518    1\n",
       "505    1\n",
       "393    1\n",
       "507    1\n",
       "519    1\n",
       "Name: station_id, Length: 509, dtype: int64"
      ]
     },
     "execution_count": 18,
     "metadata": {},
     "output_type": "execute_result"
    }
   ],
   "source": [
    "station_df['station_id'].value_counts().sort_values()"
   ]
  },
  {
   "cell_type": "code",
   "execution_count": 19,
   "id": "37b3544f-fb1d-4a2d-8df1-4fb4290c6efd",
   "metadata": {
    "tags": []
   },
   "outputs": [
    {
     "data": {
      "text/plain": [
       "530        3\n",
       "529       22\n",
       "532       47\n",
       "520      433\n",
       "431     7284\n",
       "       ...  \n",
       "367    34897\n",
       "67     34897\n",
       "347    34899\n",
       "213    34900\n",
       "389    35054\n",
       "Name: station_id, Length: 516, dtype: int64"
      ]
     },
     "execution_count": 19,
     "metadata": {},
     "output_type": "execute_result"
    }
   ],
   "source": [
    "df['station_id'].value_counts().sort_values()"
   ]
  },
  {
   "cell_type": "code",
   "execution_count": 20,
   "id": "63a19fa5-50f1-44fc-b2dc-30caa33c0365",
   "metadata": {
    "tags": []
   },
   "outputs": [
    {
     "data": {
      "text/plain": [
       "(16723475, 21)"
      ]
     },
     "execution_count": 20,
     "metadata": {},
     "output_type": "execute_result"
    }
   ],
   "source": [
    "df.shape"
   ]
  },
  {
   "cell_type": "markdown",
   "id": "f67c0127-4423-4434-b64e-e90c262407d1",
   "metadata": {},
   "source": [
    "### Merging main df with station information. Be careful: the total number of station_id is not the same in both data sets"
   ]
  },
  {
   "cell_type": "code",
   "execution_count": 25,
   "id": "8436038c",
   "metadata": {},
   "outputs": [
    {
     "name": "stdout",
     "output_type": "stream",
     "text": [
      "0\n",
      "55453\n",
      "55453\n"
     ]
    }
   ],
   "source": [
    "#Take any characteristic of the dataset that is going to be merge to the main one\n",
    "print(station_df['capacity'].isna().sum())\n",
    "df_copy = df.copy()\n",
    "df_merge = pd.merge(df_copy, station_df, on='station_id', how='left')\n",
    "#Check the same characteristic as previously\n",
    "print(df_merge['capacity'].isna().sum())\n",
    "print(df_merge['capacity'].isnull().sum())"
   ]
  },
  {
   "cell_type": "code",
   "execution_count": 26,
   "id": "89ab719d-eaea-40f1-8c80-e610aa0b9da4",
   "metadata": {
    "tags": []
   },
   "outputs": [
    {
     "name": "stdout",
     "output_type": "stream",
     "text": [
      "(509, 5)\n",
      "(16723475, 21)\n",
      "(16723475, 25)\n"
     ]
    }
   ],
   "source": [
    "print(station_df.shape)\n",
    "print(df_copy.shape)\n",
    "print(df_merge.shape)"
   ]
  },
  {
   "cell_type": "code",
   "execution_count": 28,
   "id": "3a4dd4f6-7bf6-48ae-822e-c0c936f04cdb",
   "metadata": {
    "tags": []
   },
   "outputs": [
    {
     "name": "stdout",
     "output_type": "stream",
     "text": [
      "(16668022, 25)\n"
     ]
    }
   ],
   "source": [
    "#Do not drop rows\n",
    "\n",
    "df_merge['capacity'] = df_merge['capacity'].fillna(0)\n",
    "df_merge = df_merge.drop(df_merge[df_merge['capacity'] == 0].index)\n",
    "print(df_merge.shape)"
   ]
  },
  {
   "cell_type": "markdown",
   "id": "ef7af462",
   "metadata": {},
   "source": [
    "### Add Weather information\n",
    "\n",
    "Add information relative to the wather ([source](https://www.visualcrossing.com/weather/weather-data-services#))\n"
   ]
  },
  {
   "cell_type": "code",
   "execution_count": 29,
   "id": "27198904",
   "metadata": {},
   "outputs": [
    {
     "name": "stdout",
     "output_type": "stream",
     "text": [
      "Start date:  2019-03-28\n",
      "End date:  2023-05-31\n"
     ]
    }
   ],
   "source": [
    "print('Start date: ', df['date'].min())\n",
    "print('End date: ', df['date'].max())"
   ]
  },
  {
   "cell_type": "code",
   "execution_count": 30,
   "id": "b8060b02",
   "metadata": {},
   "outputs": [],
   "source": [
    "def weather_api_extraction(url: str) -> pd.DataFrame:\n",
    "    response = requests.get(url)\n",
    "    response_json = response.json()\n",
    "    \n",
    "    weather_df = pd.json_normalize(response_json['days'])\n",
    "    \n",
    "    return weather_df"
   ]
  },
  {
   "cell_type": "code",
   "execution_count": 31,
   "id": "4ba5b0a0",
   "metadata": {},
   "outputs": [],
   "source": [
    "def weather_df_drop_columns(\n",
    "    weather_df: pd.DataFrame, \n",
    "    columns_to_drop: typing.List[str] = [\n",
    "        'datetimeEpoch', \n",
    "        'tzoffset', \n",
    "        'source',\n",
    "        'name',                     # all barcelona\n",
    "        'stations',                 # which stations tracked that weather\n",
    "        'severerisk'                # all nulls\n",
    "        'precipprob',               # 100 if it rains, 0 otherwise. Doesn't add new info\n",
    "        'preciptype',               # 'rain' if it rains, 'snow' if it snows. Doesn't add new info\n",
    "        'sunrise', 'sunset',        # simplify variables, too specific\n",
    "        'description',              # simplify variables, too specific\n",
    "        'sunrise',                  # simplify variables, too specific\n",
    "        'sunset',                   # simplify variables, too specific\n",
    "        'moonphase',                # simplify variables, too specific\n",
    "        'sealevelpressure',         # simplify variables, too specific\n",
    "    ]\n",
    "):\n",
    "    \n",
    "    return weather_df.drop(columns_to_drop, axis=1, errors='ignore')"
   ]
  },
  {
   "cell_type": "code",
   "execution_count": 32,
   "id": "2bf5cc0c",
   "metadata": {},
   "outputs": [],
   "source": [
    "def process_weather_df(weather_df: pd.DataFrame) -> pd.DataFrame:\n",
    "    weather_df.datetime = pd.to_datetime(weather_df.datetime)\n",
    "    weather_df['date'] = weather_df.datetime.dt.date\n",
    "    \n",
    "    return weather_df"
   ]
  },
  {
   "cell_type": "code",
   "execution_count": 33,
   "id": "952b9b1d",
   "metadata": {},
   "outputs": [],
   "source": [
    "os.makedirs('./weather', exist_ok=True)\n",
    "\n",
    "if not len(os.listdir('./weather')):\n",
    "    weather_url1 = 'https://weather.visualcrossing.com/VisualCrossingWebServices/rest/services/timeline/barcelona/2019-03-28/2021-11-30?unitGroup=metric&include=days&key=4T9KXABWNUV92K2WTZMA7JXZ3&contentType=json'\n",
    "    weather_df1 = weather_api_extraction(weather_url1)\n",
    "    weather_df1.to_csv('./weather/weather_2019_03_28_to_2021_11_30.csv', index=False, header=True)\n",
    "    \n",
    "    weather_url2 = 'https://weather.visualcrossing.com/VisualCrossingWebServices/rest/services/timeline/barcelona/2021-12-01/2023-04-30?unitGroup=metric&include=days&key=6NT6N8CRPMNTAEE2FH2EQZ98U&contentType=json'\n",
    "    weather_df2 = weather_api_extraction(weather_url2)\n",
    "    weather_df2.to_csv('./weather/weather_2021_12_01_to_2023_04_30.csv', index=False, header=True)\n",
    "\n",
    "else:\n",
    "    weather_df1 = pd.read_csv('./weather/weather_2019_03_28_to_2021_11_30.csv')\n",
    "    weather_df2 = pd.read_csv('./weather/weather_2021_12_01_to_2023_04_30.csv')   "
   ]
  },
  {
   "cell_type": "code",
   "execution_count": 34,
   "id": "c659795f",
   "metadata": {},
   "outputs": [],
   "source": [
    "weather_df = pd\\\n",
    "    .concat([weather_df1, weather_df2], axis=0)\\\n",
    "    .reset_index(drop=True)"
   ]
  },
  {
   "cell_type": "code",
   "execution_count": 35,
   "id": "c2f5e298",
   "metadata": {},
   "outputs": [],
   "source": [
    "weather_df = weather_df_drop_columns(weather_df)\n",
    "weather_df = process_weather_df(weather_df)"
   ]
  },
  {
   "cell_type": "code",
   "execution_count": 36,
   "id": "996b8019",
   "metadata": {},
   "outputs": [
    {
     "data": {
      "text/html": [
       "<div>\n",
       "<style scoped>\n",
       "    .dataframe tbody tr th:only-of-type {\n",
       "        vertical-align: middle;\n",
       "    }\n",
       "\n",
       "    .dataframe tbody tr th {\n",
       "        vertical-align: top;\n",
       "    }\n",
       "\n",
       "    .dataframe thead th {\n",
       "        text-align: right;\n",
       "    }\n",
       "</style>\n",
       "<table border=\"1\" class=\"dataframe\">\n",
       "  <thead>\n",
       "    <tr style=\"text-align: right;\">\n",
       "      <th></th>\n",
       "      <th>datetime</th>\n",
       "      <th>tempmax</th>\n",
       "      <th>tempmin</th>\n",
       "      <th>temp</th>\n",
       "      <th>feelslikemax</th>\n",
       "      <th>feelslikemin</th>\n",
       "      <th>feelslike</th>\n",
       "      <th>dew</th>\n",
       "      <th>humidity</th>\n",
       "      <th>precip</th>\n",
       "      <th>precipprob</th>\n",
       "      <th>precipcover</th>\n",
       "      <th>snow</th>\n",
       "      <th>snowdepth</th>\n",
       "      <th>windgust</th>\n",
       "      <th>windspeed</th>\n",
       "      <th>winddir</th>\n",
       "      <th>pressure</th>\n",
       "      <th>cloudcover</th>\n",
       "      <th>visibility</th>\n",
       "      <th>solarradiation</th>\n",
       "      <th>solarenergy</th>\n",
       "      <th>uvindex</th>\n",
       "      <th>sunriseEpoch</th>\n",
       "      <th>sunsetEpoch</th>\n",
       "      <th>conditions</th>\n",
       "      <th>icon</th>\n",
       "      <th>severerisk</th>\n",
       "      <th>date</th>\n",
       "    </tr>\n",
       "  </thead>\n",
       "  <tbody>\n",
       "    <tr>\n",
       "      <th>0</th>\n",
       "      <td>2019-03-28</td>\n",
       "      <td>16.8</td>\n",
       "      <td>6.4</td>\n",
       "      <td>12.1</td>\n",
       "      <td>16.8</td>\n",
       "      <td>3.7</td>\n",
       "      <td>11.5</td>\n",
       "      <td>4.4</td>\n",
       "      <td>60.6</td>\n",
       "      <td>0.0</td>\n",
       "      <td>0.0</td>\n",
       "      <td>0.0</td>\n",
       "      <td>0.0</td>\n",
       "      <td>0.0</td>\n",
       "      <td>21.5</td>\n",
       "      <td>17.3</td>\n",
       "      <td>42.8</td>\n",
       "      <td>1027.6</td>\n",
       "      <td>1.1</td>\n",
       "      <td>16.1</td>\n",
       "      <td>221.4</td>\n",
       "      <td>19.2</td>\n",
       "      <td>7.0</td>\n",
       "      <td>1553751710</td>\n",
       "      <td>1553796707</td>\n",
       "      <td>Clear</td>\n",
       "      <td>clear-day</td>\n",
       "      <td>NaN</td>\n",
       "      <td>2019-03-28</td>\n",
       "    </tr>\n",
       "    <tr>\n",
       "      <th>1</th>\n",
       "      <td>2019-03-29</td>\n",
       "      <td>16.3</td>\n",
       "      <td>8.8</td>\n",
       "      <td>12.8</td>\n",
       "      <td>16.3</td>\n",
       "      <td>6.7</td>\n",
       "      <td>12.6</td>\n",
       "      <td>5.1</td>\n",
       "      <td>60.6</td>\n",
       "      <td>0.0</td>\n",
       "      <td>0.0</td>\n",
       "      <td>0.0</td>\n",
       "      <td>0.0</td>\n",
       "      <td>0.0</td>\n",
       "      <td>24.8</td>\n",
       "      <td>19.8</td>\n",
       "      <td>76.9</td>\n",
       "      <td>1027.2</td>\n",
       "      <td>8.9</td>\n",
       "      <td>16.1</td>\n",
       "      <td>222.3</td>\n",
       "      <td>19.1</td>\n",
       "      <td>7.0</td>\n",
       "      <td>1553838009</td>\n",
       "      <td>1553883172</td>\n",
       "      <td>Clear</td>\n",
       "      <td>clear-day</td>\n",
       "      <td>NaN</td>\n",
       "      <td>2019-03-29</td>\n",
       "    </tr>\n",
       "    <tr>\n",
       "      <th>2</th>\n",
       "      <td>2019-03-30</td>\n",
       "      <td>16.0</td>\n",
       "      <td>6.4</td>\n",
       "      <td>12.0</td>\n",
       "      <td>16.0</td>\n",
       "      <td>4.2</td>\n",
       "      <td>11.6</td>\n",
       "      <td>5.8</td>\n",
       "      <td>66.0</td>\n",
       "      <td>0.0</td>\n",
       "      <td>0.0</td>\n",
       "      <td>0.0</td>\n",
       "      <td>0.0</td>\n",
       "      <td>0.0</td>\n",
       "      <td>24.3</td>\n",
       "      <td>19.1</td>\n",
       "      <td>79.9</td>\n",
       "      <td>1023.8</td>\n",
       "      <td>29.4</td>\n",
       "      <td>15.5</td>\n",
       "      <td>224.5</td>\n",
       "      <td>19.6</td>\n",
       "      <td>7.0</td>\n",
       "      <td>1553924308</td>\n",
       "      <td>1553969637</td>\n",
       "      <td>Partially cloudy</td>\n",
       "      <td>partly-cloudy-day</td>\n",
       "      <td>NaN</td>\n",
       "      <td>2019-03-30</td>\n",
       "    </tr>\n",
       "    <tr>\n",
       "      <th>3</th>\n",
       "      <td>2019-03-31</td>\n",
       "      <td>15.9</td>\n",
       "      <td>8.4</td>\n",
       "      <td>12.5</td>\n",
       "      <td>15.9</td>\n",
       "      <td>6.9</td>\n",
       "      <td>12.4</td>\n",
       "      <td>7.9</td>\n",
       "      <td>73.5</td>\n",
       "      <td>0.0</td>\n",
       "      <td>0.0</td>\n",
       "      <td>0.0</td>\n",
       "      <td>0.0</td>\n",
       "      <td>0.0</td>\n",
       "      <td>37.6</td>\n",
       "      <td>31.2</td>\n",
       "      <td>71.2</td>\n",
       "      <td>1017.5</td>\n",
       "      <td>50.3</td>\n",
       "      <td>14.7</td>\n",
       "      <td>154.2</td>\n",
       "      <td>12.8</td>\n",
       "      <td>6.0</td>\n",
       "      <td>1554010607</td>\n",
       "      <td>1554056102</td>\n",
       "      <td>Partially cloudy</td>\n",
       "      <td>partly-cloudy-day</td>\n",
       "      <td>NaN</td>\n",
       "      <td>2019-03-31</td>\n",
       "    </tr>\n",
       "    <tr>\n",
       "      <th>4</th>\n",
       "      <td>2019-04-01</td>\n",
       "      <td>17.3</td>\n",
       "      <td>9.8</td>\n",
       "      <td>13.8</td>\n",
       "      <td>17.3</td>\n",
       "      <td>9.0</td>\n",
       "      <td>13.7</td>\n",
       "      <td>6.1</td>\n",
       "      <td>60.7</td>\n",
       "      <td>0.0</td>\n",
       "      <td>0.0</td>\n",
       "      <td>0.0</td>\n",
       "      <td>0.0</td>\n",
       "      <td>0.0</td>\n",
       "      <td>23.4</td>\n",
       "      <td>18.1</td>\n",
       "      <td>126.5</td>\n",
       "      <td>1015.2</td>\n",
       "      <td>35.0</td>\n",
       "      <td>15.3</td>\n",
       "      <td>214.7</td>\n",
       "      <td>18.6</td>\n",
       "      <td>7.0</td>\n",
       "      <td>1554096907</td>\n",
       "      <td>1554142567</td>\n",
       "      <td>Partially cloudy</td>\n",
       "      <td>partly-cloudy-day</td>\n",
       "      <td>NaN</td>\n",
       "      <td>2019-04-01</td>\n",
       "    </tr>\n",
       "  </tbody>\n",
       "</table>\n",
       "</div>"
      ],
      "text/plain": [
       "    datetime  tempmax  tempmin  temp  feelslikemax  feelslikemin  feelslike  \\\n",
       "0 2019-03-28     16.8      6.4  12.1          16.8           3.7       11.5   \n",
       "1 2019-03-29     16.3      8.8  12.8          16.3           6.7       12.6   \n",
       "2 2019-03-30     16.0      6.4  12.0          16.0           4.2       11.6   \n",
       "3 2019-03-31     15.9      8.4  12.5          15.9           6.9       12.4   \n",
       "4 2019-04-01     17.3      9.8  13.8          17.3           9.0       13.7   \n",
       "\n",
       "   dew  humidity  precip  precipprob  precipcover  snow  snowdepth  windgust  \\\n",
       "0  4.4      60.6     0.0         0.0          0.0   0.0        0.0      21.5   \n",
       "1  5.1      60.6     0.0         0.0          0.0   0.0        0.0      24.8   \n",
       "2  5.8      66.0     0.0         0.0          0.0   0.0        0.0      24.3   \n",
       "3  7.9      73.5     0.0         0.0          0.0   0.0        0.0      37.6   \n",
       "4  6.1      60.7     0.0         0.0          0.0   0.0        0.0      23.4   \n",
       "\n",
       "   windspeed  winddir  pressure  cloudcover  visibility  solarradiation  \\\n",
       "0       17.3     42.8    1027.6         1.1        16.1           221.4   \n",
       "1       19.8     76.9    1027.2         8.9        16.1           222.3   \n",
       "2       19.1     79.9    1023.8        29.4        15.5           224.5   \n",
       "3       31.2     71.2    1017.5        50.3        14.7           154.2   \n",
       "4       18.1    126.5    1015.2        35.0        15.3           214.7   \n",
       "\n",
       "   solarenergy  uvindex  sunriseEpoch  sunsetEpoch        conditions  \\\n",
       "0         19.2      7.0    1553751710   1553796707             Clear   \n",
       "1         19.1      7.0    1553838009   1553883172             Clear   \n",
       "2         19.6      7.0    1553924308   1553969637  Partially cloudy   \n",
       "3         12.8      6.0    1554010607   1554056102  Partially cloudy   \n",
       "4         18.6      7.0    1554096907   1554142567  Partially cloudy   \n",
       "\n",
       "                icon  severerisk        date  \n",
       "0          clear-day         NaN  2019-03-28  \n",
       "1          clear-day         NaN  2019-03-29  \n",
       "2  partly-cloudy-day         NaN  2019-03-30  \n",
       "3  partly-cloudy-day         NaN  2019-03-31  \n",
       "4  partly-cloudy-day         NaN  2019-04-01  "
      ]
     },
     "execution_count": 36,
     "metadata": {},
     "output_type": "execute_result"
    }
   ],
   "source": [
    "weather_df.head()"
   ]
  },
  {
   "cell_type": "code",
   "execution_count": 37,
   "id": "00bf4ca1-62ed-4cb3-a615-9f3f5694d50c",
   "metadata": {
    "tags": []
   },
   "outputs": [
    {
     "data": {
      "text/plain": [
       "(16668022, 25)"
      ]
     },
     "execution_count": 37,
     "metadata": {},
     "output_type": "execute_result"
    }
   ],
   "source": [
    "df_merge.shape"
   ]
  },
  {
   "cell_type": "markdown",
   "id": "8ecc4dd7-d72e-4464-9d8b-1c47092a612c",
   "metadata": {},
   "source": [
    "# Merge main dataset with weather dataset. Becareful: use how='left' to maintain all the rows from the main dataset"
   ]
  },
  {
   "cell_type": "code",
   "execution_count": 38,
   "id": "b8d376b4",
   "metadata": {},
   "outputs": [],
   "source": [
    "df_merge.date = pd.to_datetime(df_merge.date).dt.date\n",
    "weather_df.date = pd.to_datetime(weather_df.date).dt.date\n",
    "\n",
    "df_merge_2 = pd.merge(df_merge, weather_df, left_on='date', right_on='date', how='left')"
   ]
  },
  {
   "cell_type": "code",
   "execution_count": 39,
   "id": "ae531d34",
   "metadata": {},
   "outputs": [
    {
     "data": {
      "text/plain": [
       "(16668022, 53)"
      ]
     },
     "execution_count": 39,
     "metadata": {},
     "output_type": "execute_result"
    }
   ],
   "source": [
    "df_merge_2.shape"
   ]
  },
  {
   "cell_type": "code",
   "execution_count": 40,
   "id": "716f4d05-b640-4fe1-ad98-37899b7a0b94",
   "metadata": {
    "tags": []
   },
   "outputs": [
    {
     "name": "stdout",
     "output_type": "stream",
     "text": [
      "11573338\n"
     ]
    }
   ],
   "source": [
    "#Check if the capacity column in the station information matches to the summation of number of bikes plus number of docks in the main dataset\n",
    "df_merge_2['capacity_2'] = df_merge_2['num_bikes_available'] + df_merge_2['num_docks_available']\n",
    "\n",
    "# Check if 'a' and 'b' have the same value in each row\n",
    "df_merge_2['same_value'] = df_merge_2['capacity'] == df_merge_2['capacity_2']\n",
    "\n",
    "# Count the number of rows where 'same_value' is False\n",
    "count_false = (~df_merge_2['same_value']).sum()\n",
    "\n",
    "print(count_false)\n",
    "\n",
    "#This line i  making the kernel to crash\n",
    "#df_merge_2.plot(kind='scatter', x='capacity', y='capacity_2', color='red', alpha=0.1)\n",
    "\n",
    "df_merge_2 = df_merge_2.drop(['capacity_2'], axis=1)"
   ]
  },
  {
   "cell_type": "markdown",
   "id": "f23fae44",
   "metadata": {},
   "source": [
    "### Add Covid Information\n",
    "\n",
    "The daily covid cases that there were in Barcelona ([source](https://www.amb.cat/en/web/area-metropolitana/dades-obertes/cataleg/detall/-/dataset/covid-19-positive-cases/9147624/11692))"
   ]
  },
  {
   "cell_type": "code",
   "execution_count": 41,
   "id": "d29c1b58",
   "metadata": {},
   "outputs": [],
   "source": [
    "def get_covid_json(\n",
    "    url: str = \"https://opendata-ajuntament.barcelona.cat/data/api/action/datastore_search_sql?sql=SELECT%20*%20from%20%22f627ac0a-d05f-416d-9773-eeb464a3fc44%22%20WHERE%20%22Nom_Indicador%22%20LIKE%20%27Casos%20de%20COVID-19%20a%20Barcelona%20(diari)%27\"\n",
    "):\n",
    "    \n",
    "    res_covid = requests.get(url)\n",
    "    return res_covid.json()['result']['records']"
   ]
  },
  {
   "cell_type": "code",
   "execution_count": 42,
   "id": "eaa114b3",
   "metadata": {},
   "outputs": [],
   "source": [
    "covid_json = get_covid_json()"
   ]
  },
  {
   "cell_type": "code",
   "execution_count": 43,
   "id": "c3d47fa9",
   "metadata": {},
   "outputs": [
    {
     "data": {
      "text/html": [
       "<div>\n",
       "<style scoped>\n",
       "    .dataframe tbody tr th:only-of-type {\n",
       "        vertical-align: middle;\n",
       "    }\n",
       "\n",
       "    .dataframe tbody tr th {\n",
       "        vertical-align: top;\n",
       "    }\n",
       "\n",
       "    .dataframe thead th {\n",
       "        text-align: right;\n",
       "    }\n",
       "</style>\n",
       "<table border=\"1\" class=\"dataframe\">\n",
       "  <thead>\n",
       "    <tr style=\"text-align: right;\">\n",
       "      <th></th>\n",
       "      <th>Nom_Variable</th>\n",
       "      <th>Font</th>\n",
       "      <th>Data_Indicador</th>\n",
       "      <th>Territori</th>\n",
       "      <th>_full_text</th>\n",
       "      <th>Frequencia_Indicador</th>\n",
       "      <th>Valor</th>\n",
       "      <th>_id</th>\n",
       "      <th>Nom_Indicador</th>\n",
       "      <th>Unitat</th>\n",
       "    </tr>\n",
       "  </thead>\n",
       "  <tbody>\n",
       "    <tr>\n",
       "      <th>0</th>\n",
       "      <td></td>\n",
       "      <td>Agència de Salut Pública de Barcelona</td>\n",
       "      <td>2020-02-25</td>\n",
       "      <td>Barcelona</td>\n",
       "      <td>'-02':11 '-19':16 '-25':12 '1':9 '2020':10 'ag...</td>\n",
       "      <td>diari</td>\n",
       "      <td>1</td>\n",
       "      <td>1</td>\n",
       "      <td>Casos de COVID-19 a Barcelona (diari)</td>\n",
       "      <td>Nombre</td>\n",
       "    </tr>\n",
       "    <tr>\n",
       "      <th>1</th>\n",
       "      <td></td>\n",
       "      <td>Agència de Salut Pública de Barcelona</td>\n",
       "      <td>2020-02-26</td>\n",
       "      <td>Barcelona</td>\n",
       "      <td>'-02':11 '-19':17 '-26':12 '0':9 '2020':10 'ag...</td>\n",
       "      <td>diari</td>\n",
       "      <td>0</td>\n",
       "      <td>2</td>\n",
       "      <td>Casos de COVID-19 a Barcelona (diari)</td>\n",
       "      <td>Nombre</td>\n",
       "    </tr>\n",
       "    <tr>\n",
       "      <th>2</th>\n",
       "      <td></td>\n",
       "      <td>Agència de Salut Pública de Barcelona</td>\n",
       "      <td>2020-02-27</td>\n",
       "      <td>Barcelona</td>\n",
       "      <td>'-02':11 '-19':17 '-27':12 '0':9 '2020':10 'ag...</td>\n",
       "      <td>diari</td>\n",
       "      <td>0</td>\n",
       "      <td>3</td>\n",
       "      <td>Casos de COVID-19 a Barcelona (diari)</td>\n",
       "      <td>Nombre</td>\n",
       "    </tr>\n",
       "    <tr>\n",
       "      <th>3</th>\n",
       "      <td></td>\n",
       "      <td>Agència de Salut Pública de Barcelona</td>\n",
       "      <td>2020-02-28</td>\n",
       "      <td>Barcelona</td>\n",
       "      <td>'-02':19 '-19':13 '-28':20 '0':9 '2020':18 'ag...</td>\n",
       "      <td>diari</td>\n",
       "      <td>0</td>\n",
       "      <td>4</td>\n",
       "      <td>Casos de COVID-19 a Barcelona (diari)</td>\n",
       "      <td>Nombre</td>\n",
       "    </tr>\n",
       "    <tr>\n",
       "      <th>4</th>\n",
       "      <td></td>\n",
       "      <td>Agència de Salut Pública de Barcelona</td>\n",
       "      <td>2020-02-29</td>\n",
       "      <td>Barcelona</td>\n",
       "      <td>'-02':19 '-19':14 '-29':20 '0':9 '2020':18 'ag...</td>\n",
       "      <td>diari</td>\n",
       "      <td>0</td>\n",
       "      <td>5</td>\n",
       "      <td>Casos de COVID-19 a Barcelona (diari)</td>\n",
       "      <td>Nombre</td>\n",
       "    </tr>\n",
       "  </tbody>\n",
       "</table>\n",
       "</div>"
      ],
      "text/plain": [
       "  Nom_Variable                                   Font Data_Indicador  \\\n",
       "0               Agència de Salut Pública de Barcelona     2020-02-25   \n",
       "1               Agència de Salut Pública de Barcelona     2020-02-26   \n",
       "2               Agència de Salut Pública de Barcelona     2020-02-27   \n",
       "3               Agència de Salut Pública de Barcelona     2020-02-28   \n",
       "4               Agència de Salut Pública de Barcelona     2020-02-29   \n",
       "\n",
       "   Territori                                         _full_text  \\\n",
       "0  Barcelona  '-02':11 '-19':16 '-25':12 '1':9 '2020':10 'ag...   \n",
       "1  Barcelona  '-02':11 '-19':17 '-26':12 '0':9 '2020':10 'ag...   \n",
       "2  Barcelona  '-02':11 '-19':17 '-27':12 '0':9 '2020':10 'ag...   \n",
       "3  Barcelona  '-02':19 '-19':13 '-28':20 '0':9 '2020':18 'ag...   \n",
       "4  Barcelona  '-02':19 '-19':14 '-29':20 '0':9 '2020':18 'ag...   \n",
       "\n",
       "  Frequencia_Indicador Valor  _id                          Nom_Indicador  \\\n",
       "0                diari     1    1  Casos de COVID-19 a Barcelona (diari)   \n",
       "1                diari     0    2  Casos de COVID-19 a Barcelona (diari)   \n",
       "2                diari     0    3  Casos de COVID-19 a Barcelona (diari)   \n",
       "3                diari     0    4  Casos de COVID-19 a Barcelona (diari)   \n",
       "4                diari     0    5  Casos de COVID-19 a Barcelona (diari)   \n",
       "\n",
       "   Unitat  \n",
       "0  Nombre  \n",
       "1  Nombre  \n",
       "2  Nombre  \n",
       "3  Nombre  \n",
       "4  Nombre  "
      ]
     },
     "execution_count": 43,
     "metadata": {},
     "output_type": "execute_result"
    }
   ],
   "source": [
    "covid_df = pd.DataFrame(covid_json)\n",
    "covid_df.head()"
   ]
  },
  {
   "cell_type": "code",
   "execution_count": 44,
   "id": "a8d0ff1b",
   "metadata": {},
   "outputs": [
    {
     "data": {
      "text/plain": [
       "(773, 10)"
      ]
     },
     "execution_count": 44,
     "metadata": {},
     "output_type": "execute_result"
    }
   ],
   "source": [
    "covid_df.shape"
   ]
  },
  {
   "cell_type": "code",
   "execution_count": 45,
   "id": "f8337271",
   "metadata": {},
   "outputs": [
    {
     "data": {
      "text/html": [
       "<div>\n",
       "<style scoped>\n",
       "    .dataframe tbody tr th:only-of-type {\n",
       "        vertical-align: middle;\n",
       "    }\n",
       "\n",
       "    .dataframe tbody tr th {\n",
       "        vertical-align: top;\n",
       "    }\n",
       "\n",
       "    .dataframe thead th {\n",
       "        text-align: right;\n",
       "    }\n",
       "</style>\n",
       "<table border=\"1\" class=\"dataframe\">\n",
       "  <thead>\n",
       "    <tr style=\"text-align: right;\">\n",
       "      <th></th>\n",
       "      <th>Data_Indicador</th>\n",
       "      <th>Valor</th>\n",
       "    </tr>\n",
       "  </thead>\n",
       "  <tbody>\n",
       "    <tr>\n",
       "      <th>0</th>\n",
       "      <td>2020-02-25</td>\n",
       "      <td>1</td>\n",
       "    </tr>\n",
       "    <tr>\n",
       "      <th>1</th>\n",
       "      <td>2020-02-26</td>\n",
       "      <td>0</td>\n",
       "    </tr>\n",
       "    <tr>\n",
       "      <th>2</th>\n",
       "      <td>2020-02-27</td>\n",
       "      <td>0</td>\n",
       "    </tr>\n",
       "    <tr>\n",
       "      <th>3</th>\n",
       "      <td>2020-02-28</td>\n",
       "      <td>0</td>\n",
       "    </tr>\n",
       "    <tr>\n",
       "      <th>4</th>\n",
       "      <td>2020-02-29</td>\n",
       "      <td>0</td>\n",
       "    </tr>\n",
       "  </tbody>\n",
       "</table>\n",
       "</div>"
      ],
      "text/plain": [
       "  Data_Indicador Valor\n",
       "0     2020-02-25     1\n",
       "1     2020-02-26     0\n",
       "2     2020-02-27     0\n",
       "3     2020-02-28     0\n",
       "4     2020-02-29     0"
      ]
     },
     "execution_count": 45,
     "metadata": {},
     "output_type": "execute_result"
    }
   ],
   "source": [
    "covid_df = covid_df[['Data_Indicador', 'Valor']]\n",
    "covid_df.head()"
   ]
  },
  {
   "cell_type": "code",
   "execution_count": 46,
   "id": "c55c4af4",
   "metadata": {},
   "outputs": [],
   "source": [
    "covid_df['date'] = pd.to_datetime(covid_df.Data_Indicador).dt.date"
   ]
  },
  {
   "cell_type": "code",
   "execution_count": 47,
   "id": "4ff8cd63",
   "metadata": {},
   "outputs": [],
   "source": [
    "covid_df = covid_df\\\n",
    "    .drop('Data_Indicador', axis=1)\\\n",
    "    .rename(columns={'Valor': 'covid_cases'})"
   ]
  },
  {
   "cell_type": "code",
   "execution_count": 48,
   "id": "7f1e5772",
   "metadata": {},
   "outputs": [
    {
     "data": {
      "text/html": [
       "<div>\n",
       "<style scoped>\n",
       "    .dataframe tbody tr th:only-of-type {\n",
       "        vertical-align: middle;\n",
       "    }\n",
       "\n",
       "    .dataframe tbody tr th {\n",
       "        vertical-align: top;\n",
       "    }\n",
       "\n",
       "    .dataframe thead th {\n",
       "        text-align: right;\n",
       "    }\n",
       "</style>\n",
       "<table border=\"1\" class=\"dataframe\">\n",
       "  <thead>\n",
       "    <tr style=\"text-align: right;\">\n",
       "      <th></th>\n",
       "      <th>covid_cases</th>\n",
       "      <th>date</th>\n",
       "    </tr>\n",
       "  </thead>\n",
       "  <tbody>\n",
       "    <tr>\n",
       "      <th>239</th>\n",
       "      <td>1421</td>\n",
       "      <td>2020-10-21</td>\n",
       "    </tr>\n",
       "    <tr>\n",
       "      <th>664</th>\n",
       "      <td>2992</td>\n",
       "      <td>2021-12-20</td>\n",
       "    </tr>\n",
       "    <tr>\n",
       "      <th>537</th>\n",
       "      <td>125</td>\n",
       "      <td>2021-08-15</td>\n",
       "    </tr>\n",
       "    <tr>\n",
       "      <th>653</th>\n",
       "      <td>1017</td>\n",
       "      <td>2021-12-09</td>\n",
       "    </tr>\n",
       "    <tr>\n",
       "      <th>405</th>\n",
       "      <td>136</td>\n",
       "      <td>2021-04-05</td>\n",
       "    </tr>\n",
       "    <tr>\n",
       "      <th>583</th>\n",
       "      <td>58</td>\n",
       "      <td>2021-09-30</td>\n",
       "    </tr>\n",
       "    <tr>\n",
       "      <th>495</th>\n",
       "      <td>741</td>\n",
       "      <td>2021-07-04</td>\n",
       "    </tr>\n",
       "    <tr>\n",
       "      <th>229</th>\n",
       "      <td>153</td>\n",
       "      <td>2020-10-11</td>\n",
       "    </tr>\n",
       "    <tr>\n",
       "      <th>509</th>\n",
       "      <td>797</td>\n",
       "      <td>2021-07-18</td>\n",
       "    </tr>\n",
       "    <tr>\n",
       "      <th>317</th>\n",
       "      <td>949</td>\n",
       "      <td>2021-01-07</td>\n",
       "    </tr>\n",
       "  </tbody>\n",
       "</table>\n",
       "</div>"
      ],
      "text/plain": [
       "    covid_cases        date\n",
       "239        1421  2020-10-21\n",
       "664        2992  2021-12-20\n",
       "537         125  2021-08-15\n",
       "653        1017  2021-12-09\n",
       "405         136  2021-04-05\n",
       "583          58  2021-09-30\n",
       "495         741  2021-07-04\n",
       "229         153  2020-10-11\n",
       "509         797  2021-07-18\n",
       "317         949  2021-01-07"
      ]
     },
     "execution_count": 48,
     "metadata": {},
     "output_type": "execute_result"
    }
   ],
   "source": [
    "covid_df.sample(10)"
   ]
  },
  {
   "cell_type": "code",
   "execution_count": 49,
   "id": "0a57c9be",
   "metadata": {},
   "outputs": [
    {
     "name": "stdout",
     "output_type": "stream",
     "text": [
      "(16668022, 54)\n"
     ]
    }
   ],
   "source": [
    "print(df_merge_2.shape)\n",
    "\n",
    "df_merge_3 = pd.merge(\n",
    "    df_merge_2, \n",
    "    covid_df, \n",
    "    how='left', \n",
    "    left_on='date', \n",
    "    right_on='date'\n",
    ")"
   ]
  },
  {
   "cell_type": "code",
   "execution_count": 50,
   "id": "dccda74a-e6b7-485e-8453-3bce76ec5d1b",
   "metadata": {
    "tags": []
   },
   "outputs": [
    {
     "data": {
      "text/plain": [
       "(16668022, 55)"
      ]
     },
     "execution_count": 50,
     "metadata": {},
     "output_type": "execute_result"
    }
   ],
   "source": [
    "df_merge_3.shape"
   ]
  },
  {
   "cell_type": "markdown",
   "id": "8351a89a",
   "metadata": {},
   "source": [
    "We only have NaN values afterwards (not previous to the start of Covid).\n",
    "\n",
    "For those NaN, we will replace them by a percentile that is at the bottom (still not 0, as there are cases)."
   ]
  },
  {
   "cell_type": "code",
   "execution_count": 52,
   "id": "8dde591e",
   "metadata": {},
   "outputs": [],
   "source": [
    "df_merge_3.covid_cases = df_merge_3.covid_cases.astype('float')"
   ]
  },
  {
   "cell_type": "code",
   "execution_count": 53,
   "id": "98611414",
   "metadata": {},
   "outputs": [
    {
     "data": {
      "text/plain": [
       "count    8.615329e+06\n",
       "mean     6.542714e+02\n",
       "std      1.226942e+03\n",
       "min      0.000000e+00\n",
       "25%      9.000000e+01\n",
       "50%      2.690000e+02\n",
       "75%      5.800000e+02\n",
       "max      8.656000e+03\n",
       "Name: covid_cases, dtype: float64"
      ]
     },
     "execution_count": 53,
     "metadata": {},
     "output_type": "execute_result"
    }
   ],
   "source": [
    "df_merge_3.covid_cases.describe()"
   ]
  },
  {
   "cell_type": "code",
   "execution_count": 54,
   "id": "4723259e",
   "metadata": {},
   "outputs": [
    {
     "data": {
      "text/plain": [
       "<AxesSubplot:>"
      ]
     },
     "execution_count": 54,
     "metadata": {},
     "output_type": "execute_result"
    },
    {
     "data": {
      "image/png": "[encoded data removed]",
      "text/plain": [
       "<Figure size 640x480 with 1 Axes>"
      ]
     },
     "metadata": {},
     "output_type": "display_data"
    }
   ],
   "source": [
    "df_merge_3.covid_cases.hist(bins=50)"
   ]
  },
  {
   "cell_type": "code",
   "execution_count": 56,
   "id": "2e4286ed",
   "metadata": {},
   "outputs": [],
   "source": [
    "def fill_with_percentile(\n",
    "    df: pd.DataFrame, \n",
    "    column: str, \n",
    "    percentile: float = 0.03,\n",
    "    logging: bool = True\n",
    "):\n",
    "    \n",
    "    quantile_value = df[column].quantile(percentile)\n",
    "    \n",
    "    if logging:\n",
    "        print(f'Percentile {percentile} value is: ', quantile_value)\n",
    "        \n",
    "    df[column] = df[column].fillna(quantile_value)\n",
    "    \n",
    "    return df"
   ]
  },
  {
   "cell_type": "code",
   "execution_count": 57,
   "id": "986782c8",
   "metadata": {},
   "outputs": [
    {
     "name": "stdout",
     "output_type": "stream",
     "text": [
      "Percentile 0.03 value is:  6.0\n"
     ]
    }
   ],
   "source": [
    "df_merge_3 = fill_with_percentile(df_merge_3, 'covid_cases')"
   ]
  },
  {
   "cell_type": "markdown",
   "id": "e451cabf",
   "metadata": {},
   "source": [
    "We could add also information about in which dates the people where closed into their homes."
   ]
  },
  {
   "cell_type": "code",
   "execution_count": 58,
   "id": "db65bbd3",
   "metadata": {},
   "outputs": [],
   "source": [
    "confinment_start = '2020-03-14'\n",
    "confinment_date_start = datetime.strptime(confinment_start, '%Y-%m-%d').date()"
   ]
  },
  {
   "cell_type": "code",
   "execution_count": 59,
   "id": "c41d6711",
   "metadata": {},
   "outputs": [],
   "source": [
    "confinment_end = '2020-06-21'\n",
    "confinment_date_end = datetime.strptime(confinment_start, '%Y-%m-%d').date()"
   ]
  },
  {
   "cell_type": "code",
   "execution_count": 60,
   "id": "95d0714f",
   "metadata": {},
   "outputs": [],
   "source": [
    "index_non_confinment = df_merge_3[\n",
    "    (df_merge_3['date'] < confinment_date_start) |\n",
    "    (df_merge_3['date'] > confinment_date_end)\n",
    "].index"
   ]
  },
  {
   "cell_type": "code",
   "execution_count": 61,
   "id": "ab5ee14e",
   "metadata": {},
   "outputs": [],
   "source": [
    "df_merge_3.loc[index_non_confinment, 'confinment'] = 0\n",
    "df_merge_3['confinment'] = df_merge_3['confinment'].fillna(1)\n",
    "df_merge_3['confinment'] = df_merge_3['confinment'].astype('int')"
   ]
  },
  {
   "cell_type": "markdown",
   "id": "9bfd8a1b",
   "metadata": {},
   "source": [
    "### Barcelona Events"
   ]
  },
  {
   "cell_type": "code",
   "execution_count": null,
   "id": "6841f2c7",
   "metadata": {},
   "outputs": [],
   "source": [
    "os.makedirs('./events', exist_ok=True)"
   ]
  },
  {
   "cell_type": "code",
   "execution_count": null,
   "id": "2d045c22",
   "metadata": {},
   "outputs": [],
   "source": [
    "def get_opendataevents_json(url: str = 'https://www.bcn.cat/tercerlloc/files/opendatabcn_agenda.json'):\n",
    "    res = requests.get(url)\n",
    "    return res.json()"
   ]
  },
  {
   "cell_type": "code",
   "execution_count": null,
   "id": "a6c76bde",
   "metadata": {},
   "outputs": [],
   "source": [
    "if not os.path.isfile('./events/opendatabcn_agenda.json'):\n",
    "    events_json = get_opendataevents_json()\n",
    "    events_df = pd.DataFrame(events_json)\n",
    "    events_df.to_csv('./events/opendatabcn_agenda.json', index=False, header=True)\n",
    "\n",
    "else:\n",
    "    events_df = pd.read_csv('./events/opendatabcn_agenda.json')"
   ]
  },
  {
   "cell_type": "code",
   "execution_count": null,
   "id": "47b7455f",
   "metadata": {},
   "outputs": [],
   "source": [
    "events_df.head()"
   ]
  },
  {
   "cell_type": "code",
   "execution_count": null,
   "id": "573bc08c",
   "metadata": {},
   "outputs": [],
   "source": [
    "# Only having active dates\n",
    "events_df = events_df[events_df.core_type_name != 'Equipament']\n",
    "events_df = events_df[events_df.event_status == 'ok']"
   ]
  },
  {
   "cell_type": "code",
   "execution_count": null,
   "id": "a73c2b0d-7787-4cd7-bd96-9a4b2c566e42",
   "metadata": {},
   "outputs": [],
   "source": [
    "#def events_df_drop_columns(\n",
    "#    events_df: pd.DataFrame, \n",
    "#    columns_to_drop: typing.List[str] = [\n",
    "#        'register_id', 'prefix', 'suffix', 'name', 'created', 'modified', 'status', 'status_name',     # too specific\n",
    "#        'core_type', 'core_type_name',                                                                 # most is only one type of value\n",
    "#        'body', 'tickets_data', 'addresses', 'entity_types_data', 'attribute_categories', 'values',\n",
    "#        'from_relationships', 'to_relationships', 'classifications_data', 'secondary_filters_data',\n",
    "#        'timetable', 'image_data', 'gallery_data', 'warnings',                                         # unuseful information\n",
    "#        'is_section_of_data', 'sections_data', 'estimated_dates', 'languages_data', 'type', 'type_name',\n",
    "#        'period', 'period_name', 'event_status_name', 'event_status', 'ical',\n",
    "#        'geo_epgs_25831', 'geo_epgs_23031'                                                             # unwanted loations\n",
    "#    ]\n",
    "#):\n",
    "    \n",
    "#    return events_df.drop(columns_to_drop, axis=1, errors='ignore')"
   ]
  },
  {
   "cell_type": "code",
   "execution_count": null,
   "id": "89835491-73be-4d5c-9476-8a1cc6316d15",
   "metadata": {},
   "outputs": [],
   "source": [
    "# Drop columns not wanted\n",
    "#events_df = events_df_drop_columns(events_df)"
   ]
  },
  {
   "cell_type": "code",
   "execution_count": null,
   "id": "6f42ae67-e9f1-4da4-8955-a76c3ec634be",
   "metadata": {
    "tags": []
   },
   "outputs": [],
   "source": [
    "events_df = events_df.drop(['suffix', 'status', 'status_name', 'values', 'from_relationships', 'to_relationships'], axis=1)\n",
    "#events_df = events_df.drop(df[df['core_type_name'] == 'Equipament'].index)\n",
    "events_df = events_df.drop(['core_type', 'core_type_name', \n",
    "              'body', 'entity_types_data', \n",
    "              'attribute_categories', 'classifications_data', \n",
    "             'secondary_filters_data', 'timetable', \n",
    "             'image_data', 'warnings', 'is_section_of_data', 'sections_data',\n",
    "             'type_name', 'period', 'gallery_data', 'addresses'], axis=1)\n",
    "#events_df = events_df.drop(df[df['event_status'] == 'suspended'].index)\n",
    "#events_df = events_df.drop(df[df['event_status'] == 'deferred'].index)\n",
    "events_df = events_df.drop(['event_status_name', 'event_status', 'ical', 'estimated_dates'], axis=1)\n",
    "events_df = events_df.drop(['geo_epgs_25831', 'geo_epgs_23031'], axis=1)\n"
   ]
  },
  {
   "cell_type": "code",
   "execution_count": null,
   "id": "fc5683ec-2f5f-4e2b-ac8a-23f770431154",
   "metadata": {
    "tags": []
   },
   "outputs": [],
   "source": [
    "events_df = events_df.drop(['created', 'modified'], axis=1)\n",
    "events_df = events_df.drop(events_df[events_df['type'] == 'permanent'].index)\n",
    "#I am dropping the permanent events because they do not have significant\n",
    "#impact of the bicing frequency"
   ]
  },
  {
   "cell_type": "code",
   "execution_count": null,
   "id": "6c7189e5",
   "metadata": {},
   "outputs": [],
   "source": [
    "# Drop events with not enough data\n",
    "events_df.dropna(\n",
    "    axis=0, \n",
    "    how='any', \n",
    "    subset=['geo_epgs_4326', 'start_date'], \n",
    "    inplace=True\n",
    ")"
   ]
  },
  {
   "cell_type": "code",
   "execution_count": null,
   "id": "34459dfd",
   "metadata": {},
   "outputs": [],
   "source": [
    "events_df.head()"
   ]
  },
  {
   "cell_type": "code",
   "execution_count": null,
   "id": "d9d6ba5a",
   "metadata": {},
   "outputs": [],
   "source": [
    "def get_event_geographics(geo_position: str):\n",
    "    geo_position = ast.literal_eval(geo_position)\n",
    "    return geo_position['x'], geo_position['y']"
   ]
  },
  {
   "cell_type": "code",
   "execution_count": null,
   "id": "ad72ffc6",
   "metadata": {},
   "outputs": [],
   "source": [
    "events_geographic_x_y = events_df.geo_epgs_4326.apply(lambda x: get_event_geographics(x))\n",
    "events_df['x'] = [x for x, _ in events_geographic_x_y]\n",
    "events_df['y'] = [y for _, y in events_geographic_x_y]\n",
    "\n",
    "events_df = events_df[events_df.x > 0]\n",
    "events_df = events_df[events_df.y > 0]\n",
    "\n",
    "events_df.drop(['geo_epgs_4326'], axis=1, inplace=True)"
   ]
  },
  {
   "cell_type": "code",
   "execution_count": null,
   "id": "43e469ae-0460-4dc1-882c-acf34ed836e6",
   "metadata": {
    "tags": []
   },
   "outputs": [],
   "source": [
    "sns.jointplot(x=\"x\", y=\"y\", data= events_df, alpha=0.1)"
   ]
  },
  {
   "cell_type": "code",
   "execution_count": null,
   "id": "19862da2",
   "metadata": {},
   "outputs": [],
   "source": [
    "# In the case of null values of end date, we will assume is the same as start date (we will consider only days)\n",
    "events_df.end_date.fillna(events_df.start_date, inplace=True)"
   ]
  },
  {
   "cell_type": "code",
   "execution_count": null,
   "id": "540dac18",
   "metadata": {},
   "outputs": [],
   "source": [
    "events_df['start_date'] = pd.to_datetime(events_df['start_date'], utc=True).dt.date\n",
    "events_df['end_date'] = pd.to_datetime(events_df['end_date'], utc=True).dt.date\n",
    "\n",
    "events_df['year'] = pd.to_datetime(events_df['start_date'], utc=True).dt.year\n",
    "print(events_df['year'].value_counts())"
   ]
  },
  {
   "cell_type": "markdown",
   "id": "16344f57-a138-4251-9967-1d4c8f2efb0a",
   "metadata": {
    "tags": []
   },
   "source": [
    "### Include the dataframe with the holidays"
   ]
  },
  {
   "cell_type": "code",
   "execution_count": 62,
   "id": "9cf4aa56-3eb9-46a3-8f9b-f90717320d09",
   "metadata": {
    "tags": []
   },
   "outputs": [],
   "source": [
    "from functools import lru_cache\n",
    "import ics\n",
    "import icalendar\n",
    "from icalendar import Calendar, Event, vCalAddress, vText\n",
    "from pathlib import Path\n",
    "import pytz"
   ]
  },
  {
   "cell_type": "code",
   "execution_count": 63,
   "id": "a0a2ae4d-a1d5-42a9-a080-e73b951b4832",
   "metadata": {
    "tags": []
   },
   "outputs": [
    {
     "name": "stdout",
     "output_type": "stream",
     "text": [
      "VCALENDAR\n",
      "VTIMEZONE\n",
      "DAYLIGHT\n",
      "STANDARD\n",
      "VEVENT\n",
      "VEVENT\n",
      "VEVENT\n",
      "VEVENT\n",
      "VEVENT\n",
      "VEVENT\n",
      "VEVENT\n",
      "VEVENT\n",
      "VEVENT\n",
      "VEVENT\n",
      "VEVENT\n",
      "VEVENT\n",
      "VEVENT\n",
      "VEVENT\n",
      "VEVENT\n"
     ]
    }
   ],
   "source": [
    "e = open('calendarifestius_en.ics', 'rb')\n",
    "ecal = icalendar.Calendar.from_ical(e.read())\n",
    "for component in ecal.walk():\n",
    "    print(component.name)\n",
    "e.close()"
   ]
  },
  {
   "cell_type": "code",
   "execution_count": 64,
   "id": "f73cd486-d25b-4004-be01-778106d94422",
   "metadata": {
    "tags": []
   },
   "outputs": [
    {
     "name": "stdout",
     "output_type": "stream",
     "text": [
      "Summary    object\n",
      "Start      object\n",
      "End        object\n",
      "dtype: object\n"
     ]
    }
   ],
   "source": [
    "# Extract relevant information\n",
    "events = []\n",
    "for event in ecal.walk('VEVENT'):\n",
    "    event_data = {\n",
    "        'Summary': event.get('summary'),\n",
    "        'Start': event.get('dtstart').dt,\n",
    "        'End': event.get('dtend').dt,\n",
    "        # Add more properties as needed\n",
    "    }\n",
    "    events.append(event_data)\n",
    "\n",
    "# Create a DataFrame from the extracted information\n",
    "df_ecal = pd.DataFrame(events)\n",
    "\n",
    "# Print the DataFrame\n",
    "print(df_ecal.dtypes)"
   ]
  },
  {
   "cell_type": "code",
   "execution_count": 65,
   "id": "d5cae044-4694-4f4a-80ea-d4b66c759706",
   "metadata": {
    "tags": []
   },
   "outputs": [
    {
     "name": "stdout",
     "output_type": "stream",
     "text": [
      "Summary                 object\n",
      "Start      datetime64[ns, UTC]\n",
      "End        datetime64[ns, UTC]\n",
      "dtype: object\n"
     ]
    }
   ],
   "source": [
    "df_ecal['Start'] = pd.to_datetime(df_ecal['Start'], utc=True)\n",
    "df_ecal['End'] = pd.to_datetime(df_ecal['End'], utc=True)\n",
    "print(df_ecal.dtypes)"
   ]
  },
  {
   "cell_type": "code",
   "execution_count": 66,
   "id": "6da9815f-26a6-4ec0-97a1-8314e4c060e2",
   "metadata": {
    "tags": []
   },
   "outputs": [],
   "source": [
    "df_ecal = df_ecal.rename(columns={\"Start\": 'start_date', \"End\": 'end_date', \"Summary\":\"name\"})\n"
   ]
  },
  {
   "cell_type": "code",
   "execution_count": 67,
   "id": "caf6c296-73dc-443b-886a-f18c56127c76",
   "metadata": {
    "tags": []
   },
   "outputs": [],
   "source": [
    "df_ecal['year'] = df_ecal['start_date'].dt.year\n",
    "df_ecal['month'] = df_ecal['start_date'].dt.month\n",
    "df_ecal['day'] = df_ecal['start_date'].dt.day\n",
    "\n",
    "df_ecal['end_day'] = df_ecal['end_date'].dt.day\n",
    "df_ecal['end_month'] = df_ecal['end_date'].dt.month"
   ]
  },
  {
   "cell_type": "code",
   "execution_count": 68,
   "id": "95eed8d2-cd3f-49da-b1ff-e27593efe482",
   "metadata": {
    "tags": []
   },
   "outputs": [],
   "source": [
    "#Since these holidays last the whole week, I will remove them and add\n",
    "#manually christmas and easter holidays\n",
    "df_ecal = df_ecal.drop(df_ecal[df_ecal['name'] == 'Good Friday'].index)\n",
    "df_ecal = df_ecal.drop(df_ecal[df_ecal['name'] == 'Easter Monday'].index)\n",
    "df_ecal = df_ecal.drop(df_ecal[df_ecal['name'] == 'Christmas'].index)\n",
    "df_ecal = df_ecal.drop(df_ecal[df_ecal['name'] == 'Boxing Day'].index)"
   ]
  },
  {
   "cell_type": "code",
   "execution_count": 69,
   "id": "4592a7f8-0559-4cd6-bbe3-a0aefc75eae6",
   "metadata": {
    "tags": []
   },
   "outputs": [
    {
     "data": {
      "text/html": [
       "<div>\n",
       "<style scoped>\n",
       "    .dataframe tbody tr th:only-of-type {\n",
       "        vertical-align: middle;\n",
       "    }\n",
       "\n",
       "    .dataframe tbody tr th {\n",
       "        vertical-align: top;\n",
       "    }\n",
       "\n",
       "    .dataframe thead th {\n",
       "        text-align: right;\n",
       "    }\n",
       "</style>\n",
       "<table border=\"1\" class=\"dataframe\">\n",
       "  <thead>\n",
       "    <tr style=\"text-align: right;\">\n",
       "      <th></th>\n",
       "      <th>name</th>\n",
       "      <th>start_date</th>\n",
       "      <th>end_date</th>\n",
       "      <th>year</th>\n",
       "      <th>month</th>\n",
       "      <th>day</th>\n",
       "      <th>end_day</th>\n",
       "      <th>end_month</th>\n",
       "    </tr>\n",
       "  </thead>\n",
       "  <tbody>\n",
       "    <tr>\n",
       "      <th>0</th>\n",
       "      <td>Epiphany / Three Kings’ Day</td>\n",
       "      <td>2023-01-06 00:00:00+00:00</td>\n",
       "      <td>2023-01-07 00:00:00+00:00</td>\n",
       "      <td>2023</td>\n",
       "      <td>1</td>\n",
       "      <td>6</td>\n",
       "      <td>7</td>\n",
       "      <td>1</td>\n",
       "    </tr>\n",
       "    <tr>\n",
       "      <th>1</th>\n",
       "      <td>Labour Day</td>\n",
       "      <td>2023-05-01 00:00:00+00:00</td>\n",
       "      <td>2023-05-02 00:00:00+00:00</td>\n",
       "      <td>2023</td>\n",
       "      <td>5</td>\n",
       "      <td>1</td>\n",
       "      <td>2</td>\n",
       "      <td>5</td>\n",
       "    </tr>\n",
       "    <tr>\n",
       "      <th>2</th>\n",
       "      <td>Local holidays in Barcelona</td>\n",
       "      <td>2023-06-05 00:00:00+00:00</td>\n",
       "      <td>2023-06-06 00:00:00+00:00</td>\n",
       "      <td>2023</td>\n",
       "      <td>6</td>\n",
       "      <td>5</td>\n",
       "      <td>6</td>\n",
       "      <td>6</td>\n",
       "    </tr>\n",
       "    <tr>\n",
       "      <th>3</th>\n",
       "      <td>Sant Joan / Midsummer solstice</td>\n",
       "      <td>2023-06-24 00:00:00+00:00</td>\n",
       "      <td>2023-06-25 00:00:00+00:00</td>\n",
       "      <td>2023</td>\n",
       "      <td>6</td>\n",
       "      <td>24</td>\n",
       "      <td>25</td>\n",
       "      <td>6</td>\n",
       "    </tr>\n",
       "    <tr>\n",
       "      <th>4</th>\n",
       "      <td>Assumption of Mary</td>\n",
       "      <td>2023-08-15 00:00:00+00:00</td>\n",
       "      <td>2023-08-16 00:00:00+00:00</td>\n",
       "      <td>2023</td>\n",
       "      <td>8</td>\n",
       "      <td>15</td>\n",
       "      <td>16</td>\n",
       "      <td>8</td>\n",
       "    </tr>\n",
       "  </tbody>\n",
       "</table>\n",
       "</div>"
      ],
      "text/plain": [
       "                             name                start_date  \\\n",
       "0     Epiphany / Three Kings’ Day 2023-01-06 00:00:00+00:00   \n",
       "1                      Labour Day 2023-05-01 00:00:00+00:00   \n",
       "2     Local holidays in Barcelona 2023-06-05 00:00:00+00:00   \n",
       "3  Sant Joan / Midsummer solstice 2023-06-24 00:00:00+00:00   \n",
       "4              Assumption of Mary 2023-08-15 00:00:00+00:00   \n",
       "\n",
       "                   end_date  year  month  day  end_day  end_month  \n",
       "0 2023-01-07 00:00:00+00:00  2023      1    6        7          1  \n",
       "1 2023-05-02 00:00:00+00:00  2023      5    1        2          5  \n",
       "2 2023-06-06 00:00:00+00:00  2023      6    5        6          6  \n",
       "3 2023-06-25 00:00:00+00:00  2023      6   24       25          6  \n",
       "4 2023-08-16 00:00:00+00:00  2023      8   15       16          8  "
      ]
     },
     "execution_count": 69,
     "metadata": {},
     "output_type": "execute_result"
    }
   ],
   "source": [
    "def holy_week(df, name, start_date, end_date):\n",
    "    df = pd.DataFrame({'name': [name], 'start_date': [start_date],\n",
    "                              'end_date' : [end_date]})\n",
    "    df['start_date'] = pd.to_datetime(df['start_date'], utc=True)\n",
    "    df['end_date'] = pd.to_datetime(df['end_date'], utc=True)\n",
    "    df['day'] = df['start_date'].dt.day\n",
    "    df['month'] = df['start_date'].dt.month\n",
    "    df['year'] = df['start_date'].dt.year\n",
    "    df['end_day'] = df['end_date'].dt.day\n",
    "    df['end_month'] = df['end_date'].dt.month\n",
    "    return df\n",
    "   \n",
    "holy_week_2023 = holy_week(df, 'Holy Week 2023', \"2023-04-02 00:00:00+00:00\", \"2023-04-10 00:00:00+00:00\")\n",
    "holy_week_2022 = holy_week(df, 'Holy Week 2022', \"2022-04-10 00:00:00+00:00\", \"2022-04-18 00:00:00+00:00\")\n",
    "holy_week_2021 = holy_week(df, 'Holy Week 2021', \"2021-03-28 00:00:00+00:00\", \"2021-04-05 00:00:00+00:00\")\n",
    "holy_week_2020 = holy_week(df, 'Holy Week 2020', \"2020-04-05 00:00:00+00:00\", \"2020-04-13 00:00:00+00:00\")\n",
    "holy_week_2019 = holy_week(df, 'Holy Week 2019', \"2019-04-14 00:00:00+00:00\", \"2019-04-22 00:00:00+00:00\")\n",
    "\n",
    "\n",
    "df_ecal = df_ecal.append(holy_week_2023, ignore_index=True)\n",
    "df_ecal = df_ecal.append(holy_week_2022, ignore_index=True)\n",
    "df_ecal = df_ecal.append(holy_week_2021, ignore_index=True)\n",
    "df_ecal = df_ecal.append(holy_week_2020, ignore_index=True)\n",
    "df_ecal = df_ecal.append(holy_week_2019, ignore_index=True)\n",
    "df_ecal.head()"
   ]
  },
  {
   "cell_type": "code",
   "execution_count": 70,
   "id": "e51afce6-20a1-4562-bf3f-94d8c1d9d75c",
   "metadata": {
    "tags": []
   },
   "outputs": [
    {
     "data": {
      "text/html": [
       "<div>\n",
       "<style scoped>\n",
       "    .dataframe tbody tr th:only-of-type {\n",
       "        vertical-align: middle;\n",
       "    }\n",
       "\n",
       "    .dataframe tbody tr th {\n",
       "        vertical-align: top;\n",
       "    }\n",
       "\n",
       "    .dataframe thead th {\n",
       "        text-align: right;\n",
       "    }\n",
       "</style>\n",
       "<table border=\"1\" class=\"dataframe\">\n",
       "  <thead>\n",
       "    <tr style=\"text-align: right;\">\n",
       "      <th></th>\n",
       "      <th>name</th>\n",
       "      <th>start_date</th>\n",
       "      <th>end_date</th>\n",
       "      <th>year</th>\n",
       "      <th>month</th>\n",
       "      <th>day</th>\n",
       "      <th>end_day</th>\n",
       "      <th>end_month</th>\n",
       "    </tr>\n",
       "  </thead>\n",
       "  <tbody>\n",
       "    <tr>\n",
       "      <th>0</th>\n",
       "      <td>Epiphany / Three Kings’ Day</td>\n",
       "      <td>2023-01-06 00:00:00+00:00</td>\n",
       "      <td>2023-01-07 00:00:00+00:00</td>\n",
       "      <td>2023</td>\n",
       "      <td>1</td>\n",
       "      <td>6</td>\n",
       "      <td>7</td>\n",
       "      <td>1</td>\n",
       "    </tr>\n",
       "    <tr>\n",
       "      <th>1</th>\n",
       "      <td>Labour Day</td>\n",
       "      <td>2023-05-01 00:00:00+00:00</td>\n",
       "      <td>2023-05-02 00:00:00+00:00</td>\n",
       "      <td>2023</td>\n",
       "      <td>5</td>\n",
       "      <td>1</td>\n",
       "      <td>2</td>\n",
       "      <td>5</td>\n",
       "    </tr>\n",
       "    <tr>\n",
       "      <th>2</th>\n",
       "      <td>Local holidays in Barcelona</td>\n",
       "      <td>2023-06-05 00:00:00+00:00</td>\n",
       "      <td>2023-06-06 00:00:00+00:00</td>\n",
       "      <td>2023</td>\n",
       "      <td>6</td>\n",
       "      <td>5</td>\n",
       "      <td>6</td>\n",
       "      <td>6</td>\n",
       "    </tr>\n",
       "    <tr>\n",
       "      <th>3</th>\n",
       "      <td>Sant Joan / Midsummer solstice</td>\n",
       "      <td>2023-06-24 00:00:00+00:00</td>\n",
       "      <td>2023-06-25 00:00:00+00:00</td>\n",
       "      <td>2023</td>\n",
       "      <td>6</td>\n",
       "      <td>24</td>\n",
       "      <td>25</td>\n",
       "      <td>6</td>\n",
       "    </tr>\n",
       "    <tr>\n",
       "      <th>4</th>\n",
       "      <td>Assumption of Mary</td>\n",
       "      <td>2023-08-15 00:00:00+00:00</td>\n",
       "      <td>2023-08-16 00:00:00+00:00</td>\n",
       "      <td>2023</td>\n",
       "      <td>8</td>\n",
       "      <td>15</td>\n",
       "      <td>16</td>\n",
       "      <td>8</td>\n",
       "    </tr>\n",
       "  </tbody>\n",
       "</table>\n",
       "</div>"
      ],
      "text/plain": [
       "                             name                start_date  \\\n",
       "0     Epiphany / Three Kings’ Day 2023-01-06 00:00:00+00:00   \n",
       "1                      Labour Day 2023-05-01 00:00:00+00:00   \n",
       "2     Local holidays in Barcelona 2023-06-05 00:00:00+00:00   \n",
       "3  Sant Joan / Midsummer solstice 2023-06-24 00:00:00+00:00   \n",
       "4              Assumption of Mary 2023-08-15 00:00:00+00:00   \n",
       "\n",
       "                   end_date  year  month  day  end_day  end_month  \n",
       "0 2023-01-07 00:00:00+00:00  2023      1    6        7          1  \n",
       "1 2023-05-02 00:00:00+00:00  2023      5    1        2          5  \n",
       "2 2023-06-06 00:00:00+00:00  2023      6    5        6          6  \n",
       "3 2023-06-25 00:00:00+00:00  2023      6   24       25          6  \n",
       "4 2023-08-16 00:00:00+00:00  2023      8   15       16          8  "
      ]
     },
     "execution_count": 70,
     "metadata": {},
     "output_type": "execute_result"
    }
   ],
   "source": [
    "def xmas_time(df, name, start_date, end_date):\n",
    "    df = pd.DataFrame({'name': [name], 'start_date': [start_date],\n",
    "                              'end_date' : [end_date]})\n",
    "    df['start_date'] = pd.to_datetime(df['start_date'], utc=True)\n",
    "    df['end_date'] = pd.to_datetime(df['end_date'], utc=True)\n",
    "    df['day'] = df['start_date'].dt.day\n",
    "    df['month'] = df['start_date'].dt.month\n",
    "    df['year'] = df['start_date'].dt.year\n",
    "    df['end_day'] = df['end_date'].dt.day\n",
    "    df['end_month'] = df['end_date'].dt.month\n",
    "    return df\n",
    "   \n",
    "xmas_2023 = xmas_time(df, 'Christmas 2023', \"2023-12-25 00:00:00+00:00\", \"2024-01-02 00:00:00+00:00\")\n",
    "xmas_2022 = xmas_time(df, 'Christmas 2022', \"2022-12-25 00:00:00+00:00\", \"2023-01-02 00:00:00+00:00\")\n",
    "xmas_2021 = xmas_time(df, 'Christmas 2021', \"2021-12-25 00:00:00+00:00\", \"2022-01-02 00:00:00+00:00\")\n",
    "xmas_2020 = xmas_time(df, 'Christmas 2020', \"2020-12-25 00:00:00+00:00\", \"2021-01-02 00:00:00+00:00\")\n",
    "xmas_2019 = xmas_time(df, 'Christmas 2019', \"2019-12-25 00:00:00+00:00\", \"2020-01-02 00:00:00+00:00\")\n",
    "\n",
    "\n",
    "df_ecal = df_ecal.append(xmas_2023, ignore_index=True)\n",
    "df_ecal = df_ecal.append(xmas_2022, ignore_index=True)\n",
    "df_ecal = df_ecal.append(xmas_2021, ignore_index=True)\n",
    "df_ecal = df_ecal.append(xmas_2020, ignore_index=True)\n",
    "df_ecal = df_ecal.append(xmas_2019, ignore_index=True)\n",
    "df_ecal.head()"
   ]
  },
  {
   "cell_type": "code",
   "execution_count": 71,
   "id": "9dd67478-0815-4352-a67a-ff80fc1613c1",
   "metadata": {
    "tags": []
   },
   "outputs": [
    {
     "name": "stdout",
     "output_type": "stream",
     "text": [
      "(21, 8)\n",
      "(91, 8)\n"
     ]
    }
   ],
   "source": [
    "print(df_ecal.shape)\n",
    "\n",
    "# Define a function to duplicate rows based on the days between 'starting_date' and 'ending_date'\n",
    "def duplicate_rows(row):\n",
    "    date_range = pd.date_range(start=row['start_date'], end=row['end_date'], closed='left')\n",
    "    duplicated_rows = pd.DataFrame({'start_date': date_range[1:]}, index=range(1, len(date_range)))\n",
    "    return duplicated_rows\n",
    "\n",
    "# Apply the function to each row and concatenate the results\n",
    "duplicated_df = pd.concat(df_ecal.apply(duplicate_rows, axis=1).tolist())\n",
    "duplicated_df['day'] = duplicated_df['start_date'].dt.day\n",
    "duplicated_df['month'] = duplicated_df['start_date'].dt.month\n",
    "duplicated_df['year'] = duplicated_df['start_date'].dt.year\n",
    "# Merge duplicated rows with the original DataFrame\n",
    "df_ecal = pd.concat([df_ecal, duplicated_df], ignore_index=True)\n",
    "\n",
    "print(df_ecal.shape)"
   ]
  },
  {
   "cell_type": "code",
   "execution_count": 72,
   "id": "ad09f7ef-cb57-4774-8d5d-6c55985c8627",
   "metadata": {
    "tags": []
   },
   "outputs": [
    {
     "name": "stdout",
     "output_type": "stream",
     "text": [
      "(91, 8)\n"
     ]
    }
   ],
   "source": [
    "# Define the condition\n",
    "condition = (df_ecal['year'] == 2023) & (df_ecal['month'] == 4)\n",
    "# Modify the values of column 'c' where the condition is True\n",
    "df_ecal.loc[condition, 'name'] = 'Holy week 2023'\n",
    "\n",
    "# Define the condition\n",
    "condition_22 = (df_ecal['year'] == 2022) & (df_ecal['month'] == 4)\n",
    "# Modify the values of column 'c' where the condition is True\n",
    "df_ecal.loc[condition_22, 'name'] = 'Holy week 2022'\n",
    "\n",
    "# Define the condition\n",
    "condition_21 = (df_ecal['year'] == 2021) & (df_ecal['month'] == 4)\n",
    "# Modify the values of column 'c' where the condition is True\n",
    "df_ecal.loc[condition_21, 'name'] = 'Holy week 2021'\n",
    "\n",
    "# Define the condition\n",
    "condition_21 = (df_ecal['year'] == 2021) & (df_ecal['month'] == 3)\n",
    "# Modify the values of column 'c' where the condition is True\n",
    "df_ecal.loc[condition_21, 'name'] = 'Holy week 2021'\n",
    "\n",
    "# Define the condition\n",
    "condition_20 = (df_ecal['year'] == 2020) & (df_ecal['month'] == 4)\n",
    "# Modify the values of column 'c' where the condition is True\n",
    "df_ecal.loc[condition_20, 'name'] = 'Holy week 2020'\n",
    "\n",
    "# Define the condition\n",
    "condition_19 = (df_ecal['year'] == 2019) & (df_ecal['month'] == 4)\n",
    "# Modify the values of column 'c' where the condition is True\n",
    "df_ecal.loc[condition_19, 'name'] = 'Holy week 2019'\n",
    "\n",
    "print(df_ecal.shape)"
   ]
  },
  {
   "cell_type": "code",
   "execution_count": 73,
   "id": "68627900-4e88-4884-ae2a-ae0e2ede28a0",
   "metadata": {
    "tags": []
   },
   "outputs": [
    {
     "data": {
      "text/html": [
       "<div>\n",
       "<style scoped>\n",
       "    .dataframe tbody tr th:only-of-type {\n",
       "        vertical-align: middle;\n",
       "    }\n",
       "\n",
       "    .dataframe tbody tr th {\n",
       "        vertical-align: top;\n",
       "    }\n",
       "\n",
       "    .dataframe thead th {\n",
       "        text-align: right;\n",
       "    }\n",
       "</style>\n",
       "<table border=\"1\" class=\"dataframe\">\n",
       "  <thead>\n",
       "    <tr style=\"text-align: right;\">\n",
       "      <th></th>\n",
       "      <th>name</th>\n",
       "      <th>start_date</th>\n",
       "      <th>end_date</th>\n",
       "      <th>year</th>\n",
       "      <th>month</th>\n",
       "      <th>day</th>\n",
       "      <th>end_day</th>\n",
       "      <th>end_month</th>\n",
       "    </tr>\n",
       "  </thead>\n",
       "  <tbody>\n",
       "    <tr>\n",
       "      <th>0</th>\n",
       "      <td>Epiphany / Three Kings’ Day</td>\n",
       "      <td>2023-01-06 00:00:00+00:00</td>\n",
       "      <td>2023-01-07 00:00:00+00:00</td>\n",
       "      <td>2023</td>\n",
       "      <td>1</td>\n",
       "      <td>6</td>\n",
       "      <td>7.0</td>\n",
       "      <td>1.0</td>\n",
       "    </tr>\n",
       "    <tr>\n",
       "      <th>1</th>\n",
       "      <td>Labour Day</td>\n",
       "      <td>2023-05-01 00:00:00+00:00</td>\n",
       "      <td>2023-05-02 00:00:00+00:00</td>\n",
       "      <td>2023</td>\n",
       "      <td>5</td>\n",
       "      <td>1</td>\n",
       "      <td>2.0</td>\n",
       "      <td>5.0</td>\n",
       "    </tr>\n",
       "    <tr>\n",
       "      <th>2</th>\n",
       "      <td>Local holidays in Barcelona</td>\n",
       "      <td>2023-06-05 00:00:00+00:00</td>\n",
       "      <td>2023-06-06 00:00:00+00:00</td>\n",
       "      <td>2023</td>\n",
       "      <td>6</td>\n",
       "      <td>5</td>\n",
       "      <td>6.0</td>\n",
       "      <td>6.0</td>\n",
       "    </tr>\n",
       "    <tr>\n",
       "      <th>3</th>\n",
       "      <td>Sant Joan / Midsummer solstice</td>\n",
       "      <td>2023-06-24 00:00:00+00:00</td>\n",
       "      <td>2023-06-25 00:00:00+00:00</td>\n",
       "      <td>2023</td>\n",
       "      <td>6</td>\n",
       "      <td>24</td>\n",
       "      <td>25.0</td>\n",
       "      <td>6.0</td>\n",
       "    </tr>\n",
       "    <tr>\n",
       "      <th>4</th>\n",
       "      <td>Assumption of Mary</td>\n",
       "      <td>2023-08-15 00:00:00+00:00</td>\n",
       "      <td>2023-08-16 00:00:00+00:00</td>\n",
       "      <td>2023</td>\n",
       "      <td>8</td>\n",
       "      <td>15</td>\n",
       "      <td>16.0</td>\n",
       "      <td>8.0</td>\n",
       "    </tr>\n",
       "    <tr>\n",
       "      <th>...</th>\n",
       "      <td>...</td>\n",
       "      <td>...</td>\n",
       "      <td>...</td>\n",
       "      <td>...</td>\n",
       "      <td>...</td>\n",
       "      <td>...</td>\n",
       "      <td>...</td>\n",
       "      <td>...</td>\n",
       "    </tr>\n",
       "    <tr>\n",
       "      <th>86</th>\n",
       "      <td>NaN</td>\n",
       "      <td>2019-12-28 00:00:00+00:00</td>\n",
       "      <td>NaT</td>\n",
       "      <td>2019</td>\n",
       "      <td>12</td>\n",
       "      <td>28</td>\n",
       "      <td>NaN</td>\n",
       "      <td>NaN</td>\n",
       "    </tr>\n",
       "    <tr>\n",
       "      <th>87</th>\n",
       "      <td>NaN</td>\n",
       "      <td>2019-12-29 00:00:00+00:00</td>\n",
       "      <td>NaT</td>\n",
       "      <td>2019</td>\n",
       "      <td>12</td>\n",
       "      <td>29</td>\n",
       "      <td>NaN</td>\n",
       "      <td>NaN</td>\n",
       "    </tr>\n",
       "    <tr>\n",
       "      <th>88</th>\n",
       "      <td>NaN</td>\n",
       "      <td>2019-12-30 00:00:00+00:00</td>\n",
       "      <td>NaT</td>\n",
       "      <td>2019</td>\n",
       "      <td>12</td>\n",
       "      <td>30</td>\n",
       "      <td>NaN</td>\n",
       "      <td>NaN</td>\n",
       "    </tr>\n",
       "    <tr>\n",
       "      <th>89</th>\n",
       "      <td>NaN</td>\n",
       "      <td>2019-12-31 00:00:00+00:00</td>\n",
       "      <td>NaT</td>\n",
       "      <td>2019</td>\n",
       "      <td>12</td>\n",
       "      <td>31</td>\n",
       "      <td>NaN</td>\n",
       "      <td>NaN</td>\n",
       "    </tr>\n",
       "    <tr>\n",
       "      <th>90</th>\n",
       "      <td>NaN</td>\n",
       "      <td>2020-01-01 00:00:00+00:00</td>\n",
       "      <td>NaT</td>\n",
       "      <td>2020</td>\n",
       "      <td>1</td>\n",
       "      <td>1</td>\n",
       "      <td>NaN</td>\n",
       "      <td>NaN</td>\n",
       "    </tr>\n",
       "  </tbody>\n",
       "</table>\n",
       "<p>91 rows × 8 columns</p>\n",
       "</div>"
      ],
      "text/plain": [
       "                              name                start_date  \\\n",
       "0      Epiphany / Three Kings’ Day 2023-01-06 00:00:00+00:00   \n",
       "1                       Labour Day 2023-05-01 00:00:00+00:00   \n",
       "2      Local holidays in Barcelona 2023-06-05 00:00:00+00:00   \n",
       "3   Sant Joan / Midsummer solstice 2023-06-24 00:00:00+00:00   \n",
       "4               Assumption of Mary 2023-08-15 00:00:00+00:00   \n",
       "..                             ...                       ...   \n",
       "86                             NaN 2019-12-28 00:00:00+00:00   \n",
       "87                             NaN 2019-12-29 00:00:00+00:00   \n",
       "88                             NaN 2019-12-30 00:00:00+00:00   \n",
       "89                             NaN 2019-12-31 00:00:00+00:00   \n",
       "90                             NaN 2020-01-01 00:00:00+00:00   \n",
       "\n",
       "                    end_date  year  month  day  end_day  end_month  \n",
       "0  2023-01-07 00:00:00+00:00  2023      1    6      7.0        1.0  \n",
       "1  2023-05-02 00:00:00+00:00  2023      5    1      2.0        5.0  \n",
       "2  2023-06-06 00:00:00+00:00  2023      6    5      6.0        6.0  \n",
       "3  2023-06-25 00:00:00+00:00  2023      6   24     25.0        6.0  \n",
       "4  2023-08-16 00:00:00+00:00  2023      8   15     16.0        8.0  \n",
       "..                       ...   ...    ...  ...      ...        ...  \n",
       "86                       NaT  2019     12   28      NaN        NaN  \n",
       "87                       NaT  2019     12   29      NaN        NaN  \n",
       "88                       NaT  2019     12   30      NaN        NaN  \n",
       "89                       NaT  2019     12   31      NaN        NaN  \n",
       "90                       NaT  2020      1    1      NaN        NaN  \n",
       "\n",
       "[91 rows x 8 columns]"
      ]
     },
     "execution_count": 73,
     "metadata": {},
     "output_type": "execute_result"
    }
   ],
   "source": [
    "df_ecal = df_ecal.sort_index(axis=0)\n",
    "df_ecal"
   ]
  },
  {
   "cell_type": "code",
   "execution_count": 74,
   "id": "0d19287e-2229-4471-abc4-8af8f806c5ef",
   "metadata": {
    "tags": []
   },
   "outputs": [],
   "source": [
    "# XMAS 2023-2024\n",
    "condition = (df_ecal['year'] == 2023) & (df_ecal['month'] == 12)\n",
    "df_ecal.loc[condition, 'name'] = 'Christmas 2023'\n",
    "\n",
    "condition = (df_ecal['year'] == 2024) & (df_ecal['month'] == 1)\n",
    "df_ecal.loc[condition, 'name'] = 'Christmas 2023'\n",
    "\n",
    "# XMAS 2022-2023\n",
    "condition_22 = (df_ecal['year'] == 2022) & (df_ecal['month'] == 12)\n",
    "df_ecal.loc[condition_22, 'name'] = 'Christmas 2022'\n",
    "\n",
    "condition_22 = (df_ecal['year'] == 2023) & (df_ecal['month'] == 1)\n",
    "df_ecal.loc[condition_22, 'name'] = 'Christmas 2022'\n",
    "\n",
    "# XMAS 2021-2022\n",
    "condition_21 = (df_ecal['year'] == 2021) & (df_ecal['month'] == 12)\n",
    "df_ecal.loc[condition_21, 'name'] = 'Christmas 2021'\n",
    "\n",
    "condition_21 = (df_ecal['year'] == 2022) & (df_ecal['month'] == 1)\n",
    "df_ecal.loc[condition_21, 'name'] = 'Christmas 2021'\n",
    "\n",
    "# XMAS 2020-2021\n",
    "condition_20 = (df_ecal['year'] == 2020) & (df_ecal['month'] == 12)\n",
    "df_ecal.loc[condition_20, 'name'] = 'Christmas 2020'\n",
    "\n",
    "condition_20 = (df_ecal['year'] == 2021) & (df_ecal['month'] == 1)\n",
    "df_ecal.loc[condition_20, 'name'] = 'Christmas 2020'\n",
    "\n",
    "# XMAS 2019-2020\n",
    "condition_19 = (df_ecal['year'] == 2019) & (df_ecal['month'] == 12)\n",
    "df_ecal.loc[condition_19, 'name'] = 'Christmas 2019'\n",
    "\n",
    "condition_19 = (df_ecal['year'] == 2020) & (df_ecal['month'] == 1)\n",
    "df_ecal.loc[condition_19, 'name'] = 'Christmas 2019'"
   ]
  },
  {
   "cell_type": "code",
   "execution_count": 75,
   "id": "87e40413-b148-4f30-918b-0b5e41859443",
   "metadata": {
    "tags": []
   },
   "outputs": [
    {
     "data": {
      "text/html": [
       "<div>\n",
       "<style scoped>\n",
       "    .dataframe tbody tr th:only-of-type {\n",
       "        vertical-align: middle;\n",
       "    }\n",
       "\n",
       "    .dataframe tbody tr th {\n",
       "        vertical-align: top;\n",
       "    }\n",
       "\n",
       "    .dataframe thead th {\n",
       "        text-align: right;\n",
       "    }\n",
       "</style>\n",
       "<table border=\"1\" class=\"dataframe\">\n",
       "  <thead>\n",
       "    <tr style=\"text-align: right;\">\n",
       "      <th></th>\n",
       "      <th>name</th>\n",
       "      <th>start_date</th>\n",
       "      <th>end_date</th>\n",
       "      <th>year</th>\n",
       "      <th>month</th>\n",
       "      <th>day</th>\n",
       "      <th>end_day</th>\n",
       "      <th>end_month</th>\n",
       "    </tr>\n",
       "  </thead>\n",
       "  <tbody>\n",
       "    <tr>\n",
       "      <th>0</th>\n",
       "      <td>Christmas 2022</td>\n",
       "      <td>2023-01-06 00:00:00+00:00</td>\n",
       "      <td>2023-01-07 00:00:00+00:00</td>\n",
       "      <td>2023</td>\n",
       "      <td>1</td>\n",
       "      <td>6</td>\n",
       "      <td>7.0</td>\n",
       "      <td>1.0</td>\n",
       "    </tr>\n",
       "    <tr>\n",
       "      <th>1</th>\n",
       "      <td>Labour Day</td>\n",
       "      <td>2023-05-01 00:00:00+00:00</td>\n",
       "      <td>2023-05-02 00:00:00+00:00</td>\n",
       "      <td>2023</td>\n",
       "      <td>5</td>\n",
       "      <td>1</td>\n",
       "      <td>2.0</td>\n",
       "      <td>5.0</td>\n",
       "    </tr>\n",
       "    <tr>\n",
       "      <th>2</th>\n",
       "      <td>Local holidays in Barcelona</td>\n",
       "      <td>2023-06-05 00:00:00+00:00</td>\n",
       "      <td>2023-06-06 00:00:00+00:00</td>\n",
       "      <td>2023</td>\n",
       "      <td>6</td>\n",
       "      <td>5</td>\n",
       "      <td>6.0</td>\n",
       "      <td>6.0</td>\n",
       "    </tr>\n",
       "    <tr>\n",
       "      <th>3</th>\n",
       "      <td>Sant Joan / Midsummer solstice</td>\n",
       "      <td>2023-06-24 00:00:00+00:00</td>\n",
       "      <td>2023-06-25 00:00:00+00:00</td>\n",
       "      <td>2023</td>\n",
       "      <td>6</td>\n",
       "      <td>24</td>\n",
       "      <td>25.0</td>\n",
       "      <td>6.0</td>\n",
       "    </tr>\n",
       "    <tr>\n",
       "      <th>4</th>\n",
       "      <td>Assumption of Mary</td>\n",
       "      <td>2023-08-15 00:00:00+00:00</td>\n",
       "      <td>2023-08-16 00:00:00+00:00</td>\n",
       "      <td>2023</td>\n",
       "      <td>8</td>\n",
       "      <td>15</td>\n",
       "      <td>16.0</td>\n",
       "      <td>8.0</td>\n",
       "    </tr>\n",
       "  </tbody>\n",
       "</table>\n",
       "</div>"
      ],
      "text/plain": [
       "                             name                start_date  \\\n",
       "0                  Christmas 2022 2023-01-06 00:00:00+00:00   \n",
       "1                      Labour Day 2023-05-01 00:00:00+00:00   \n",
       "2     Local holidays in Barcelona 2023-06-05 00:00:00+00:00   \n",
       "3  Sant Joan / Midsummer solstice 2023-06-24 00:00:00+00:00   \n",
       "4              Assumption of Mary 2023-08-15 00:00:00+00:00   \n",
       "\n",
       "                   end_date  year  month  day  end_day  end_month  \n",
       "0 2023-01-07 00:00:00+00:00  2023      1    6      7.0        1.0  \n",
       "1 2023-05-02 00:00:00+00:00  2023      5    1      2.0        5.0  \n",
       "2 2023-06-06 00:00:00+00:00  2023      6    5      6.0        6.0  \n",
       "3 2023-06-25 00:00:00+00:00  2023      6   24     25.0        6.0  \n",
       "4 2023-08-16 00:00:00+00:00  2023      8   15     16.0        8.0  "
      ]
     },
     "execution_count": 75,
     "metadata": {},
     "output_type": "execute_result"
    }
   ],
   "source": [
    "df_ecal.head()"
   ]
  },
  {
   "cell_type": "code",
   "execution_count": 76,
   "id": "f7a613d0-e724-4204-bb89-20df38355bc8",
   "metadata": {
    "tags": []
   },
   "outputs": [
    {
     "name": "stdout",
     "output_type": "stream",
     "text": [
      "(91, 8)\n",
      "(73, 8)\n"
     ]
    }
   ],
   "source": [
    "# Define the condition to drop rows prior to a specific datetime\n",
    "condition_1 = df_ecal['start_date'] < pd.to_datetime('2019-03-28 00:00:00+00:00', utc=True)\n",
    "print(df_ecal.shape)\n",
    "condition_2 = df_ecal['start_date'] > pd.to_datetime('2023-04-30 00:00:00+00:00', utc=True)\n",
    "# Drop the rows that satisfy the condition\n",
    "df_ecal = df_ecal.drop(df_ecal[condition_1].index)\n",
    "df_ecal = df_ecal.drop(df_ecal[condition_2].index)\n",
    "print(df_ecal.shape)"
   ]
  },
  {
   "cell_type": "code",
   "execution_count": 77,
   "id": "844a56f1-fcdc-403c-b6f4-642643fafa19",
   "metadata": {
    "tags": []
   },
   "outputs": [],
   "source": [
    "df_ecal = df_ecal.drop(['end_date', 'end_day', 'end_month'], axis=1)"
   ]
  },
  {
   "cell_type": "markdown",
   "id": "9f59fa65-032c-400a-9a9a-8d3da0faa58e",
   "metadata": {},
   "source": [
    "## Append df events_df together with the df_ecal, although it is probably unneccessary."
   ]
  },
  {
   "cell_type": "code",
   "execution_count": null,
   "id": "dda009e3-d5f7-4bed-9943-9eef8623b07b",
   "metadata": {
    "tags": []
   },
   "outputs": [],
   "source": [
    "df_append = events_df.append(df_ecal, ignore_index=True)"
   ]
  },
  {
   "cell_type": "code",
   "execution_count": null,
   "id": "98e6792c-6b70-499f-b4c5-86eb78a4be94",
   "metadata": {
    "tags": []
   },
   "outputs": [],
   "source": [
    "#For the moment I am going to drop the tickets and the language,\n",
    "#unless we found a way to be related\n",
    "df_append = df_append.drop(['tickets_data', 'languages_data'], axis=1)"
   ]
  },
  {
   "cell_type": "code",
   "execution_count": null,
   "id": "ad9f417a-8696-4d70-a560-3ca0c8e6fff9",
   "metadata": {
    "tags": []
   },
   "outputs": [],
   "source": [
    "df_append['period_name'] = df_append['period_name'].fillna(0)\n",
    "df_append['period_name'] = np.where(df_append['period_name'] == 0, 'anual', df_append['period_name'])\n",
    "\n",
    "df_append['type'] = df_append['type'].fillna(0)\n",
    "df_append['type'] = np.where(df_append['type'] == 0, 'repetitive', df_append['type'])\n",
    "\n",
    "df_append['prefix'] = df_append['prefix'].fillna(0)\n",
    "df_append['prefix'] = np.where(df_append['prefix'] == 0, 'Local holiday', df_append['prefix'])\n"
   ]
  },
  {
   "cell_type": "code",
   "execution_count": null,
   "id": "ecb576e4-9087-4eea-8555-fbcb4a2ca1a2",
   "metadata": {
    "tags": []
   },
   "outputs": [],
   "source": [
    "# Define the condition\n",
    "condition_holy_week = df_append['name'].str.startswith('Holy') == True\n",
    "\n",
    "# Modify the values of column 'c' where the condition is True\n",
    "df_append.loc[condition_holy_week, 'type'] = 'unique'"
   ]
  },
  {
   "cell_type": "code",
   "execution_count": null,
   "id": "5a2ea48d-dc46-4dcf-92b5-8dda8947b9ca",
   "metadata": {
    "tags": []
   },
   "outputs": [],
   "source": [
    "# Define the condition\n",
    "condition_xmas = df_append['name'].str.startswith('Christmas') == True\n",
    "\n",
    "# Modify the values of column 'c' where the condition is True\n",
    "df_append.loc[condition_xmas, 'type'] = 'unique'"
   ]
  },
  {
   "cell_type": "code",
   "execution_count": null,
   "id": "a254d7c7-fe8f-4e8e-b425-2c71d4fc8546",
   "metadata": {
    "tags": []
   },
   "outputs": [],
   "source": [
    "# Define the condition to drop rows prior to a specific datetime\n",
    "condition_1 = df_append['start_date'] < pd.to_datetime('2019-03-28 00:00:00+00:00', utc=True)\n",
    "print(df_append.shape)\n",
    "condition_2 = df_append['start_date'] > pd.to_datetime('2023-04-30 00:00:00+00:00', utc=True)\n",
    "# Drop the rows that satisfy the condition\n",
    "df_append = df_append.drop(df_append[condition_1].index)\n",
    "df_append = df_append.drop(df_append[condition_2].index)\n",
    "print(df_append.shape)"
   ]
  },
  {
   "cell_type": "code",
   "execution_count": null,
   "id": "b6945cb5",
   "metadata": {},
   "outputs": [],
   "source": [
    "# Filter out by maximum and minimum dates of df\n",
    "#df_min_date, df_max_date = df.date.min(), df.date.max()\n",
    "\n",
    "#events_df = events_df[events_df.start_date > df_min_date]\n",
    "#events_df = events_df[events_df.end_date < df_max_date]"
   ]
  },
  {
   "cell_type": "code",
   "execution_count": null,
   "id": "4cb30369",
   "metadata": {},
   "outputs": [],
   "source": [
    "print(df_append.shape)\n",
    "df_append.head()"
   ]
  },
  {
   "cell_type": "markdown",
   "id": "e69a6193-5e32-41bf-b674-b682ad8aaa12",
   "metadata": {},
   "source": [
    "## These are the data sets that we have:\n",
    "events_df --> the events happening in Barcelona, with specific location\n",
    "df_ecal --> calendar with the local holidays in Barcelona\n",
    "df_append --> append of the two previous dataframes. I don't think we need it"
   ]
  },
  {
   "cell_type": "code",
   "execution_count": null,
   "id": "2722ad28",
   "metadata": {},
   "outputs": [],
   "source": [
    "std_dev_x, std_dev_y = events_df.x.std(), events_df.y.std()"
   ]
  },
  {
   "cell_type": "code",
   "execution_count": null,
   "id": "5e9c1cdf",
   "metadata": {},
   "outputs": [],
   "source": [
    "# Filter df by the dates that we have\n",
    "df_common_events = pd.concat(\n",
    "    [\n",
    "        pd.merge(df, events_df, left_on='date', right_on='start_date'), \n",
    "        pd.merge(df, events_df, left_on='date', right_on='end_date')\n",
    "    ],\n",
    "    axis=0\n",
    ").drop_duplicates()"
   ]
  },
  {
   "cell_type": "code",
   "execution_count": null,
   "id": "a2d33487",
   "metadata": {},
   "outputs": [],
   "source": [
    "print(df_common_events.shape)\n",
    "\n",
    "print(df_common_events['year_x'].value_counts())"
   ]
  },
  {
   "cell_type": "code",
   "execution_count": null,
   "id": "51f71faf",
   "metadata": {},
   "outputs": [],
   "source": [
    "with tqdm(total=len(events_df)) as pbar:\n",
    "    for idx, row in events_df.iterrows():    \n",
    "        # Filter by the range of the dates\n",
    "        x, y = row.x, row.y\n",
    "        start_date, end_date = row['start_date'], row['end_date']\n",
    "        range_dates = pd.date_range(start_date, end_date)\n",
    "        range_df = df_common_events[df_common_events.date.isin(range_dates)]\n",
    "        \n",
    "        if len(range_df) > 0:\n",
    "            # Near position of the event with relation of the biking center (30% of standard deviations of x & y)\n",
    "            range_df = range_df[(range_df.lat > x - std_dev_x * 0.3) & (range_df.lat < x + std_dev_x * 0.3)]\n",
    "            range_df = range_df[(range_df.lat > y - std_dev_y * 0.3) & (range_df.lat < y + std_dev_y * 0.3)]\n",
    "            df.loc[range_df.index, 'has_event'] = 1\n",
    "\n",
    "        pbar.update(1)\n",
    "    "
   ]
  },
  {
   "cell_type": "code",
   "execution_count": null,
   "id": "127b70e6",
   "metadata": {},
   "outputs": [],
   "source": [
    "df.has_event = df.has_event.fillna(0)"
   ]
  },
  {
   "cell_type": "code",
   "execution_count": null,
   "id": "11edfae8",
   "metadata": {},
   "outputs": [],
   "source": [
    "df.head()"
   ]
  },
  {
   "cell_type": "code",
   "execution_count": null,
   "id": "5040a2ea-a3c1-46cb-9e5f-70e627366cbd",
   "metadata": {
    "tags": []
   },
   "outputs": [],
   "source": [
    "df['year'].value_counts()"
   ]
  },
  {
   "cell_type": "code",
   "execution_count": null,
   "id": "09553eba",
   "metadata": {},
   "outputs": [],
   "source": [
    "df.columns.values"
   ]
  },
  {
   "cell_type": "markdown",
   "id": "13712cd5-f3a9-4492-ad3d-b948f86e241e",
   "metadata": {},
   "source": [
    "# Come back to df_ecal data set. Lastest modifications before merging to the main data set"
   ]
  },
  {
   "cell_type": "code",
   "execution_count": 78,
   "id": "f75b2203-27df-4847-9bad-3a21e8702929",
   "metadata": {
    "tags": []
   },
   "outputs": [],
   "source": [
    "df_ecal = df_ecal.rename(columns={\"start_date\": 'date_time'})\n",
    "df_ecal['has_holidays'] = df_ecal['name']\n",
    "df_ecal['has_holidays'] = 1\n",
    "\n",
    "df_ecal['date'] = pd.to_datetime(df_ecal['date_time']).dt.date\n"
   ]
  },
  {
   "cell_type": "code",
   "execution_count": 79,
   "id": "4c02c77c-1ce9-492f-a718-7863e8db40b9",
   "metadata": {
    "tags": []
   },
   "outputs": [
    {
     "name": "stdout",
     "output_type": "stream",
     "text": [
      "datetime64[ns, UTC]\n",
      "datetime64[ns]\n"
     ]
    }
   ],
   "source": [
    "print(df_ecal['date_time'].dtype)\n",
    "print(df['date_time'].dtype)"
   ]
  },
  {
   "cell_type": "code",
   "execution_count": 80,
   "id": "5e40bd51-7f19-4cea-8338-64e3ba0cd44b",
   "metadata": {},
   "outputs": [],
   "source": [
    "df_ecal['date_time'] = pd.to_datetime(df_ecal.date_time).dt.tz_localize(None)\n",
    "df_ecal['date_time'] = df_ecal['date_time'].astype('object')"
   ]
  },
  {
   "cell_type": "markdown",
   "id": "259c5d15-238f-400b-8e61-d214a0950c1a",
   "metadata": {},
   "source": [
    "Merge main dataset with df_ecal "
   ]
  },
  {
   "cell_type": "code",
   "execution_count": 81,
   "id": "865934d7-7038-4220-b866-349588106e34",
   "metadata": {
    "tags": []
   },
   "outputs": [
    {
     "name": "stdout",
     "output_type": "stream",
     "text": [
      "(16668022, 56)\n",
      "(16668022, 59)\n"
     ]
    }
   ],
   "source": [
    "print(df_merge_3.shape)\n",
    "df_merge_4 = pd.merge(df_merge_3, df_ecal, on=['year', 'month', 'day', 'date'], how='left')\n",
    "print(df_merge_4.shape)\n"
   ]
  },
  {
   "cell_type": "code",
   "execution_count": 71,
   "id": "d0e0eb70-fff2-465c-ab68-94c42977c05a",
   "metadata": {
    "tags": []
   },
   "outputs": [
    {
     "data": {
      "text/plain": [
       "2021    194138\n",
       "2022    193978\n",
       "2019    144063\n",
       "2020     94537\n",
       "2023     77917\n",
       "Name: year, dtype: int64"
      ]
     },
     "execution_count": 71,
     "metadata": {},
     "output_type": "execute_result"
    }
   ],
   "source": [
    "df_merge['year'].value_counts()"
   ]
  },
  {
   "cell_type": "code",
   "execution_count": 72,
   "id": "f74f7ddd-6425-42bb-9504-346397b92717",
   "metadata": {
    "tags": []
   },
   "outputs": [],
   "source": [
    "df_merge.has_holidays = df_merge.has_holidays.fillna(0)"
   ]
  },
  {
   "cell_type": "markdown",
   "id": "5da73ca3",
   "metadata": {},
   "source": [
    "Once we have extended our dataframe with external sources, we are going to make the selection of the columns that we want."
   ]
  },
  {
   "cell_type": "code",
   "execution_count": 74,
   "id": "e98124ce",
   "metadata": {},
   "outputs": [],
   "source": [
    "selected_columns_df = [\n",
    "    'station_id', \n",
    "    'num_bikes_available', 'num_bikes_available_types.mechanical',                            # docks info\n",
    "    'num_bikes_available_types.ebike', 'num_docks_available', 'percentage_docks_available',   # docks info\n",
    "    'status', 'lat', 'lon', 'altitude', 'capacity',                                           # station info\n",
    "    'year', 'month', 'day', 'hour', 'date_time_x', 'date_time_y', 'date',                                      # time info\n",
    "    'traffic', 'covid_cases', 'confinment', 'has_holidays',                                     # context info\n",
    "    'temp', 'feelslike', 'humidity', 'precip', 'snow', 'windspeed', 'uvindex', 'visibility',  # meteorological info\n",
    "]\n",
    "\n",
    "selected_df = df_merge[selected_columns_df]"
   ]
  },
  {
   "cell_type": "code",
   "execution_count": 77,
   "id": "b43408fe",
   "metadata": {},
   "outputs": [],
   "source": [
    "# Checkpoint of the extended df with external sources\n",
    "selected_df.to_csv(\n",
    "    'df_selected.csv.gz', \n",
    "    index=False, \n",
    "    header=True, \n",
    "    compression='gzip'\n",
    ")"
   ]
  },
  {
   "cell_type": "code",
   "execution_count": 5,
   "id": "8d6258ee-13fb-41d3-b78d-896db6f8149e",
   "metadata": {
    "tags": []
   },
   "outputs": [
    {
     "name": "stdout",
     "output_type": "stream",
     "text": [
      "(704633, 30)\n"
     ]
    }
   ],
   "source": [
    "#file = pd.read_csv('df_selected.csv')\n",
    "#selected_df = pd.DataFrame(file)\n",
    "#selected_df['year'].value_counts()\n",
    "#print(selected_df.shape)"
   ]
  },
  {
   "cell_type": "code",
   "execution_count": 4,
   "id": "71b9857a-41dd-45b9-b43a-43246458f960",
   "metadata": {
    "tags": []
   },
   "outputs": [],
   "source": [
    "import gzip\n",
    "selected_df = pd.read_csv('df_selected.csv.gz', compression='gzip', \n",
    "                            header=0, sep=',', quotechar='\"')"
   ]
  },
  {
   "cell_type": "code",
   "execution_count": 5,
   "id": "4d2961f6-4c99-4779-954a-e364e8e5d958",
   "metadata": {
    "tags": []
   },
   "outputs": [
    {
     "data": {
      "text/plain": [
       "(704633, 30)"
      ]
     },
     "execution_count": 5,
     "metadata": {},
     "output_type": "execute_result"
    }
   ],
   "source": [
    "selected_df.shape"
   ]
  },
  {
   "cell_type": "markdown",
   "id": "a2982fdf",
   "metadata": {},
   "source": [
    "## Data Engineering\n",
    "\n",
    "Engineer new variables from the information that we already have. "
   ]
  },
  {
   "cell_type": "code",
   "execution_count": 6,
   "id": "ce0e9e21",
   "metadata": {},
   "outputs": [],
   "source": [
    "selected_df.date_time_x = pd.to_datetime(selected_df.date_time_x)"
   ]
  },
  {
   "cell_type": "markdown",
   "id": "33009471",
   "metadata": {},
   "source": [
    "### Time"
   ]
  },
  {
   "cell_type": "code",
   "execution_count": 7,
   "id": "e1ffae46",
   "metadata": {},
   "outputs": [],
   "source": [
    "# Would need to get the dummies for them\n",
    "date_time_fields = ['day_info', 'hour_info', 'month_info']"
   ]
  },
  {
   "cell_type": "markdown",
   "id": "23f67d39",
   "metadata": {},
   "source": [
    "Related to the **day** (weekend)."
   ]
  },
  {
   "cell_type": "code",
   "execution_count": 8,
   "id": "ab0eb776",
   "metadata": {},
   "outputs": [],
   "source": [
    "def get_day_info(date_time_x):\n",
    "    return 'weekend' if date_time_x.weekday() in [5, 6] else 'weekday'"
   ]
  },
  {
   "cell_type": "code",
   "execution_count": 9,
   "id": "9b081a87",
   "metadata": {},
   "outputs": [],
   "source": [
    "selected_df['day_info'] = selected_df.date_time_x.apply(lambda x: get_day_info(x))"
   ]
  },
  {
   "cell_type": "markdown",
   "id": "7ebfe666",
   "metadata": {},
   "source": [
    "Related to the **hour** (which time of day it was)."
   ]
  },
  {
   "cell_type": "code",
   "execution_count": 10,
   "id": "a91e9d99",
   "metadata": {},
   "outputs": [],
   "source": [
    "def get_hour_info(date_time):\n",
    "    if date_time.hour in range(5):\n",
    "        return 'late_night'\n",
    "\n",
    "    elif date_time.hour in range(5, 9):\n",
    "        return 'early_morning'\n",
    "\n",
    "    elif date_time.hour in range(9, 13):\n",
    "        return 'morning'\n",
    "    \n",
    "    elif date_time.hour in range(13, 17):\n",
    "        return 'noon'\n",
    "    \n",
    "    elif date_time.hour in range(17, 21):\n",
    "        return 'eve'\n",
    "    \n",
    "    return 'night'"
   ]
  },
  {
   "cell_type": "code",
   "execution_count": 11,
   "id": "a0adf87e",
   "metadata": {},
   "outputs": [],
   "source": [
    "selected_df['hour_info'] = selected_df.date_time_x.apply(lambda x: get_hour_info(x))"
   ]
  },
  {
   "cell_type": "markdown",
   "id": "8350cce2",
   "metadata": {},
   "source": [
    "Related to the **month** (season)."
   ]
  },
  {
   "cell_type": "code",
   "execution_count": 12,
   "id": "20ef82b3",
   "metadata": {},
   "outputs": [],
   "source": [
    "def get_month_info(date):\n",
    "    if date.month in (3, 4, 5):\n",
    "        return 'spring'\n",
    "    \n",
    "    elif date.month in (6, 7, 8):\n",
    "        return 'summer'\n",
    "    \n",
    "    elif date.month in (9, 10, 11):\n",
    "        return 'autumn'\n",
    "    \n",
    "    return 'winter'"
   ]
  },
  {
   "cell_type": "code",
   "execution_count": 13,
   "id": "3d82d19a",
   "metadata": {},
   "outputs": [],
   "source": [
    "selected_df['month_info'] = selected_df.date_time_x.apply(lambda x: get_month_info(x))"
   ]
  },
  {
   "cell_type": "code",
   "execution_count": 14,
   "id": "1ac91b86",
   "metadata": {},
   "outputs": [
    {
     "data": {
      "text/html": [
       "<div>\n",
       "<style scoped>\n",
       "    .dataframe tbody tr th:only-of-type {\n",
       "        vertical-align: middle;\n",
       "    }\n",
       "\n",
       "    .dataframe tbody tr th {\n",
       "        vertical-align: top;\n",
       "    }\n",
       "\n",
       "    .dataframe thead th {\n",
       "        text-align: right;\n",
       "    }\n",
       "</style>\n",
       "<table border=\"1\" class=\"dataframe\">\n",
       "  <thead>\n",
       "    <tr style=\"text-align: right;\">\n",
       "      <th></th>\n",
       "      <th>station_id</th>\n",
       "      <th>num_bikes_available</th>\n",
       "      <th>num_bikes_available_types.mechanical</th>\n",
       "      <th>num_bikes_available_types.ebike</th>\n",
       "      <th>num_docks_available</th>\n",
       "      <th>percentage_docks_available</th>\n",
       "      <th>status</th>\n",
       "      <th>lat</th>\n",
       "      <th>lon</th>\n",
       "      <th>altitude</th>\n",
       "      <th>capacity</th>\n",
       "      <th>year</th>\n",
       "      <th>month</th>\n",
       "      <th>day</th>\n",
       "      <th>hour</th>\n",
       "      <th>date_time_x</th>\n",
       "      <th>date_time_y</th>\n",
       "      <th>date</th>\n",
       "      <th>traffic</th>\n",
       "      <th>covid_cases</th>\n",
       "      <th>confinment</th>\n",
       "      <th>has_holidays</th>\n",
       "      <th>temp</th>\n",
       "      <th>feelslike</th>\n",
       "      <th>humidity</th>\n",
       "      <th>precip</th>\n",
       "      <th>snow</th>\n",
       "      <th>windspeed</th>\n",
       "      <th>uvindex</th>\n",
       "      <th>visibility</th>\n",
       "      <th>day_info</th>\n",
       "      <th>hour_info</th>\n",
       "      <th>month_info</th>\n",
       "    </tr>\n",
       "  </thead>\n",
       "  <tbody>\n",
       "    <tr>\n",
       "      <th>0</th>\n",
       "      <td>1</td>\n",
       "      <td>37.500000</td>\n",
       "      <td>34.916667</td>\n",
       "      <td>2.583333</td>\n",
       "      <td>8.416667</td>\n",
       "      <td>4.455446</td>\n",
       "      <td>1.0</td>\n",
       "      <td>41.397978</td>\n",
       "      <td>2.180107</td>\n",
       "      <td>16.0</td>\n",
       "      <td>46</td>\n",
       "      <td>2023</td>\n",
       "      <td>1</td>\n",
       "      <td>1</td>\n",
       "      <td>0</td>\n",
       "      <td>2023-01-01 00:00:00</td>\n",
       "      <td>2023-01-01 00:00:00</td>\n",
       "      <td>2023-01-01</td>\n",
       "      <td>0.0</td>\n",
       "      <td>6.0</td>\n",
       "      <td>0</td>\n",
       "      <td>1</td>\n",
       "      <td>10.6</td>\n",
       "      <td>9.8</td>\n",
       "      <td>81.4</td>\n",
       "      <td>0.0</td>\n",
       "      <td>0.0</td>\n",
       "      <td>12.5</td>\n",
       "      <td>3.0</td>\n",
       "      <td>14.3</td>\n",
       "      <td>weekend</td>\n",
       "      <td>late_night</td>\n",
       "      <td>winter</td>\n",
       "    </tr>\n",
       "    <tr>\n",
       "      <th>1</th>\n",
       "      <td>1</td>\n",
       "      <td>39.333333</td>\n",
       "      <td>36.666667</td>\n",
       "      <td>2.666667</td>\n",
       "      <td>6.666667</td>\n",
       "      <td>5.900000</td>\n",
       "      <td>1.0</td>\n",
       "      <td>41.397978</td>\n",
       "      <td>2.180107</td>\n",
       "      <td>16.0</td>\n",
       "      <td>46</td>\n",
       "      <td>2023</td>\n",
       "      <td>1</td>\n",
       "      <td>1</td>\n",
       "      <td>1</td>\n",
       "      <td>2023-01-01 01:00:00</td>\n",
       "      <td>2023-01-01 00:00:00</td>\n",
       "      <td>2023-01-01</td>\n",
       "      <td>0.0</td>\n",
       "      <td>6.0</td>\n",
       "      <td>0</td>\n",
       "      <td>1</td>\n",
       "      <td>10.6</td>\n",
       "      <td>9.8</td>\n",
       "      <td>81.4</td>\n",
       "      <td>0.0</td>\n",
       "      <td>0.0</td>\n",
       "      <td>12.5</td>\n",
       "      <td>3.0</td>\n",
       "      <td>14.3</td>\n",
       "      <td>weekend</td>\n",
       "      <td>late_night</td>\n",
       "      <td>winter</td>\n",
       "    </tr>\n",
       "    <tr>\n",
       "      <th>2</th>\n",
       "      <td>1</td>\n",
       "      <td>38.666667</td>\n",
       "      <td>37.416667</td>\n",
       "      <td>1.250000</td>\n",
       "      <td>7.250000</td>\n",
       "      <td>5.333333</td>\n",
       "      <td>1.0</td>\n",
       "      <td>41.397978</td>\n",
       "      <td>2.180107</td>\n",
       "      <td>16.0</td>\n",
       "      <td>46</td>\n",
       "      <td>2023</td>\n",
       "      <td>1</td>\n",
       "      <td>1</td>\n",
       "      <td>2</td>\n",
       "      <td>2023-01-01 02:00:00</td>\n",
       "      <td>2023-01-01 00:00:00</td>\n",
       "      <td>2023-01-01</td>\n",
       "      <td>0.0</td>\n",
       "      <td>6.0</td>\n",
       "      <td>0</td>\n",
       "      <td>1</td>\n",
       "      <td>10.6</td>\n",
       "      <td>9.8</td>\n",
       "      <td>81.4</td>\n",
       "      <td>0.0</td>\n",
       "      <td>0.0</td>\n",
       "      <td>12.5</td>\n",
       "      <td>3.0</td>\n",
       "      <td>14.3</td>\n",
       "      <td>weekend</td>\n",
       "      <td>late_night</td>\n",
       "      <td>winter</td>\n",
       "    </tr>\n",
       "    <tr>\n",
       "      <th>3</th>\n",
       "      <td>1</td>\n",
       "      <td>39.583333</td>\n",
       "      <td>37.833333</td>\n",
       "      <td>1.750000</td>\n",
       "      <td>6.250000</td>\n",
       "      <td>6.333333</td>\n",
       "      <td>1.0</td>\n",
       "      <td>41.397978</td>\n",
       "      <td>2.180107</td>\n",
       "      <td>16.0</td>\n",
       "      <td>46</td>\n",
       "      <td>2023</td>\n",
       "      <td>1</td>\n",
       "      <td>1</td>\n",
       "      <td>3</td>\n",
       "      <td>2023-01-01 03:00:00</td>\n",
       "      <td>2023-01-01 00:00:00</td>\n",
       "      <td>2023-01-01</td>\n",
       "      <td>0.0</td>\n",
       "      <td>6.0</td>\n",
       "      <td>0</td>\n",
       "      <td>1</td>\n",
       "      <td>10.6</td>\n",
       "      <td>9.8</td>\n",
       "      <td>81.4</td>\n",
       "      <td>0.0</td>\n",
       "      <td>0.0</td>\n",
       "      <td>12.5</td>\n",
       "      <td>3.0</td>\n",
       "      <td>14.3</td>\n",
       "      <td>weekend</td>\n",
       "      <td>late_night</td>\n",
       "      <td>winter</td>\n",
       "    </tr>\n",
       "    <tr>\n",
       "      <th>4</th>\n",
       "      <td>1</td>\n",
       "      <td>39.333333</td>\n",
       "      <td>38.250000</td>\n",
       "      <td>1.083333</td>\n",
       "      <td>6.583333</td>\n",
       "      <td>5.974684</td>\n",
       "      <td>1.0</td>\n",
       "      <td>41.397978</td>\n",
       "      <td>2.180107</td>\n",
       "      <td>16.0</td>\n",
       "      <td>46</td>\n",
       "      <td>2023</td>\n",
       "      <td>1</td>\n",
       "      <td>1</td>\n",
       "      <td>4</td>\n",
       "      <td>2023-01-01 04:00:00</td>\n",
       "      <td>2023-01-01 00:00:00</td>\n",
       "      <td>2023-01-01</td>\n",
       "      <td>0.0</td>\n",
       "      <td>6.0</td>\n",
       "      <td>0</td>\n",
       "      <td>1</td>\n",
       "      <td>10.6</td>\n",
       "      <td>9.8</td>\n",
       "      <td>81.4</td>\n",
       "      <td>0.0</td>\n",
       "      <td>0.0</td>\n",
       "      <td>12.5</td>\n",
       "      <td>3.0</td>\n",
       "      <td>14.3</td>\n",
       "      <td>weekend</td>\n",
       "      <td>late_night</td>\n",
       "      <td>winter</td>\n",
       "    </tr>\n",
       "  </tbody>\n",
       "</table>\n",
       "</div>"
      ],
      "text/plain": [
       "   station_id  num_bikes_available  num_bikes_available_types.mechanical  \\\n",
       "0           1            37.500000                             34.916667   \n",
       "1           1            39.333333                             36.666667   \n",
       "2           1            38.666667                             37.416667   \n",
       "3           1            39.583333                             37.833333   \n",
       "4           1            39.333333                             38.250000   \n",
       "\n",
       "   num_bikes_available_types.ebike  num_docks_available  \\\n",
       "0                         2.583333             8.416667   \n",
       "1                         2.666667             6.666667   \n",
       "2                         1.250000             7.250000   \n",
       "3                         1.750000             6.250000   \n",
       "4                         1.083333             6.583333   \n",
       "\n",
       "   percentage_docks_available  status        lat       lon  altitude  \\\n",
       "0                    4.455446     1.0  41.397978  2.180107      16.0   \n",
       "1                    5.900000     1.0  41.397978  2.180107      16.0   \n",
       "2                    5.333333     1.0  41.397978  2.180107      16.0   \n",
       "3                    6.333333     1.0  41.397978  2.180107      16.0   \n",
       "4                    5.974684     1.0  41.397978  2.180107      16.0   \n",
       "\n",
       "   capacity  year  month  day  hour         date_time_x          date_time_y  \\\n",
       "0        46  2023      1    1     0 2023-01-01 00:00:00  2023-01-01 00:00:00   \n",
       "1        46  2023      1    1     1 2023-01-01 01:00:00  2023-01-01 00:00:00   \n",
       "2        46  2023      1    1     2 2023-01-01 02:00:00  2023-01-01 00:00:00   \n",
       "3        46  2023      1    1     3 2023-01-01 03:00:00  2023-01-01 00:00:00   \n",
       "4        46  2023      1    1     4 2023-01-01 04:00:00  2023-01-01 00:00:00   \n",
       "\n",
       "         date  traffic  covid_cases  confinment  has_holidays  temp  \\\n",
       "0  2023-01-01      0.0          6.0           0             1  10.6   \n",
       "1  2023-01-01      0.0          6.0           0             1  10.6   \n",
       "2  2023-01-01      0.0          6.0           0             1  10.6   \n",
       "3  2023-01-01      0.0          6.0           0             1  10.6   \n",
       "4  2023-01-01      0.0          6.0           0             1  10.6   \n",
       "\n",
       "   feelslike  humidity  precip  snow  windspeed  uvindex  visibility day_info  \\\n",
       "0        9.8      81.4     0.0   0.0       12.5      3.0        14.3  weekend   \n",
       "1        9.8      81.4     0.0   0.0       12.5      3.0        14.3  weekend   \n",
       "2        9.8      81.4     0.0   0.0       12.5      3.0        14.3  weekend   \n",
       "3        9.8      81.4     0.0   0.0       12.5      3.0        14.3  weekend   \n",
       "4        9.8      81.4     0.0   0.0       12.5      3.0        14.3  weekend   \n",
       "\n",
       "    hour_info month_info  \n",
       "0  late_night     winter  \n",
       "1  late_night     winter  \n",
       "2  late_night     winter  \n",
       "3  late_night     winter  \n",
       "4  late_night     winter  "
      ]
     },
     "execution_count": 14,
     "metadata": {},
     "output_type": "execute_result"
    }
   ],
   "source": [
    "selected_df.head()"
   ]
  },
  {
   "cell_type": "markdown",
   "id": "e28c1820",
   "metadata": {},
   "source": [
    "### Data Shifting\n",
    "\n",
    "We need to create a shift of the availability in the previous availabilities."
   ]
  },
  {
   "cell_type": "code",
   "execution_count": 15,
   "id": "9eb624ae",
   "metadata": {},
   "outputs": [],
   "source": [
    "selected_df = selected_df.sort_values(['station_id', 'date_time_x'], ascending=True)"
   ]
  },
  {
   "cell_type": "code",
   "execution_count": 16,
   "id": "484eb356",
   "metadata": {},
   "outputs": [],
   "source": [
    "df_shifted = pd.DataFrame()"
   ]
  },
  {
   "cell_type": "code",
   "execution_count": 17,
   "id": "70ace686",
   "metadata": {},
   "outputs": [
    {
     "name": "stderr",
     "output_type": "stream",
     "text": [
      "100%|█████████████████████████████████████████| 509/509 [01:04<00:00,  7.87it/s]\n"
     ]
    }
   ],
   "source": [
    "for station_id in tqdm(selected_df.station_id.unique()):\n",
    "    station_df = selected_df[selected_df.station_id == station_id]\n",
    "    station_df['ctx-4'] = station_df.percentage_docks_available.shift(4)\n",
    "    station_df['ctx-3'] = station_df.percentage_docks_available.shift(3)\n",
    "    station_df['ctx-2'] = station_df.percentage_docks_available.shift(2)\n",
    "    station_df['ctx-1'] = station_df.percentage_docks_available.shift(1)\n",
    "    \n",
    "    df_shifted = pd.concat([station_df, df_shifted], axis=0)"
   ]
  },
  {
   "cell_type": "code",
   "execution_count": 18,
   "id": "1c312652",
   "metadata": {},
   "outputs": [
    {
     "data": {
      "text/plain": [
       "(704633, 37)"
      ]
     },
     "execution_count": 18,
     "metadata": {},
     "output_type": "execute_result"
    }
   ],
   "source": [
    "df_shifted.shape"
   ]
  },
  {
   "cell_type": "markdown",
   "id": "16d2dac2",
   "metadata": {},
   "source": [
    "### Train / Val / Test Split"
   ]
  },
  {
   "cell_type": "code",
   "execution_count": 19,
   "id": "49801350-7dda-435c-b223-d96d29e9051e",
   "metadata": {
    "tags": []
   },
   "outputs": [],
   "source": [
    "#For plotting the variables\n",
    "selected_columns_df = [\n",
    "    'station_id', \n",
    "    'num_bikes_available', 'num_bikes_available_types.mechanical',                            # docks info\n",
    "    'num_bikes_available_types.ebike', 'num_docks_available', 'percentage_docks_available',   # docks info\n",
    "    'status', 'lat', 'lon', 'altitude', 'capacity',                                           # station info\n",
    "    'year', 'month', 'day', 'hour', 'traffic', 'covid_cases', 'confinment', 'has_holidays',                                     # context info\n",
    "    'temp', 'feelslike', 'humidity', 'precip', 'snow', 'windspeed', 'uvindex', 'visibility', # meteorological info\n",
    "    'day_info', 'hour_info', 'month_info', 'ctx-1', 'ctx-2', 'ctx-3', 'ctx-4']\n"
   ]
  },
  {
   "cell_type": "code",
   "execution_count": 20,
   "id": "af6afb39",
   "metadata": {},
   "outputs": [
    {
     "data": {
      "text/html": [
       "<div>\n",
       "<style scoped>\n",
       "    .dataframe tbody tr th:only-of-type {\n",
       "        vertical-align: middle;\n",
       "    }\n",
       "\n",
       "    .dataframe tbody tr th {\n",
       "        vertical-align: top;\n",
       "    }\n",
       "\n",
       "    .dataframe thead th {\n",
       "        text-align: right;\n",
       "    }\n",
       "</style>\n",
       "<table border=\"1\" class=\"dataframe\">\n",
       "  <thead>\n",
       "    <tr style=\"text-align: right;\">\n",
       "      <th></th>\n",
       "      <th>station_id</th>\n",
       "      <th>num_bikes_available</th>\n",
       "      <th>num_bikes_available_types.mechanical</th>\n",
       "      <th>num_bikes_available_types.ebike</th>\n",
       "      <th>num_docks_available</th>\n",
       "      <th>percentage_docks_available</th>\n",
       "      <th>status</th>\n",
       "      <th>lat</th>\n",
       "      <th>lon</th>\n",
       "      <th>altitude</th>\n",
       "      <th>capacity</th>\n",
       "      <th>year</th>\n",
       "      <th>month</th>\n",
       "      <th>day</th>\n",
       "      <th>hour</th>\n",
       "      <th>date_time_x</th>\n",
       "      <th>date_time_y</th>\n",
       "      <th>date</th>\n",
       "      <th>traffic</th>\n",
       "      <th>covid_cases</th>\n",
       "      <th>confinment</th>\n",
       "      <th>has_holidays</th>\n",
       "      <th>temp</th>\n",
       "      <th>feelslike</th>\n",
       "      <th>humidity</th>\n",
       "      <th>precip</th>\n",
       "      <th>snow</th>\n",
       "      <th>windspeed</th>\n",
       "      <th>uvindex</th>\n",
       "      <th>visibility</th>\n",
       "      <th>day_info</th>\n",
       "      <th>hour_info</th>\n",
       "      <th>month_info</th>\n",
       "      <th>ctx-4</th>\n",
       "      <th>ctx-3</th>\n",
       "      <th>ctx-2</th>\n",
       "      <th>ctx-1</th>\n",
       "    </tr>\n",
       "  </thead>\n",
       "  <tbody>\n",
       "    <tr>\n",
       "      <th>487705</th>\n",
       "      <td>519</td>\n",
       "      <td>6.833333</td>\n",
       "      <td>0.0</td>\n",
       "      <td>6.833333</td>\n",
       "      <td>17.166667</td>\n",
       "      <td>0.398058</td>\n",
       "      <td>1.0</td>\n",
       "      <td>41.424655</td>\n",
       "      <td>2.166289</td>\n",
       "      <td>110.0</td>\n",
       "      <td>24</td>\n",
       "      <td>2020</td>\n",
       "      <td>12</td>\n",
       "      <td>25</td>\n",
       "      <td>0</td>\n",
       "      <td>2020-12-25 00:00:00</td>\n",
       "      <td>2020-12-25 00:00:00</td>\n",
       "      <td>2020-12-25</td>\n",
       "      <td>0.0</td>\n",
       "      <td>171.0</td>\n",
       "      <td>0</td>\n",
       "      <td>1</td>\n",
       "      <td>9.0</td>\n",
       "      <td>7.2</td>\n",
       "      <td>50.0</td>\n",
       "      <td>0.0</td>\n",
       "      <td>0.0</td>\n",
       "      <td>28.6</td>\n",
       "      <td>3.0</td>\n",
       "      <td>18.3</td>\n",
       "      <td>weekday</td>\n",
       "      <td>late_night</td>\n",
       "      <td>winter</td>\n",
       "      <td>NaN</td>\n",
       "      <td>NaN</td>\n",
       "      <td>NaN</td>\n",
       "      <td>NaN</td>\n",
       "    </tr>\n",
       "    <tr>\n",
       "      <th>487706</th>\n",
       "      <td>519</td>\n",
       "      <td>7.500000</td>\n",
       "      <td>0.0</td>\n",
       "      <td>7.500000</td>\n",
       "      <td>16.500000</td>\n",
       "      <td>0.454545</td>\n",
       "      <td>1.0</td>\n",
       "      <td>41.424655</td>\n",
       "      <td>2.166289</td>\n",
       "      <td>110.0</td>\n",
       "      <td>24</td>\n",
       "      <td>2020</td>\n",
       "      <td>12</td>\n",
       "      <td>25</td>\n",
       "      <td>1</td>\n",
       "      <td>2020-12-25 01:00:00</td>\n",
       "      <td>2020-12-25 00:00:00</td>\n",
       "      <td>2020-12-25</td>\n",
       "      <td>0.0</td>\n",
       "      <td>171.0</td>\n",
       "      <td>0</td>\n",
       "      <td>1</td>\n",
       "      <td>9.0</td>\n",
       "      <td>7.2</td>\n",
       "      <td>50.0</td>\n",
       "      <td>0.0</td>\n",
       "      <td>0.0</td>\n",
       "      <td>28.6</td>\n",
       "      <td>3.0</td>\n",
       "      <td>18.3</td>\n",
       "      <td>weekday</td>\n",
       "      <td>late_night</td>\n",
       "      <td>winter</td>\n",
       "      <td>NaN</td>\n",
       "      <td>NaN</td>\n",
       "      <td>NaN</td>\n",
       "      <td>0.398058</td>\n",
       "    </tr>\n",
       "    <tr>\n",
       "      <th>487707</th>\n",
       "      <td>519</td>\n",
       "      <td>8.000000</td>\n",
       "      <td>0.0</td>\n",
       "      <td>8.000000</td>\n",
       "      <td>16.000000</td>\n",
       "      <td>0.500000</td>\n",
       "      <td>1.0</td>\n",
       "      <td>41.424655</td>\n",
       "      <td>2.166289</td>\n",
       "      <td>110.0</td>\n",
       "      <td>24</td>\n",
       "      <td>2020</td>\n",
       "      <td>12</td>\n",
       "      <td>25</td>\n",
       "      <td>2</td>\n",
       "      <td>2020-12-25 02:00:00</td>\n",
       "      <td>2020-12-25 00:00:00</td>\n",
       "      <td>2020-12-25</td>\n",
       "      <td>0.0</td>\n",
       "      <td>171.0</td>\n",
       "      <td>0</td>\n",
       "      <td>1</td>\n",
       "      <td>9.0</td>\n",
       "      <td>7.2</td>\n",
       "      <td>50.0</td>\n",
       "      <td>0.0</td>\n",
       "      <td>0.0</td>\n",
       "      <td>28.6</td>\n",
       "      <td>3.0</td>\n",
       "      <td>18.3</td>\n",
       "      <td>weekday</td>\n",
       "      <td>late_night</td>\n",
       "      <td>winter</td>\n",
       "      <td>NaN</td>\n",
       "      <td>NaN</td>\n",
       "      <td>0.398058</td>\n",
       "      <td>0.454545</td>\n",
       "    </tr>\n",
       "    <tr>\n",
       "      <th>487708</th>\n",
       "      <td>519</td>\n",
       "      <td>8.000000</td>\n",
       "      <td>0.0</td>\n",
       "      <td>8.000000</td>\n",
       "      <td>16.000000</td>\n",
       "      <td>0.500000</td>\n",
       "      <td>1.0</td>\n",
       "      <td>41.424655</td>\n",
       "      <td>2.166289</td>\n",
       "      <td>110.0</td>\n",
       "      <td>24</td>\n",
       "      <td>2020</td>\n",
       "      <td>12</td>\n",
       "      <td>25</td>\n",
       "      <td>3</td>\n",
       "      <td>2020-12-25 03:00:00</td>\n",
       "      <td>2020-12-25 00:00:00</td>\n",
       "      <td>2020-12-25</td>\n",
       "      <td>0.0</td>\n",
       "      <td>171.0</td>\n",
       "      <td>0</td>\n",
       "      <td>1</td>\n",
       "      <td>9.0</td>\n",
       "      <td>7.2</td>\n",
       "      <td>50.0</td>\n",
       "      <td>0.0</td>\n",
       "      <td>0.0</td>\n",
       "      <td>28.6</td>\n",
       "      <td>3.0</td>\n",
       "      <td>18.3</td>\n",
       "      <td>weekday</td>\n",
       "      <td>late_night</td>\n",
       "      <td>winter</td>\n",
       "      <td>NaN</td>\n",
       "      <td>0.398058</td>\n",
       "      <td>0.454545</td>\n",
       "      <td>0.500000</td>\n",
       "    </tr>\n",
       "    <tr>\n",
       "      <th>487709</th>\n",
       "      <td>519</td>\n",
       "      <td>7.818182</td>\n",
       "      <td>0.0</td>\n",
       "      <td>7.818182</td>\n",
       "      <td>16.181818</td>\n",
       "      <td>0.483146</td>\n",
       "      <td>1.0</td>\n",
       "      <td>41.424655</td>\n",
       "      <td>2.166289</td>\n",
       "      <td>110.0</td>\n",
       "      <td>24</td>\n",
       "      <td>2020</td>\n",
       "      <td>12</td>\n",
       "      <td>25</td>\n",
       "      <td>4</td>\n",
       "      <td>2020-12-25 04:00:00</td>\n",
       "      <td>2020-12-25 00:00:00</td>\n",
       "      <td>2020-12-25</td>\n",
       "      <td>0.0</td>\n",
       "      <td>171.0</td>\n",
       "      <td>0</td>\n",
       "      <td>1</td>\n",
       "      <td>9.0</td>\n",
       "      <td>7.2</td>\n",
       "      <td>50.0</td>\n",
       "      <td>0.0</td>\n",
       "      <td>0.0</td>\n",
       "      <td>28.6</td>\n",
       "      <td>3.0</td>\n",
       "      <td>18.3</td>\n",
       "      <td>weekday</td>\n",
       "      <td>late_night</td>\n",
       "      <td>winter</td>\n",
       "      <td>0.398058</td>\n",
       "      <td>0.454545</td>\n",
       "      <td>0.500000</td>\n",
       "      <td>0.500000</td>\n",
       "    </tr>\n",
       "  </tbody>\n",
       "</table>\n",
       "</div>"
      ],
      "text/plain": [
       "        station_id  num_bikes_available  num_bikes_available_types.mechanical  \\\n",
       "487705         519             6.833333                                   0.0   \n",
       "487706         519             7.500000                                   0.0   \n",
       "487707         519             8.000000                                   0.0   \n",
       "487708         519             8.000000                                   0.0   \n",
       "487709         519             7.818182                                   0.0   \n",
       "\n",
       "        num_bikes_available_types.ebike  num_docks_available  \\\n",
       "487705                         6.833333            17.166667   \n",
       "487706                         7.500000            16.500000   \n",
       "487707                         8.000000            16.000000   \n",
       "487708                         8.000000            16.000000   \n",
       "487709                         7.818182            16.181818   \n",
       "\n",
       "        percentage_docks_available  status        lat       lon  altitude  \\\n",
       "487705                    0.398058     1.0  41.424655  2.166289     110.0   \n",
       "487706                    0.454545     1.0  41.424655  2.166289     110.0   \n",
       "487707                    0.500000     1.0  41.424655  2.166289     110.0   \n",
       "487708                    0.500000     1.0  41.424655  2.166289     110.0   \n",
       "487709                    0.483146     1.0  41.424655  2.166289     110.0   \n",
       "\n",
       "        capacity  year  month  day  hour         date_time_x  \\\n",
       "487705        24  2020     12   25     0 2020-12-25 00:00:00   \n",
       "487706        24  2020     12   25     1 2020-12-25 01:00:00   \n",
       "487707        24  2020     12   25     2 2020-12-25 02:00:00   \n",
       "487708        24  2020     12   25     3 2020-12-25 03:00:00   \n",
       "487709        24  2020     12   25     4 2020-12-25 04:00:00   \n",
       "\n",
       "                date_time_y        date  traffic  covid_cases  confinment  \\\n",
       "487705  2020-12-25 00:00:00  2020-12-25      0.0        171.0           0   \n",
       "487706  2020-12-25 00:00:00  2020-12-25      0.0        171.0           0   \n",
       "487707  2020-12-25 00:00:00  2020-12-25      0.0        171.0           0   \n",
       "487708  2020-12-25 00:00:00  2020-12-25      0.0        171.0           0   \n",
       "487709  2020-12-25 00:00:00  2020-12-25      0.0        171.0           0   \n",
       "\n",
       "        has_holidays  temp  feelslike  humidity  precip  snow  windspeed  \\\n",
       "487705             1   9.0        7.2      50.0     0.0   0.0       28.6   \n",
       "487706             1   9.0        7.2      50.0     0.0   0.0       28.6   \n",
       "487707             1   9.0        7.2      50.0     0.0   0.0       28.6   \n",
       "487708             1   9.0        7.2      50.0     0.0   0.0       28.6   \n",
       "487709             1   9.0        7.2      50.0     0.0   0.0       28.6   \n",
       "\n",
       "        uvindex  visibility day_info   hour_info month_info     ctx-4  \\\n",
       "487705      3.0        18.3  weekday  late_night     winter       NaN   \n",
       "487706      3.0        18.3  weekday  late_night     winter       NaN   \n",
       "487707      3.0        18.3  weekday  late_night     winter       NaN   \n",
       "487708      3.0        18.3  weekday  late_night     winter       NaN   \n",
       "487709      3.0        18.3  weekday  late_night     winter  0.398058   \n",
       "\n",
       "           ctx-3     ctx-2     ctx-1  \n",
       "487705       NaN       NaN       NaN  \n",
       "487706       NaN       NaN  0.398058  \n",
       "487707       NaN  0.398058  0.454545  \n",
       "487708  0.398058  0.454545  0.500000  \n",
       "487709  0.454545  0.500000  0.500000  "
      ]
     },
     "execution_count": 20,
     "metadata": {},
     "output_type": "execute_result"
    }
   ],
   "source": [
    "df_shifted.head()"
   ]
  },
  {
   "cell_type": "code",
   "execution_count": 21,
   "id": "73175c85-5b54-481e-815b-ed396ca9f442",
   "metadata": {
    "tags": []
   },
   "outputs": [],
   "source": [
    "df_shifted = df_shifted[selected_columns_df]"
   ]
  },
  {
   "cell_type": "code",
   "execution_count": 22,
   "id": "fa8d5936",
   "metadata": {},
   "outputs": [],
   "source": [
    "train_df = df_shifted[df_shifted.year != 2023]\n",
    "test_df = df_shifted[df_shifted.year == 2023]"
   ]
  },
  {
   "cell_type": "code",
   "execution_count": 23,
   "id": "ac323983",
   "metadata": {},
   "outputs": [
    {
     "name": "stdout",
     "output_type": "stream",
     "text": [
      "Train size:  (626716, 34)\n",
      "Test size:  (77917, 34)\n"
     ]
    }
   ],
   "source": [
    "print('Train size: ', train_df.shape)\n",
    "print('Test size: ', test_df.shape)"
   ]
  },
  {
   "cell_type": "markdown",
   "id": "ff997945",
   "metadata": {
    "tags": []
   },
   "source": [
    "### Exploration"
   ]
  },
  {
   "cell_type": "code",
   "execution_count": 24,
   "id": "4c7b00af-6d8c-41c9-8360-23d8136a12a2",
   "metadata": {},
   "outputs": [],
   "source": [
    "import seaborn as sns\n",
    "\n",
    "from sklearn import datasets\n",
    "from sklearn.model_selection import train_test_split\n",
    "\n",
    "from sklearn import linear_model\n",
    "from sklearn.linear_model import LogisticRegression\n",
    "from sklearn.neighbors import NearestNeighbors\n",
    "from sklearn import model_selection\n",
    "from sklearn import neighbors\n",
    "\n",
    "from sklearn import metrics\n",
    "from sklearn.metrics import mean_squared_error, r2_score"
   ]
  },
  {
   "cell_type": "markdown",
   "id": "12793ab9-237a-46eb-8502-5d95b3255f73",
   "metadata": {},
   "source": [
    "# Cleaning train_df dataset"
   ]
  },
  {
   "cell_type": "code",
   "execution_count": 25,
   "id": "0b348a8f-1e8e-49f7-9ba3-1e3ba8c01936",
   "metadata": {
    "scrolled": true,
    "tags": []
   },
   "outputs": [],
   "source": [
    "#Get dummies from categorical values (One-Hot encoder)\n",
    "def get_dummies(df, column_name):\n",
    "    type_feature = df[column_name]\n",
    "    type_dummies = pd.get_dummies(type_feature, prefix=column_name)\n",
    "    df = pd.concat([df, type_dummies], axis=1).drop(columns=[column_name])\n",
    "    return df\n",
    "\n",
    "train_df = get_dummies(train_df, 'day_info')\n",
    "train_df = get_dummies(train_df, 'month_info')\n",
    "train_df = get_dummies(train_df, 'hour_info')"
   ]
  },
  {
   "cell_type": "code",
   "execution_count": 26,
   "id": "99be2870-060b-4ec2-aee2-75305b1148bd",
   "metadata": {
    "tags": []
   },
   "outputs": [],
   "source": [
    "train_df['covid_cases'] = train_df['covid_cases'].fillna(0)"
   ]
  },
  {
   "cell_type": "code",
   "execution_count": 27,
   "id": "4ddc05ef-1eb9-4d47-a2d3-be62ff7cbdc2",
   "metadata": {
    "tags": []
   },
   "outputs": [],
   "source": [
    "train_df['percentage_docks_available'] = train_df['percentage_docks_available'].fillna(0)"
   ]
  },
  {
   "cell_type": "code",
   "execution_count": 28,
   "id": "9cac05a0-c199-47bf-8740-5c2d607a03f3",
   "metadata": {
    "tags": []
   },
   "outputs": [],
   "source": [
    "train_df['ctx-4'] = train_df['ctx-4'].fillna(0)\n",
    "train_df['ctx-3'] = train_df['ctx-3'].fillna(0)\n",
    "train_df['ctx-2'] = train_df['ctx-2'].fillna(0)\n",
    "train_df['ctx-1'] = train_df['ctx-1'].fillna(0)"
   ]
  },
  {
   "cell_type": "code",
   "execution_count": 30,
   "id": "4612d757-66c6-4fd6-bfb0-48ddb0121625",
   "metadata": {
    "tags": []
   },
   "outputs": [
    {
     "name": "stdout",
     "output_type": "stream",
     "text": [
      "It contains 0 infinite values\n",
      "printing column name where infinity is present\n",
      "Series([], dtype: object)\n",
      "After replacing inifite values, now it contains 0 infinite values\n"
     ]
    }
   ],
   "source": [
    "def infinite_values(df):\n",
    "    count = np.isinf(df).values.sum()\n",
    "    print(\"It contains \" + str(count) + \" infinite values\")\n",
    "    print(\"printing column name where infinity is present\")\n",
    "    col_name = df.columns.to_series()[np.isinf(df).any()]\n",
    "    print(col_name)\n",
    "    df.replace([np.inf, -np.inf], 0, inplace=True)\n",
    "    count = np.isinf(df).values.sum()\n",
    "    print(\"After replacing inifite values, now it contains \" + str(count) + \" infinite values\")\n",
    "    return df\n",
    "\n",
    "train_df = infinite_values(train_df)"
   ]
  },
  {
   "cell_type": "code",
   "execution_count": 35,
   "id": "56850ae7-f819-406f-86a6-ef2fd3935853",
   "metadata": {
    "tags": []
   },
   "outputs": [
    {
     "data": {
      "text/html": [
       "<div>\n",
       "<style scoped>\n",
       "    .dataframe tbody tr th:only-of-type {\n",
       "        vertical-align: middle;\n",
       "    }\n",
       "\n",
       "    .dataframe tbody tr th {\n",
       "        vertical-align: top;\n",
       "    }\n",
       "\n",
       "    .dataframe thead th {\n",
       "        text-align: right;\n",
       "    }\n",
       "</style>\n",
       "<table border=\"1\" class=\"dataframe\">\n",
       "  <thead>\n",
       "    <tr style=\"text-align: right;\">\n",
       "      <th></th>\n",
       "      <th>station_id</th>\n",
       "      <th>num_bikes_available</th>\n",
       "      <th>num_bikes_available_types.mechanical</th>\n",
       "      <th>num_bikes_available_types.ebike</th>\n",
       "      <th>num_docks_available</th>\n",
       "      <th>percentage_docks_available</th>\n",
       "      <th>status</th>\n",
       "      <th>lat</th>\n",
       "      <th>lon</th>\n",
       "      <th>altitude</th>\n",
       "      <th>capacity</th>\n",
       "      <th>year</th>\n",
       "      <th>month</th>\n",
       "      <th>day</th>\n",
       "      <th>hour</th>\n",
       "      <th>traffic</th>\n",
       "      <th>covid_cases</th>\n",
       "      <th>confinment</th>\n",
       "      <th>has_holidays</th>\n",
       "      <th>temp</th>\n",
       "      <th>feelslike</th>\n",
       "      <th>humidity</th>\n",
       "      <th>precip</th>\n",
       "      <th>snow</th>\n",
       "      <th>windspeed</th>\n",
       "      <th>uvindex</th>\n",
       "      <th>visibility</th>\n",
       "      <th>ctx-1</th>\n",
       "      <th>ctx-2</th>\n",
       "      <th>ctx-3</th>\n",
       "      <th>ctx-4</th>\n",
       "      <th>day_info_weekday</th>\n",
       "      <th>day_info_weekend</th>\n",
       "      <th>month_info_spring</th>\n",
       "      <th>month_info_winter</th>\n",
       "      <th>hour_info_early_morning</th>\n",
       "      <th>hour_info_eve</th>\n",
       "      <th>hour_info_late_night</th>\n",
       "      <th>hour_info_morning</th>\n",
       "      <th>hour_info_night</th>\n",
       "      <th>hour_info_noon</th>\n",
       "    </tr>\n",
       "  </thead>\n",
       "  <tbody>\n",
       "    <tr>\n",
       "      <th>487705</th>\n",
       "      <td>519</td>\n",
       "      <td>6.833333</td>\n",
       "      <td>0.000000</td>\n",
       "      <td>6.833333</td>\n",
       "      <td>17.166667</td>\n",
       "      <td>0.398058</td>\n",
       "      <td>1.0</td>\n",
       "      <td>41.424655</td>\n",
       "      <td>2.166289</td>\n",
       "      <td>110.0</td>\n",
       "      <td>24</td>\n",
       "      <td>2020</td>\n",
       "      <td>12</td>\n",
       "      <td>25</td>\n",
       "      <td>0</td>\n",
       "      <td>0.0</td>\n",
       "      <td>171.0</td>\n",
       "      <td>0</td>\n",
       "      <td>1</td>\n",
       "      <td>9.0</td>\n",
       "      <td>7.2</td>\n",
       "      <td>50.0</td>\n",
       "      <td>0.0</td>\n",
       "      <td>0.0</td>\n",
       "      <td>28.6</td>\n",
       "      <td>3.0</td>\n",
       "      <td>18.3</td>\n",
       "      <td>0.000000</td>\n",
       "      <td>0.000000</td>\n",
       "      <td>0.000000</td>\n",
       "      <td>0.000000</td>\n",
       "      <td>1</td>\n",
       "      <td>0</td>\n",
       "      <td>0</td>\n",
       "      <td>1</td>\n",
       "      <td>0</td>\n",
       "      <td>0</td>\n",
       "      <td>1</td>\n",
       "      <td>0</td>\n",
       "      <td>0</td>\n",
       "      <td>0</td>\n",
       "    </tr>\n",
       "    <tr>\n",
       "      <th>487706</th>\n",
       "      <td>519</td>\n",
       "      <td>7.500000</td>\n",
       "      <td>0.000000</td>\n",
       "      <td>7.500000</td>\n",
       "      <td>16.500000</td>\n",
       "      <td>0.454545</td>\n",
       "      <td>1.0</td>\n",
       "      <td>41.424655</td>\n",
       "      <td>2.166289</td>\n",
       "      <td>110.0</td>\n",
       "      <td>24</td>\n",
       "      <td>2020</td>\n",
       "      <td>12</td>\n",
       "      <td>25</td>\n",
       "      <td>1</td>\n",
       "      <td>0.0</td>\n",
       "      <td>171.0</td>\n",
       "      <td>0</td>\n",
       "      <td>1</td>\n",
       "      <td>9.0</td>\n",
       "      <td>7.2</td>\n",
       "      <td>50.0</td>\n",
       "      <td>0.0</td>\n",
       "      <td>0.0</td>\n",
       "      <td>28.6</td>\n",
       "      <td>3.0</td>\n",
       "      <td>18.3</td>\n",
       "      <td>0.398058</td>\n",
       "      <td>0.000000</td>\n",
       "      <td>0.000000</td>\n",
       "      <td>0.000000</td>\n",
       "      <td>1</td>\n",
       "      <td>0</td>\n",
       "      <td>0</td>\n",
       "      <td>1</td>\n",
       "      <td>0</td>\n",
       "      <td>0</td>\n",
       "      <td>1</td>\n",
       "      <td>0</td>\n",
       "      <td>0</td>\n",
       "      <td>0</td>\n",
       "    </tr>\n",
       "    <tr>\n",
       "      <th>487707</th>\n",
       "      <td>519</td>\n",
       "      <td>8.000000</td>\n",
       "      <td>0.000000</td>\n",
       "      <td>8.000000</td>\n",
       "      <td>16.000000</td>\n",
       "      <td>0.500000</td>\n",
       "      <td>1.0</td>\n",
       "      <td>41.424655</td>\n",
       "      <td>2.166289</td>\n",
       "      <td>110.0</td>\n",
       "      <td>24</td>\n",
       "      <td>2020</td>\n",
       "      <td>12</td>\n",
       "      <td>25</td>\n",
       "      <td>2</td>\n",
       "      <td>0.0</td>\n",
       "      <td>171.0</td>\n",
       "      <td>0</td>\n",
       "      <td>1</td>\n",
       "      <td>9.0</td>\n",
       "      <td>7.2</td>\n",
       "      <td>50.0</td>\n",
       "      <td>0.0</td>\n",
       "      <td>0.0</td>\n",
       "      <td>28.6</td>\n",
       "      <td>3.0</td>\n",
       "      <td>18.3</td>\n",
       "      <td>0.454545</td>\n",
       "      <td>0.398058</td>\n",
       "      <td>0.000000</td>\n",
       "      <td>0.000000</td>\n",
       "      <td>1</td>\n",
       "      <td>0</td>\n",
       "      <td>0</td>\n",
       "      <td>1</td>\n",
       "      <td>0</td>\n",
       "      <td>0</td>\n",
       "      <td>1</td>\n",
       "      <td>0</td>\n",
       "      <td>0</td>\n",
       "      <td>0</td>\n",
       "    </tr>\n",
       "    <tr>\n",
       "      <th>487708</th>\n",
       "      <td>519</td>\n",
       "      <td>8.000000</td>\n",
       "      <td>0.000000</td>\n",
       "      <td>8.000000</td>\n",
       "      <td>16.000000</td>\n",
       "      <td>0.500000</td>\n",
       "      <td>1.0</td>\n",
       "      <td>41.424655</td>\n",
       "      <td>2.166289</td>\n",
       "      <td>110.0</td>\n",
       "      <td>24</td>\n",
       "      <td>2020</td>\n",
       "      <td>12</td>\n",
       "      <td>25</td>\n",
       "      <td>3</td>\n",
       "      <td>0.0</td>\n",
       "      <td>171.0</td>\n",
       "      <td>0</td>\n",
       "      <td>1</td>\n",
       "      <td>9.0</td>\n",
       "      <td>7.2</td>\n",
       "      <td>50.0</td>\n",
       "      <td>0.0</td>\n",
       "      <td>0.0</td>\n",
       "      <td>28.6</td>\n",
       "      <td>3.0</td>\n",
       "      <td>18.3</td>\n",
       "      <td>0.500000</td>\n",
       "      <td>0.454545</td>\n",
       "      <td>0.398058</td>\n",
       "      <td>0.000000</td>\n",
       "      <td>1</td>\n",
       "      <td>0</td>\n",
       "      <td>0</td>\n",
       "      <td>1</td>\n",
       "      <td>0</td>\n",
       "      <td>0</td>\n",
       "      <td>1</td>\n",
       "      <td>0</td>\n",
       "      <td>0</td>\n",
       "      <td>0</td>\n",
       "    </tr>\n",
       "    <tr>\n",
       "      <th>487709</th>\n",
       "      <td>519</td>\n",
       "      <td>7.818182</td>\n",
       "      <td>0.000000</td>\n",
       "      <td>7.818182</td>\n",
       "      <td>16.181818</td>\n",
       "      <td>0.483146</td>\n",
       "      <td>1.0</td>\n",
       "      <td>41.424655</td>\n",
       "      <td>2.166289</td>\n",
       "      <td>110.0</td>\n",
       "      <td>24</td>\n",
       "      <td>2020</td>\n",
       "      <td>12</td>\n",
       "      <td>25</td>\n",
       "      <td>4</td>\n",
       "      <td>0.0</td>\n",
       "      <td>171.0</td>\n",
       "      <td>0</td>\n",
       "      <td>1</td>\n",
       "      <td>9.0</td>\n",
       "      <td>7.2</td>\n",
       "      <td>50.0</td>\n",
       "      <td>0.0</td>\n",
       "      <td>0.0</td>\n",
       "      <td>28.6</td>\n",
       "      <td>3.0</td>\n",
       "      <td>18.3</td>\n",
       "      <td>0.500000</td>\n",
       "      <td>0.500000</td>\n",
       "      <td>0.454545</td>\n",
       "      <td>0.398058</td>\n",
       "      <td>1</td>\n",
       "      <td>0</td>\n",
       "      <td>0</td>\n",
       "      <td>1</td>\n",
       "      <td>0</td>\n",
       "      <td>0</td>\n",
       "      <td>1</td>\n",
       "      <td>0</td>\n",
       "      <td>0</td>\n",
       "      <td>0</td>\n",
       "    </tr>\n",
       "    <tr>\n",
       "      <th>...</th>\n",
       "      <td>...</td>\n",
       "      <td>...</td>\n",
       "      <td>...</td>\n",
       "      <td>...</td>\n",
       "      <td>...</td>\n",
       "      <td>...</td>\n",
       "      <td>...</td>\n",
       "      <td>...</td>\n",
       "      <td>...</td>\n",
       "      <td>...</td>\n",
       "      <td>...</td>\n",
       "      <td>...</td>\n",
       "      <td>...</td>\n",
       "      <td>...</td>\n",
       "      <td>...</td>\n",
       "      <td>...</td>\n",
       "      <td>...</td>\n",
       "      <td>...</td>\n",
       "      <td>...</td>\n",
       "      <td>...</td>\n",
       "      <td>...</td>\n",
       "      <td>...</td>\n",
       "      <td>...</td>\n",
       "      <td>...</td>\n",
       "      <td>...</td>\n",
       "      <td>...</td>\n",
       "      <td>...</td>\n",
       "      <td>...</td>\n",
       "      <td>...</td>\n",
       "      <td>...</td>\n",
       "      <td>...</td>\n",
       "      <td>...</td>\n",
       "      <td>...</td>\n",
       "      <td>...</td>\n",
       "      <td>...</td>\n",
       "      <td>...</td>\n",
       "      <td>...</td>\n",
       "      <td>...</td>\n",
       "      <td>...</td>\n",
       "      <td>...</td>\n",
       "      <td>...</td>\n",
       "    </tr>\n",
       "    <tr>\n",
       "      <th>259821</th>\n",
       "      <td>1</td>\n",
       "      <td>34.166667</td>\n",
       "      <td>26.750000</td>\n",
       "      <td>7.416667</td>\n",
       "      <td>11.833333</td>\n",
       "      <td>2.887324</td>\n",
       "      <td>1.0</td>\n",
       "      <td>41.397978</td>\n",
       "      <td>2.180107</td>\n",
       "      <td>16.0</td>\n",
       "      <td>46</td>\n",
       "      <td>2022</td>\n",
       "      <td>12</td>\n",
       "      <td>31</td>\n",
       "      <td>19</td>\n",
       "      <td>0.0</td>\n",
       "      <td>6.0</td>\n",
       "      <td>0</td>\n",
       "      <td>1</td>\n",
       "      <td>14.4</td>\n",
       "      <td>14.4</td>\n",
       "      <td>69.4</td>\n",
       "      <td>0.0</td>\n",
       "      <td>0.0</td>\n",
       "      <td>15.6</td>\n",
       "      <td>4.0</td>\n",
       "      <td>15.8</td>\n",
       "      <td>1.936170</td>\n",
       "      <td>1.196000</td>\n",
       "      <td>1.144531</td>\n",
       "      <td>0.964286</td>\n",
       "      <td>0</td>\n",
       "      <td>1</td>\n",
       "      <td>0</td>\n",
       "      <td>1</td>\n",
       "      <td>0</td>\n",
       "      <td>1</td>\n",
       "      <td>0</td>\n",
       "      <td>0</td>\n",
       "      <td>0</td>\n",
       "      <td>0</td>\n",
       "    </tr>\n",
       "    <tr>\n",
       "      <th>259822</th>\n",
       "      <td>1</td>\n",
       "      <td>40.500000</td>\n",
       "      <td>33.416667</td>\n",
       "      <td>7.083333</td>\n",
       "      <td>5.500000</td>\n",
       "      <td>7.363636</td>\n",
       "      <td>1.0</td>\n",
       "      <td>41.397978</td>\n",
       "      <td>2.180107</td>\n",
       "      <td>16.0</td>\n",
       "      <td>46</td>\n",
       "      <td>2022</td>\n",
       "      <td>12</td>\n",
       "      <td>31</td>\n",
       "      <td>20</td>\n",
       "      <td>0.0</td>\n",
       "      <td>6.0</td>\n",
       "      <td>0</td>\n",
       "      <td>1</td>\n",
       "      <td>14.4</td>\n",
       "      <td>14.4</td>\n",
       "      <td>69.4</td>\n",
       "      <td>0.0</td>\n",
       "      <td>0.0</td>\n",
       "      <td>15.6</td>\n",
       "      <td>4.0</td>\n",
       "      <td>15.8</td>\n",
       "      <td>2.887324</td>\n",
       "      <td>1.936170</td>\n",
       "      <td>1.196000</td>\n",
       "      <td>1.144531</td>\n",
       "      <td>0</td>\n",
       "      <td>1</td>\n",
       "      <td>0</td>\n",
       "      <td>1</td>\n",
       "      <td>0</td>\n",
       "      <td>1</td>\n",
       "      <td>0</td>\n",
       "      <td>0</td>\n",
       "      <td>0</td>\n",
       "      <td>0</td>\n",
       "    </tr>\n",
       "    <tr>\n",
       "      <th>259823</th>\n",
       "      <td>1</td>\n",
       "      <td>41.000000</td>\n",
       "      <td>35.750000</td>\n",
       "      <td>5.250000</td>\n",
       "      <td>5.000000</td>\n",
       "      <td>8.200000</td>\n",
       "      <td>1.0</td>\n",
       "      <td>41.397978</td>\n",
       "      <td>2.180107</td>\n",
       "      <td>16.0</td>\n",
       "      <td>46</td>\n",
       "      <td>2022</td>\n",
       "      <td>12</td>\n",
       "      <td>31</td>\n",
       "      <td>21</td>\n",
       "      <td>0.0</td>\n",
       "      <td>6.0</td>\n",
       "      <td>0</td>\n",
       "      <td>1</td>\n",
       "      <td>14.4</td>\n",
       "      <td>14.4</td>\n",
       "      <td>69.4</td>\n",
       "      <td>0.0</td>\n",
       "      <td>0.0</td>\n",
       "      <td>15.6</td>\n",
       "      <td>4.0</td>\n",
       "      <td>15.8</td>\n",
       "      <td>7.363636</td>\n",
       "      <td>2.887324</td>\n",
       "      <td>1.936170</td>\n",
       "      <td>1.196000</td>\n",
       "      <td>0</td>\n",
       "      <td>1</td>\n",
       "      <td>0</td>\n",
       "      <td>1</td>\n",
       "      <td>0</td>\n",
       "      <td>0</td>\n",
       "      <td>0</td>\n",
       "      <td>0</td>\n",
       "      <td>1</td>\n",
       "      <td>0</td>\n",
       "    </tr>\n",
       "    <tr>\n",
       "      <th>259824</th>\n",
       "      <td>1</td>\n",
       "      <td>40.583333</td>\n",
       "      <td>35.500000</td>\n",
       "      <td>5.083333</td>\n",
       "      <td>5.416667</td>\n",
       "      <td>7.492308</td>\n",
       "      <td>1.0</td>\n",
       "      <td>41.397978</td>\n",
       "      <td>2.180107</td>\n",
       "      <td>16.0</td>\n",
       "      <td>46</td>\n",
       "      <td>2022</td>\n",
       "      <td>12</td>\n",
       "      <td>31</td>\n",
       "      <td>22</td>\n",
       "      <td>0.0</td>\n",
       "      <td>6.0</td>\n",
       "      <td>0</td>\n",
       "      <td>1</td>\n",
       "      <td>14.4</td>\n",
       "      <td>14.4</td>\n",
       "      <td>69.4</td>\n",
       "      <td>0.0</td>\n",
       "      <td>0.0</td>\n",
       "      <td>15.6</td>\n",
       "      <td>4.0</td>\n",
       "      <td>15.8</td>\n",
       "      <td>8.200000</td>\n",
       "      <td>7.363636</td>\n",
       "      <td>2.887324</td>\n",
       "      <td>1.936170</td>\n",
       "      <td>0</td>\n",
       "      <td>1</td>\n",
       "      <td>0</td>\n",
       "      <td>1</td>\n",
       "      <td>0</td>\n",
       "      <td>0</td>\n",
       "      <td>0</td>\n",
       "      <td>0</td>\n",
       "      <td>1</td>\n",
       "      <td>0</td>\n",
       "    </tr>\n",
       "    <tr>\n",
       "      <th>259825</th>\n",
       "      <td>1</td>\n",
       "      <td>38.916667</td>\n",
       "      <td>35.000000</td>\n",
       "      <td>3.916667</td>\n",
       "      <td>7.083333</td>\n",
       "      <td>5.494118</td>\n",
       "      <td>1.0</td>\n",
       "      <td>41.397978</td>\n",
       "      <td>2.180107</td>\n",
       "      <td>16.0</td>\n",
       "      <td>46</td>\n",
       "      <td>2022</td>\n",
       "      <td>12</td>\n",
       "      <td>31</td>\n",
       "      <td>23</td>\n",
       "      <td>0.0</td>\n",
       "      <td>6.0</td>\n",
       "      <td>0</td>\n",
       "      <td>1</td>\n",
       "      <td>14.4</td>\n",
       "      <td>14.4</td>\n",
       "      <td>69.4</td>\n",
       "      <td>0.0</td>\n",
       "      <td>0.0</td>\n",
       "      <td>15.6</td>\n",
       "      <td>4.0</td>\n",
       "      <td>15.8</td>\n",
       "      <td>7.492308</td>\n",
       "      <td>8.200000</td>\n",
       "      <td>7.363636</td>\n",
       "      <td>2.887324</td>\n",
       "      <td>0</td>\n",
       "      <td>1</td>\n",
       "      <td>0</td>\n",
       "      <td>1</td>\n",
       "      <td>0</td>\n",
       "      <td>0</td>\n",
       "      <td>0</td>\n",
       "      <td>0</td>\n",
       "      <td>1</td>\n",
       "      <td>0</td>\n",
       "    </tr>\n",
       "  </tbody>\n",
       "</table>\n",
       "<p>626716 rows × 41 columns</p>\n",
       "</div>"
      ],
      "text/plain": [
       "        station_id  num_bikes_available  num_bikes_available_types.mechanical  \\\n",
       "487705         519             6.833333                              0.000000   \n",
       "487706         519             7.500000                              0.000000   \n",
       "487707         519             8.000000                              0.000000   \n",
       "487708         519             8.000000                              0.000000   \n",
       "487709         519             7.818182                              0.000000   \n",
       "...            ...                  ...                                   ...   \n",
       "259821           1            34.166667                             26.750000   \n",
       "259822           1            40.500000                             33.416667   \n",
       "259823           1            41.000000                             35.750000   \n",
       "259824           1            40.583333                             35.500000   \n",
       "259825           1            38.916667                             35.000000   \n",
       "\n",
       "        num_bikes_available_types.ebike  num_docks_available  \\\n",
       "487705                         6.833333            17.166667   \n",
       "487706                         7.500000            16.500000   \n",
       "487707                         8.000000            16.000000   \n",
       "487708                         8.000000            16.000000   \n",
       "487709                         7.818182            16.181818   \n",
       "...                                 ...                  ...   \n",
       "259821                         7.416667            11.833333   \n",
       "259822                         7.083333             5.500000   \n",
       "259823                         5.250000             5.000000   \n",
       "259824                         5.083333             5.416667   \n",
       "259825                         3.916667             7.083333   \n",
       "\n",
       "        percentage_docks_available  status        lat       lon  altitude  \\\n",
       "487705                    0.398058     1.0  41.424655  2.166289     110.0   \n",
       "487706                    0.454545     1.0  41.424655  2.166289     110.0   \n",
       "487707                    0.500000     1.0  41.424655  2.166289     110.0   \n",
       "487708                    0.500000     1.0  41.424655  2.166289     110.0   \n",
       "487709                    0.483146     1.0  41.424655  2.166289     110.0   \n",
       "...                            ...     ...        ...       ...       ...   \n",
       "259821                    2.887324     1.0  41.397978  2.180107      16.0   \n",
       "259822                    7.363636     1.0  41.397978  2.180107      16.0   \n",
       "259823                    8.200000     1.0  41.397978  2.180107      16.0   \n",
       "259824                    7.492308     1.0  41.397978  2.180107      16.0   \n",
       "259825                    5.494118     1.0  41.397978  2.180107      16.0   \n",
       "\n",
       "        capacity  year  month  day  hour  traffic  covid_cases  confinment  \\\n",
       "487705        24  2020     12   25     0      0.0        171.0           0   \n",
       "487706        24  2020     12   25     1      0.0        171.0           0   \n",
       "487707        24  2020     12   25     2      0.0        171.0           0   \n",
       "487708        24  2020     12   25     3      0.0        171.0           0   \n",
       "487709        24  2020     12   25     4      0.0        171.0           0   \n",
       "...          ...   ...    ...  ...   ...      ...          ...         ...   \n",
       "259821        46  2022     12   31    19      0.0          6.0           0   \n",
       "259822        46  2022     12   31    20      0.0          6.0           0   \n",
       "259823        46  2022     12   31    21      0.0          6.0           0   \n",
       "259824        46  2022     12   31    22      0.0          6.0           0   \n",
       "259825        46  2022     12   31    23      0.0          6.0           0   \n",
       "\n",
       "        has_holidays  temp  feelslike  humidity  precip  snow  windspeed  \\\n",
       "487705             1   9.0        7.2      50.0     0.0   0.0       28.6   \n",
       "487706             1   9.0        7.2      50.0     0.0   0.0       28.6   \n",
       "487707             1   9.0        7.2      50.0     0.0   0.0       28.6   \n",
       "487708             1   9.0        7.2      50.0     0.0   0.0       28.6   \n",
       "487709             1   9.0        7.2      50.0     0.0   0.0       28.6   \n",
       "...              ...   ...        ...       ...     ...   ...        ...   \n",
       "259821             1  14.4       14.4      69.4     0.0   0.0       15.6   \n",
       "259822             1  14.4       14.4      69.4     0.0   0.0       15.6   \n",
       "259823             1  14.4       14.4      69.4     0.0   0.0       15.6   \n",
       "259824             1  14.4       14.4      69.4     0.0   0.0       15.6   \n",
       "259825             1  14.4       14.4      69.4     0.0   0.0       15.6   \n",
       "\n",
       "        uvindex  visibility     ctx-1     ctx-2     ctx-3     ctx-4  \\\n",
       "487705      3.0        18.3  0.000000  0.000000  0.000000  0.000000   \n",
       "487706      3.0        18.3  0.398058  0.000000  0.000000  0.000000   \n",
       "487707      3.0        18.3  0.454545  0.398058  0.000000  0.000000   \n",
       "487708      3.0        18.3  0.500000  0.454545  0.398058  0.000000   \n",
       "487709      3.0        18.3  0.500000  0.500000  0.454545  0.398058   \n",
       "...         ...         ...       ...       ...       ...       ...   \n",
       "259821      4.0        15.8  1.936170  1.196000  1.144531  0.964286   \n",
       "259822      4.0        15.8  2.887324  1.936170  1.196000  1.144531   \n",
       "259823      4.0        15.8  7.363636  2.887324  1.936170  1.196000   \n",
       "259824      4.0        15.8  8.200000  7.363636  2.887324  1.936170   \n",
       "259825      4.0        15.8  7.492308  8.200000  7.363636  2.887324   \n",
       "\n",
       "        day_info_weekday  day_info_weekend  month_info_spring  \\\n",
       "487705                 1                 0                  0   \n",
       "487706                 1                 0                  0   \n",
       "487707                 1                 0                  0   \n",
       "487708                 1                 0                  0   \n",
       "487709                 1                 0                  0   \n",
       "...                  ...               ...                ...   \n",
       "259821                 0                 1                  0   \n",
       "259822                 0                 1                  0   \n",
       "259823                 0                 1                  0   \n",
       "259824                 0                 1                  0   \n",
       "259825                 0                 1                  0   \n",
       "\n",
       "        month_info_winter  hour_info_early_morning  hour_info_eve  \\\n",
       "487705                  1                        0              0   \n",
       "487706                  1                        0              0   \n",
       "487707                  1                        0              0   \n",
       "487708                  1                        0              0   \n",
       "487709                  1                        0              0   \n",
       "...                   ...                      ...            ...   \n",
       "259821                  1                        0              1   \n",
       "259822                  1                        0              1   \n",
       "259823                  1                        0              0   \n",
       "259824                  1                        0              0   \n",
       "259825                  1                        0              0   \n",
       "\n",
       "        hour_info_late_night  hour_info_morning  hour_info_night  \\\n",
       "487705                     1                  0                0   \n",
       "487706                     1                  0                0   \n",
       "487707                     1                  0                0   \n",
       "487708                     1                  0                0   \n",
       "487709                     1                  0                0   \n",
       "...                      ...                ...              ...   \n",
       "259821                     0                  0                0   \n",
       "259822                     0                  0                0   \n",
       "259823                     0                  0                1   \n",
       "259824                     0                  0                1   \n",
       "259825                     0                  0                1   \n",
       "\n",
       "        hour_info_noon  \n",
       "487705               0  \n",
       "487706               0  \n",
       "487707               0  \n",
       "487708               0  \n",
       "487709               0  \n",
       "...                ...  \n",
       "259821               0  \n",
       "259822               0  \n",
       "259823               0  \n",
       "259824               0  \n",
       "259825               0  \n",
       "\n",
       "[626716 rows x 41 columns]"
      ]
     },
     "execution_count": 35,
     "metadata": {},
     "output_type": "execute_result"
    }
   ],
   "source": [
    "train_df"
   ]
  },
  {
   "cell_type": "markdown",
   "id": "7624a234-9c8b-4732-b9c6-995f9c81c902",
   "metadata": {},
   "source": [
    "# Cleaning test_df dataset"
   ]
  },
  {
   "cell_type": "code",
   "execution_count": 31,
   "id": "32f5f4a5-8ad3-4dd8-9663-ee3c21319e3d",
   "metadata": {
    "tags": []
   },
   "outputs": [],
   "source": [
    "test_df = get_dummies(test_df, 'day_info')\n",
    "test_df = get_dummies(test_df, 'month_info')\n",
    "test_df = get_dummies(test_df, 'hour_info')"
   ]
  },
  {
   "cell_type": "code",
   "execution_count": 32,
   "id": "c0d9d380-764e-43b5-8586-9bf5bdef5310",
   "metadata": {
    "tags": []
   },
   "outputs": [],
   "source": [
    "test_df['covid_cases'] = test_df['covid_cases'].fillna(0)"
   ]
  },
  {
   "cell_type": "code",
   "execution_count": 33,
   "id": "619efb61-0427-450f-b380-f19d65f87c0f",
   "metadata": {
    "tags": []
   },
   "outputs": [],
   "source": [
    "test_df['ctx-4'] = test_df['ctx-4'].fillna(0)\n",
    "test_df['ctx-3'] = test_df['ctx-3'].fillna(0)\n",
    "test_df['ctx-2'] = test_df['ctx-2'].fillna(0)\n",
    "test_df['ctx-1'] = test_df['ctx-1'].fillna(0)"
   ]
  },
  {
   "cell_type": "code",
   "execution_count": 34,
   "id": "7a4df785-d7e1-4a52-a155-1435ea1532be",
   "metadata": {
    "tags": []
   },
   "outputs": [
    {
     "name": "stdout",
     "output_type": "stream",
     "text": [
      "It contains 999 infinite values\n",
      "printing column name where infinity is present\n",
      "percentage_docks_available    percentage_docks_available\n",
      "ctx-1                                              ctx-1\n",
      "ctx-2                                              ctx-2\n",
      "ctx-3                                              ctx-3\n",
      "ctx-4                                              ctx-4\n",
      "dtype: object\n",
      "After replacing inifite values, now it contains 0 infinite values\n"
     ]
    }
   ],
   "source": [
    "test_df = infinite_values(test_df)"
   ]
  },
  {
   "cell_type": "markdown",
   "id": "04835874-baf2-4fe2-a49d-9c19d5b54e77",
   "metadata": {},
   "source": [
    "# Plotting variables"
   ]
  },
  {
   "cell_type": "code",
   "execution_count": 51,
   "id": "7eefeb0a-1753-4dce-a9ed-f33fa9868b1c",
   "metadata": {
    "tags": []
   },
   "outputs": [
    {
     "data": {
      "text/plain": [
       "(0.0, 1000.0)"
      ]
     },
     "execution_count": 51,
     "metadata": {},
     "output_type": "execute_result"
    },
    {
     "data": {
      "image/png": "[encoded data removed]",
      "text/plain": [
       "<Figure size 1000x300 with 1 Axes>"
      ]
     },
     "metadata": {},
     "output_type": "display_data"
    }
   ],
   "source": [
    "ax = train_df['percentage_docks_available'].hist(bins=200, color='blue', alpha=0.5, figsize=(10,3), legend=True)\n",
    "ax.set_ylim(0, 1000)"
   ]
  },
  {
   "cell_type": "code",
   "execution_count": 52,
   "id": "3aa8e6d6-a8a3-465c-ae68-258f41b4127a",
   "metadata": {
    "tags": []
   },
   "outputs": [],
   "source": [
    "train_df['percentage_docks_available'] = train_df['num_docks_available'] / (train_df['num_docks_available'] + train_df['num_bikes_available'])"
   ]
  },
  {
   "cell_type": "code",
   "execution_count": 54,
   "id": "bb666650-23ed-4420-905d-8f8273eee5ac",
   "metadata": {
    "tags": []
   },
   "outputs": [
    {
     "data": {
      "text/plain": [
       "(0.0, 10000.0)"
      ]
     },
     "execution_count": 54,
     "metadata": {},
     "output_type": "execute_result"
    },
    {
     "data": {
      "image/png": "[encoded data removed]",
      "text/plain": [
       "<Figure size 1000x300 with 1 Axes>"
      ]
     },
     "metadata": {},
     "output_type": "display_data"
    }
   ],
   "source": [
    "ax = train_df['percentage_docks_available'].hist(bins=200, color='blue', alpha=0.5, figsize=(10,3), legend=True)\n",
    "ax.set_ylim(0, 10000)"
   ]
  },
  {
   "cell_type": "code",
   "execution_count": 69,
   "id": "1560905a-9eb7-4b80-9f01-fc2d06f3f00e",
   "metadata": {
    "tags": []
   },
   "outputs": [
    {
     "data": {
      "text/plain": [
       "<AxesSubplot:xlabel='hour', ylabel='percentage_docks_available'>"
      ]
     },
     "execution_count": 69,
     "metadata": {},
     "output_type": "execute_result"
    },
    {
     "data": {
      "image/png": "[encoded data removed]",
      "text/plain": [
       "<Figure size 1500x300 with 1 Axes>"
      ]
     },
     "metadata": {},
     "output_type": "display_data"
    }
   ],
   "source": [
    "sns.set(rc={'figure.figsize':(15,3)})\n",
    "sns.violinplot(data=train_df, x=\"hour\", y=\"percentage_docks_available\", hue=\"month_info_winter\", split=True)\n"
   ]
  },
  {
   "cell_type": "code",
   "execution_count": 76,
   "id": "40cf9e53-18c6-436e-a389-8474f1005065",
   "metadata": {
    "tags": []
   },
   "outputs": [
    {
     "ename": "ValueError",
     "evalue": "There must be exactly two hue levels to use `split`.'",
     "output_type": "error",
     "traceback": [
      "\u001b[0;31m---------------------------------------------------------------------------\u001b[0m",
      "\u001b[0;31mValueError\u001b[0m                                Traceback (most recent call last)",
      "\u001b[0;32m/var/folders/87/kjpchb1d2w7fgc99b9md3q300000gn/T/ipykernel_4417/4105531733.py\u001b[0m in \u001b[0;36m<module>\u001b[0;34m\u001b[0m\n\u001b[1;32m      1\u001b[0m \u001b[0msns\u001b[0m\u001b[0;34m.\u001b[0m\u001b[0mset\u001b[0m\u001b[0;34m(\u001b[0m\u001b[0mrc\u001b[0m\u001b[0;34m=\u001b[0m\u001b[0;34m{\u001b[0m\u001b[0;34m'figure.figsize'\u001b[0m\u001b[0;34m:\u001b[0m\u001b[0;34m(\u001b[0m\u001b[0;36m15\u001b[0m\u001b[0;34m,\u001b[0m\u001b[0;36m3\u001b[0m\u001b[0;34m)\u001b[0m\u001b[0;34m}\u001b[0m\u001b[0;34m)\u001b[0m\u001b[0;34m\u001b[0m\u001b[0;34m\u001b[0m\u001b[0m\n\u001b[0;32m----> 2\u001b[0;31m \u001b[0msns\u001b[0m\u001b[0;34m.\u001b[0m\u001b[0mviolinplot\u001b[0m\u001b[0;34m(\u001b[0m\u001b[0mdata\u001b[0m\u001b[0;34m=\u001b[0m\u001b[0mtrain_df\u001b[0m\u001b[0;34m,\u001b[0m \u001b[0mx\u001b[0m\u001b[0;34m=\u001b[0m\u001b[0;34m\"hour\"\u001b[0m\u001b[0;34m,\u001b[0m \u001b[0my\u001b[0m\u001b[0;34m=\u001b[0m\u001b[0;34m\"percentage_docks_available\"\u001b[0m\u001b[0;34m,\u001b[0m \u001b[0mhue\u001b[0m\u001b[0;34m=\u001b[0m\u001b[0;34m\"confinment\"\u001b[0m\u001b[0;34m,\u001b[0m \u001b[0msplit\u001b[0m\u001b[0;34m=\u001b[0m\u001b[0;32mTrue\u001b[0m\u001b[0;34m)\u001b[0m\u001b[0;34m\u001b[0m\u001b[0;34m\u001b[0m\u001b[0m\n\u001b[0m",
      "\u001b[0;32m~/opt/anaconda3/lib/python3.9/site-packages/seaborn/_decorators.py\u001b[0m in \u001b[0;36minner_f\u001b[0;34m(*args, **kwargs)\u001b[0m\n\u001b[1;32m     44\u001b[0m             )\n\u001b[1;32m     45\u001b[0m         \u001b[0mkwargs\u001b[0m\u001b[0;34m.\u001b[0m\u001b[0mupdate\u001b[0m\u001b[0;34m(\u001b[0m\u001b[0;34m{\u001b[0m\u001b[0mk\u001b[0m\u001b[0;34m:\u001b[0m \u001b[0marg\u001b[0m \u001b[0;32mfor\u001b[0m \u001b[0mk\u001b[0m\u001b[0;34m,\u001b[0m \u001b[0marg\u001b[0m \u001b[0;32min\u001b[0m \u001b[0mzip\u001b[0m\u001b[0;34m(\u001b[0m\u001b[0msig\u001b[0m\u001b[0;34m.\u001b[0m\u001b[0mparameters\u001b[0m\u001b[0;34m,\u001b[0m \u001b[0margs\u001b[0m\u001b[0;34m)\u001b[0m\u001b[0;34m}\u001b[0m\u001b[0;34m)\u001b[0m\u001b[0;34m\u001b[0m\u001b[0;34m\u001b[0m\u001b[0m\n\u001b[0;32m---> 46\u001b[0;31m         \u001b[0;32mreturn\u001b[0m \u001b[0mf\u001b[0m\u001b[0;34m(\u001b[0m\u001b[0;34m**\u001b[0m\u001b[0mkwargs\u001b[0m\u001b[0;34m)\u001b[0m\u001b[0;34m\u001b[0m\u001b[0;34m\u001b[0m\u001b[0m\n\u001b[0m\u001b[1;32m     47\u001b[0m     \u001b[0;32mreturn\u001b[0m \u001b[0minner_f\u001b[0m\u001b[0;34m\u001b[0m\u001b[0;34m\u001b[0m\u001b[0m\n\u001b[1;32m     48\u001b[0m \u001b[0;34m\u001b[0m\u001b[0m\n",
      "\u001b[0;32m~/opt/anaconda3/lib/python3.9/site-packages/seaborn/categorical.py\u001b[0m in \u001b[0;36mviolinplot\u001b[0;34m(x, y, hue, data, order, hue_order, bw, cut, scale, scale_hue, gridsize, width, inner, split, dodge, orient, linewidth, color, palette, saturation, ax, **kwargs)\u001b[0m\n\u001b[1;32m   2398\u001b[0m ):\n\u001b[1;32m   2399\u001b[0m \u001b[0;34m\u001b[0m\u001b[0m\n\u001b[0;32m-> 2400\u001b[0;31m     plotter = _ViolinPlotter(x, y, hue, data, order, hue_order,\n\u001b[0m\u001b[1;32m   2401\u001b[0m                              \u001b[0mbw\u001b[0m\u001b[0;34m,\u001b[0m \u001b[0mcut\u001b[0m\u001b[0;34m,\u001b[0m \u001b[0mscale\u001b[0m\u001b[0;34m,\u001b[0m \u001b[0mscale_hue\u001b[0m\u001b[0;34m,\u001b[0m \u001b[0mgridsize\u001b[0m\u001b[0;34m,\u001b[0m\u001b[0;34m\u001b[0m\u001b[0;34m\u001b[0m\u001b[0m\n\u001b[1;32m   2402\u001b[0m                              \u001b[0mwidth\u001b[0m\u001b[0;34m,\u001b[0m \u001b[0minner\u001b[0m\u001b[0;34m,\u001b[0m \u001b[0msplit\u001b[0m\u001b[0;34m,\u001b[0m \u001b[0mdodge\u001b[0m\u001b[0;34m,\u001b[0m \u001b[0morient\u001b[0m\u001b[0;34m,\u001b[0m \u001b[0mlinewidth\u001b[0m\u001b[0;34m,\u001b[0m\u001b[0;34m\u001b[0m\u001b[0;34m\u001b[0m\u001b[0m\n",
      "\u001b[0;32m~/opt/anaconda3/lib/python3.9/site-packages/seaborn/categorical.py\u001b[0m in \u001b[0;36m__init__\u001b[0;34m(self, x, y, hue, data, order, hue_order, bw, cut, scale, scale_hue, gridsize, width, inner, split, dodge, orient, linewidth, color, palette, saturation)\u001b[0m\n\u001b[1;32m    539\u001b[0m         \u001b[0;32mif\u001b[0m \u001b[0msplit\u001b[0m \u001b[0;32mand\u001b[0m \u001b[0mself\u001b[0m\u001b[0;34m.\u001b[0m\u001b[0mhue_names\u001b[0m \u001b[0;32mis\u001b[0m \u001b[0;32mnot\u001b[0m \u001b[0;32mNone\u001b[0m \u001b[0;32mand\u001b[0m \u001b[0mlen\u001b[0m\u001b[0;34m(\u001b[0m\u001b[0mself\u001b[0m\u001b[0;34m.\u001b[0m\u001b[0mhue_names\u001b[0m\u001b[0;34m)\u001b[0m \u001b[0;34m!=\u001b[0m \u001b[0;36m2\u001b[0m\u001b[0;34m:\u001b[0m\u001b[0;34m\u001b[0m\u001b[0;34m\u001b[0m\u001b[0m\n\u001b[1;32m    540\u001b[0m             \u001b[0mmsg\u001b[0m \u001b[0;34m=\u001b[0m \u001b[0;34m\"There must be exactly two hue levels to use `split`.'\"\u001b[0m\u001b[0;34m\u001b[0m\u001b[0;34m\u001b[0m\u001b[0m\n\u001b[0;32m--> 541\u001b[0;31m             \u001b[0;32mraise\u001b[0m \u001b[0mValueError\u001b[0m\u001b[0;34m(\u001b[0m\u001b[0mmsg\u001b[0m\u001b[0;34m)\u001b[0m\u001b[0;34m\u001b[0m\u001b[0;34m\u001b[0m\u001b[0m\n\u001b[0m\u001b[1;32m    542\u001b[0m         \u001b[0mself\u001b[0m\u001b[0;34m.\u001b[0m\u001b[0msplit\u001b[0m \u001b[0;34m=\u001b[0m \u001b[0msplit\u001b[0m\u001b[0;34m\u001b[0m\u001b[0;34m\u001b[0m\u001b[0m\n\u001b[1;32m    543\u001b[0m \u001b[0;34m\u001b[0m\u001b[0m\n",
      "\u001b[0;31mValueError\u001b[0m: There must be exactly two hue levels to use `split`.'"
     ]
    }
   ],
   "source": [
    "sns.set(rc={'figure.figsize':(15,3)})\n",
    "sns.violinplot(data=train_df, x=\"hour\", y=\"percentage_docks_available\", hue=\"confinment\", split=True)"
   ]
  },
  {
   "cell_type": "code",
   "execution_count": 73,
   "id": "a3bd15ce-a533-47ff-aff4-14133acb00e9",
   "metadata": {
    "tags": []
   },
   "outputs": [
    {
     "data": {
      "text/plain": [
       "<AxesSubplot:xlabel='covid_cases', ylabel='percentage_docks_available'>"
      ]
     },
     "execution_count": 73,
     "metadata": {},
     "output_type": "execute_result"
    },
    {
     "data": {
      "image/png": "[encoded data removed]",
      "text/plain": [
       "<Figure size 1500x300 with 1 Axes>"
      ]
     },
     "metadata": {},
     "output_type": "display_data"
    }
   ],
   "source": [
    "sns.set(rc={'figure.figsize':(15,3)})\n",
    "sns.scatterplot(data=train_df, x=\"covid_cases\", y=\"percentage_docks_available\", alpha=0.01)"
   ]
  },
  {
   "cell_type": "markdown",
   "id": "ad50c151-67df-47e1-9668-c2713a4e75cf",
   "metadata": {},
   "source": [
    "# Prepare data train and validation, and in X and Y"
   ]
  },
  {
   "cell_type": "code",
   "execution_count": 218,
   "id": "a5ebb5a8-ded9-4a61-9131-aa7adc024b07",
   "metadata": {
    "tags": []
   },
   "outputs": [],
   "source": [
    "valid_df = test_df[test_df.month <= 3]\n",
    "test_df = test_df[test_df.month > 3]"
   ]
  },
  {
   "cell_type": "code",
   "execution_count": 219,
   "id": "ec30bdcd-25d5-4104-a240-bcfc98257393",
   "metadata": {
    "tags": []
   },
   "outputs": [
    {
     "name": "stdout",
     "output_type": "stream",
     "text": [
      "Validation size:  24003\n",
      "Test size:  53914\n"
     ]
    }
   ],
   "source": [
    "print('Validation size: ', valid_df.shape[0])\n",
    "print('Test size: ', test_df.shape[0])"
   ]
  },
  {
   "cell_type": "code",
   "execution_count": 229,
   "id": "f22ae900-a5a4-4596-9052-92ad96b1e319",
   "metadata": {},
   "outputs": [
    {
     "name": "stdout",
     "output_type": "stream",
     "text": [
      "(626716, 40) (626716,)\n",
      "(24003, 40) (24003,)\n"
     ]
    }
   ],
   "source": [
    "X_train = train_df.copy()\n",
    "X_train = X_train.drop([\"percentage_docks_available\"], axis=1)\n",
    "y_train = train_df[\"percentage_docks_available\"].copy()\n",
    "print(X_train.shape, y_train.shape)\n",
    "X_val = valid_df.copy()\n",
    "X_val = X_val.drop([\"percentage_docks_available\"], axis=1)\n",
    "y_val = valid_df[\"percentage_docks_available\"].copy()\n",
    "print(X_val.shape, y_val.shape)"
   ]
  },
  {
   "cell_type": "code",
   "execution_count": 230,
   "id": "a5b73b6a-9545-4c1e-8b50-1b7aea7b07b6",
   "metadata": {
    "tags": []
   },
   "outputs": [
    {
     "name": "stdout",
     "output_type": "stream",
     "text": [
      "\n",
      "Before transformation:\n",
      "Train: Max station_id                               519.000000\n",
      "num_bikes_available                       54.000000\n",
      "num_bikes_available_types.mechanical      52.250000\n",
      "num_bikes_available_types.ebike           33.916667\n",
      "num_docks_available                       54.000000\n",
      "status                                     1.000000\n",
      "lat                                       41.462095\n",
      "lon                                        2.220691\n",
      "altitude                                 166.000000\n",
      "capacity                                  54.000000\n",
      "year                                    2022.000000\n",
      "month                                     12.000000\n",
      "day                                       31.000000\n",
      "hour                                      23.000000\n",
      "traffic                                    0.000000\n",
      "covid_cases                             5604.000000\n",
      "confinment                                 0.000000\n",
      "has_holidays                               1.000000\n",
      "temp                                      18.700000\n",
      "feelslike                                 18.700000\n",
      "humidity                                  87.500000\n",
      "precip                                     3.625000\n",
      "snow                                       0.000000\n",
      "windspeed                                 47.500000\n",
      "uvindex                                    8.000000\n",
      "visibility                                18.900000\n",
      "ctx-1                                    649.000000\n",
      "ctx-2                                    649.000000\n",
      "ctx-3                                    649.000000\n",
      "ctx-4                                    649.000000\n",
      "day_info_weekday                           1.000000\n",
      "day_info_weekend                           1.000000\n",
      "month_info_spring                          1.000000\n",
      "month_info_winter                          1.000000\n",
      "hour_info_early_morning                    1.000000\n",
      "hour_info_eve                              1.000000\n",
      "hour_info_late_night                       1.000000\n",
      "hour_info_morning                          1.000000\n",
      "hour_info_night                            1.000000\n",
      "hour_info_noon                             1.000000\n",
      "dtype: float64, min station_id                                 1.000000\n",
      "num_bikes_available                        0.000000\n",
      "num_bikes_available_types.mechanical       0.000000\n",
      "num_bikes_available_types.ebike            0.000000\n",
      "num_docks_available                        0.000000\n",
      "status                                     0.000000\n",
      "lat                                       41.346775\n",
      "lon                                        2.109154\n",
      "altitude                                   2.000000\n",
      "capacity                                  12.000000\n",
      "year                                    2019.000000\n",
      "month                                      1.000000\n",
      "day                                        1.000000\n",
      "hour                                       0.000000\n",
      "traffic                                    0.000000\n",
      "covid_cases                                6.000000\n",
      "confinment                                 0.000000\n",
      "has_holidays                               1.000000\n",
      "temp                                       6.700000\n",
      "feelslike                                  4.500000\n",
      "humidity                                  39.800000\n",
      "precip                                     0.000000\n",
      "snow                                       0.000000\n",
      "windspeed                                 12.900000\n",
      "uvindex                                    1.000000\n",
      "visibility                                 7.800000\n",
      "ctx-1                                      0.000000\n",
      "ctx-2                                      0.000000\n",
      "ctx-3                                      0.000000\n",
      "ctx-4                                      0.000000\n",
      "day_info_weekday                           0.000000\n",
      "day_info_weekend                           0.000000\n",
      "month_info_spring                          0.000000\n",
      "month_info_winter                          0.000000\n",
      "hour_info_early_morning                    0.000000\n",
      "hour_info_eve                              0.000000\n",
      "hour_info_late_night                       0.000000\n",
      "hour_info_morning                          0.000000\n",
      "hour_info_night                            0.000000\n",
      "hour_info_noon                             0.000000\n",
      "dtype: float64, mean station_id                               250.566317\n",
      "num_bikes_available                       10.781739\n",
      "num_bikes_available_types.mechanical       8.486574\n",
      "num_bikes_available_types.ebike            2.305433\n",
      "num_docks_available                       15.152840\n",
      "status                                     0.999047\n",
      "lat                                       41.399052\n",
      "lon                                        2.168556\n",
      "altitude                                  33.858110\n",
      "capacity                                  26.916032\n",
      "year                                    2020.698931\n",
      "month                                      7.875526\n",
      "day                                       21.143007\n",
      "hour                                      11.505187\n",
      "traffic                                    0.000000\n",
      "covid_cases                              732.083229\n",
      "confinment                                 0.000000\n",
      "has_holidays                               1.000000\n",
      "temp                                      12.937427\n",
      "feelslike                                 12.530229\n",
      "humidity                                  70.573813\n",
      "precip                                     0.103550\n",
      "snow                                       0.000000\n",
      "windspeed                                 22.333574\n",
      "uvindex                                    4.939558\n",
      "visibility                                15.258742\n",
      "ctx-1                                      2.730022\n",
      "ctx-2                                      2.728019\n",
      "ctx-3                                      2.726502\n",
      "ctx-4                                      2.724801\n",
      "day_info_weekday                           0.672944\n",
      "day_info_weekend                           0.327056\n",
      "month_info_spring                          0.431433\n",
      "month_info_winter                          0.568567\n",
      "hour_info_early_morning                    0.166943\n",
      "hour_info_eve                              0.166919\n",
      "hour_info_late_night                       0.207909\n",
      "hour_info_morning                          0.166915\n",
      "hour_info_night                            0.125223\n",
      "hour_info_noon                             0.166091\n",
      "dtype: float64, and var station_id                              2.098375e+04\n",
      "num_bikes_available                     5.494698e+01\n",
      "num_bikes_available_types.mechanical    5.367017e+01\n",
      "num_bikes_available_types.ebike         1.014966e+01\n",
      "num_docks_available                     6.179911e+01\n",
      "status                                  8.258980e-04\n",
      "lat                                     4.197283e-04\n",
      "lon                                     6.008659e-04\n",
      "altitude                                9.733086e+02\n",
      "capacity                                4.088716e+01\n",
      "year                                    1.289196e+00\n",
      "month                                   1.846534e+01\n",
      "day                                     9.299232e+01\n",
      "hour                                    4.792200e+01\n",
      "traffic                                 0.000000e+00\n",
      "covid_cases                             2.388355e+06\n",
      "confinment                              0.000000e+00\n",
      "has_holidays                            0.000000e+00\n",
      "temp                                    7.642796e+00\n",
      "feelslike                               1.064840e+01\n",
      "humidity                                1.144137e+02\n",
      "precip                                  2.692998e-01\n",
      "snow                                    0.000000e+00\n",
      "windspeed                               6.752987e+01\n",
      "uvindex                                 3.947677e+00\n",
      "visibility                              6.919542e+00\n",
      "ctx-1                                   1.833618e+02\n",
      "ctx-2                                   1.832058e+02\n",
      "ctx-3                                   1.831910e+02\n",
      "ctx-4                                   1.830769e+02\n",
      "day_info_weekday                        2.200902e-01\n",
      "day_info_weekend                        2.200902e-01\n",
      "month_info_spring                       2.452986e-01\n",
      "month_info_winter                       2.452986e-01\n",
      "hour_info_early_morning                 1.390732e-01\n",
      "hour_info_eve                           1.390573e-01\n",
      "hour_info_late_night                    1.646829e-01\n",
      "hour_info_morning                       1.390541e-01\n",
      "hour_info_night                         1.095419e-01\n",
      "hour_info_noon                          1.385049e-01\n",
      "dtype: float64\n",
      "Test: Max station_id                               519.000000\n",
      "num_bikes_available                       52.416667\n",
      "num_bikes_available_types.mechanical      38.333333\n",
      "num_bikes_available_types.ebike           28.750000\n",
      "num_docks_available                       52.083333\n",
      "status                                     1.000000\n",
      "lat                                       41.462095\n",
      "lon                                        2.220691\n",
      "altitude                                 166.000000\n",
      "capacity                                  54.000000\n",
      "year                                    2023.000000\n",
      "month                                      1.000000\n",
      "day                                        6.000000\n",
      "hour                                      23.000000\n",
      "traffic                                    0.000000\n",
      "covid_cases                                6.000000\n",
      "confinment                                 0.000000\n",
      "has_holidays                               1.000000\n",
      "temp                                      10.600000\n",
      "feelslike                                  9.800000\n",
      "humidity                                  81.400000\n",
      "precip                                     0.000000\n",
      "snow                                       0.000000\n",
      "windspeed                                 15.100000\n",
      "uvindex                                    4.000000\n",
      "visibility                                16.300000\n",
      "ctx-1                                    479.000000\n",
      "ctx-2                                    479.000000\n",
      "ctx-3                                    479.000000\n",
      "ctx-4                                    479.000000\n",
      "day_info_weekday                           1.000000\n",
      "day_info_weekend                           1.000000\n",
      "month_info_spring                          0.000000\n",
      "month_info_winter                          1.000000\n",
      "hour_info_early_morning                    1.000000\n",
      "hour_info_eve                              1.000000\n",
      "hour_info_late_night                       1.000000\n",
      "hour_info_morning                          1.000000\n",
      "hour_info_night                            1.000000\n",
      "hour_info_noon                             1.000000\n",
      "dtype: float64, min station_id                                 1.000000\n",
      "num_bikes_available                        0.000000\n",
      "num_bikes_available_types.mechanical       0.000000\n",
      "num_bikes_available_types.ebike            0.000000\n",
      "num_docks_available                        0.000000\n",
      "status                                     0.000000\n",
      "lat                                       41.346775\n",
      "lon                                        2.109154\n",
      "altitude                                   2.000000\n",
      "capacity                                  12.000000\n",
      "year                                    2023.000000\n",
      "month                                      1.000000\n",
      "day                                        1.000000\n",
      "hour                                       0.000000\n",
      "traffic                                    0.000000\n",
      "covid_cases                                6.000000\n",
      "confinment                                 0.000000\n",
      "has_holidays                               1.000000\n",
      "temp                                       8.100000\n",
      "feelslike                                  6.700000\n",
      "humidity                                  74.200000\n",
      "precip                                     0.000000\n",
      "snow                                       0.000000\n",
      "windspeed                                 12.500000\n",
      "uvindex                                    3.000000\n",
      "visibility                                14.300000\n",
      "ctx-1                                      0.000000\n",
      "ctx-2                                      0.000000\n",
      "ctx-3                                      0.000000\n",
      "ctx-4                                      0.000000\n",
      "day_info_weekday                           0.000000\n",
      "day_info_weekend                           0.000000\n",
      "month_info_spring                          0.000000\n",
      "month_info_winter                          1.000000\n",
      "hour_info_early_morning                    0.000000\n",
      "hour_info_eve                              0.000000\n",
      "hour_info_late_night                       0.000000\n",
      "hour_info_morning                          0.000000\n",
      "hour_info_night                            0.000000\n",
      "hour_info_noon                             0.000000\n",
      "dtype: float64, mean station_id                               262.502354\n",
      "num_bikes_available                       11.284878\n",
      "num_bikes_available_types.mechanical       7.176606\n",
      "num_bikes_available_types.ebike            4.115799\n",
      "num_docks_available                       15.216092\n",
      "status                                     0.999538\n",
      "lat                                       41.400079\n",
      "lon                                        2.168314\n",
      "altitude                                  35.729034\n",
      "capacity                                  26.802733\n",
      "year                                    2023.000000\n",
      "month                                      1.000000\n",
      "day                                        3.478024\n",
      "hour                                      11.557805\n",
      "traffic                                    0.000000\n",
      "covid_cases                                6.000000\n",
      "confinment                                 0.000000\n",
      "has_holidays                               1.000000\n",
      "temp                                       9.360988\n",
      "feelslike                                  8.263625\n",
      "humidity                                  77.831646\n",
      "precip                                     0.000000\n",
      "snow                                       0.000000\n",
      "windspeed                                 13.788572\n",
      "uvindex                                    3.495605\n",
      "visibility                                15.291209\n",
      "ctx-1                                      2.392101\n",
      "ctx-2                                      2.405876\n",
      "ctx-3                                      2.411901\n",
      "ctx-4                                      2.419579\n",
      "day_info_weekday                           0.495605\n",
      "day_info_weekend                           0.504395\n",
      "month_info_spring                          0.000000\n",
      "month_info_winter                          1.000000\n",
      "hour_info_early_morning                    0.164771\n",
      "hour_info_eve                              0.168187\n",
      "hour_info_late_night                       0.206016\n",
      "hour_info_morning                          0.167146\n",
      "hour_info_night                            0.126151\n",
      "hour_info_noon                             0.167729\n",
      "dtype: float64, and var station_id                              2.237357e+04\n",
      "num_bikes_available                     5.035654e+01\n",
      "num_bikes_available_types.mechanical    4.472202e+01\n",
      "num_bikes_available_types.ebike         1.872069e+01\n",
      "num_docks_available                     5.897897e+01\n",
      "status                                  3.887453e-04\n",
      "lat                                     4.394837e-04\n",
      "lon                                     6.022350e-04\n",
      "altitude                                1.064384e+03\n",
      "capacity                                4.105816e+01\n",
      "year                                    5.169879e-26\n",
      "month                                   0.000000e+00\n",
      "day                                     6.249517e+00\n",
      "hour                                    4.786371e+01\n",
      "traffic                                 0.000000e+00\n",
      "covid_cases                             0.000000e+00\n",
      "confinment                              0.000000e+00\n",
      "has_holidays                            0.000000e+00\n",
      "temp                                    1.562379e+00\n",
      "feelslike                               2.402314e+00\n",
      "humidity                                1.295900e+01\n",
      "precip                                  0.000000e+00\n",
      "snow                                    0.000000e+00\n",
      "windspeed                               1.689869e+00\n",
      "uvindex                                 2.499807e-01\n",
      "visibility                              9.999227e-01\n",
      "ctx-1                                   1.414680e+02\n",
      "ctx-2                                   1.450140e+02\n",
      "ctx-3                                   1.452264e+02\n",
      "ctx-4                                   1.474738e+02\n",
      "day_info_weekday                        2.499807e-01\n",
      "day_info_weekend                        2.499807e-01\n",
      "month_info_spring                       0.000000e+00\n",
      "month_info_winter                       0.000000e+00\n",
      "hour_info_early_morning                 1.376216e-01\n",
      "hour_info_eve                           1.399003e-01\n",
      "hour_info_late_night                    1.635734e-01\n",
      "hour_info_morning                       1.392081e-01\n",
      "hour_info_night                         1.102368e-01\n",
      "hour_info_noon                          1.395960e-01\n",
      "dtype: float64\n",
      "\n",
      "After transformation:\n",
      "Train: Max 47.764008238617414, min -34.76344897932454, mean 1.7094999484910926e-15, and var 0.9000000000000129\n",
      "Test: Max 35.19988476911886, min -34.76344897932454, mean -0.12976121774927812, and var 1.018847495330713\n"
     ]
    }
   ],
   "source": [
    "# Standard Scaler\n",
    "from sklearn.preprocessing import StandardScaler\n",
    "\n",
    "scalerX = StandardScaler().fit(X_train) # Create the transformer StandardScaler and perform the fitting for the training data\n",
    "\n",
    "X_train_norm = scalerX.transform(X_train)\n",
    "X_val_norm = scalerX.transform(X_val)\n",
    "\n",
    "print(\"\\nBefore transformation:\")\n",
    "print('Train: Max {}, min {}, mean {}, and var {}'.format(np.max(X_train), np.min(X_train), np.mean(X_train), np.var(X_train)))\n",
    "print('Test: Max {}, min {}, mean {}, and var {}'.format(np.max(X_val), np.min(X_val), np.mean(X_val), np.var(X_val)))\n",
    "\n",
    "print(\"\\nAfter transformation:\")\n",
    "print('Train: Max {}, min {}, mean {}, and var {}'.format(np.max(X_train_norm), np.min(X_train_norm), np.mean(X_train_norm), np.var(X_train_norm)))\n",
    "print('Test: Max {}, min {}, mean {}, and var {}'.format(np.max(X_val_norm), np.min(X_val_norm), np.mean(X_val_norm), np.var(X_val_norm)))\n"
   ]
  },
  {
   "cell_type": "markdown",
   "id": "af70b491-40de-4ab8-9c20-0946cd3fd360",
   "metadata": {},
   "source": [
    "### LOGISTIC REGRESSION"
   ]
  },
  {
   "cell_type": "code",
   "execution_count": null,
   "id": "02bc5ea3-0447-4e80-b619-424c5380d289",
   "metadata": {},
   "outputs": [
    {
     "name": "stdout",
     "output_type": "stream",
     "text": [
      "[11712 12953 13878 ... 36134 35864 34715]\n"
     ]
    }
   ],
   "source": [
    "#Fit with linear_model: Logistic Regression\n",
    "solver = ['lbfgs', 'liblinear', 'newton-cg', 'newton-cholesky', 'sag', 'saga']\n",
    "'''\n",
    "Warning The choice of the algorithm depends on the penalty chosen. Supported penalties by solver:\n",
    "‘lbfgs’ - [‘l2’, None]\n",
    "\n",
    "‘liblinear’ - [‘l1’, ‘l2’]\n",
    "\n",
    "‘newton-cg’ - [‘l2’, None]\n",
    "\n",
    "‘newton-cholesky’ - [‘l2’, None]\n",
    "\n",
    "‘sag’ - [‘l2’, None]\n",
    "\n",
    "‘saga’ - [‘elasticnet’, ‘l1’, ‘l2’, None]\n",
    "\n",
    "Warning: The logistic reggression only gives categorical values, either 0 or 1, but not in between.\n",
    "'''\n",
    "from sklearn import preprocessing\n",
    "from sklearn import utils\n",
    "\n",
    "#convert y values to categorical values\n",
    "lab = preprocessing.LabelEncoder()\n",
    "y_transformed = lab.fit_transform(y_train)\n",
    "\n",
    "\n",
    "logreg = LogisticRegression(solver = 'saga')\n",
    "logreg.fit(X_train_norm, y_transformed)\n",
    "\n",
    "#print(logreg.coef_, logreg.intercept_)\n",
    "losspred = logreg.predict(X_val_norm)\n",
    "\n",
    "\n",
    "print(\"----- EVALUATION ON TRAIN SET ------\")\n",
    "print(\"RMSE\",mean_squared_error(y_val, losspred, squared=False))  # This is the competition's metric\n",
    "print(\"R^2: \",r2_score(y_val, losspred))\n",
    "\n",
    "# Using this lines of code we can see the predicted price vs the real price\n",
    "plt.scatter(y_val, losspred, c='C0', alpha=0.3)\n",
    "plt.axline((0,0),(1,1), c='C1')\n",
    "plt.xlabel('Price')\n",
    "plt.ylabel('Predicted price');\n",
    "plt.show()\n"
   ]
  },
  {
   "cell_type": "markdown",
   "id": "3b597798-88bd-456c-a286-128d228c2f3f",
   "metadata": {},
   "source": [
    "CONFUSION MATRIX OF THE LOGISTIC REGRESSION"
   ]
  },
  {
   "cell_type": "code",
   "execution_count": null,
   "id": "98d774c3-0bb6-4d48-ab48-ad02b2393f8d",
   "metadata": {},
   "outputs": [],
   "source": [
    "cm = metrics.confusion_matrix(y_val, losspred)\n",
    "\n",
    "plt.figure(figsize=(9,9))\n",
    "sns.heatmap(cm, annot=True, fmt=\".3f\", linewidths=.5, square = True, cmap = 'Blues_r');\n",
    "plt.ylabel('Actual label');\n",
    "plt.xlabel('Predicted label');\n",
    "all_sample_title = 'Accuracy Score: {0}'.format(score)\n",
    "plt.title(all_sample_title, size = 15);"
   ]
  },
  {
   "cell_type": "markdown",
   "id": "829cb133-7096-452e-86e3-e043e393f80f",
   "metadata": {
    "tags": []
   },
   "source": [
    "### K-NEIGHBORS CLASSIFIER WITH CROSS VALIDATION"
   ]
  },
  {
   "cell_type": "code",
   "execution_count": null,
   "id": "d49cfb08-18c9-4a51-8c46-d47d048485b5",
   "metadata": {},
   "outputs": [],
   "source": [
    "k_values = [i for i in range (1,101)]\n",
    "knn_scores = []\n",
    "\n",
    "for k in k_values:\n",
    "    knn = KNeighborsClassifier(n_neighbors=k)\n",
    "    score = cross_val_score(knn, X_train_norm, y_train, cv=5)\n",
    "    knn_scores.append(np.mean(score))\n",
    "    \n",
    "sns.lineplot(x = 'k_values', y = 'knn_scores', marker = 'o')\n",
    "plt.xlabel(\"K Values\")\n",
    "plt.ylabel(\"Accuracy Score\")"
   ]
  },
  {
   "cell_type": "code",
   "execution_count": null,
   "id": "ea4a6847-3c7a-4020-a2e0-250dca6e4d4a",
   "metadata": {},
   "outputs": [],
   "source": [
    "#We now train our model with the best k values\n",
    "best_index = np.argmax(knn_scores)\n",
    "best_k = k_values[best_index]\n",
    "\n",
    "knn = KNeighborsClassifier(n_neighbors=best_k)\n",
    "knn.fit(X_train_norm, y_train)"
   ]
  },
  {
   "cell_type": "code",
   "execution_count": null,
   "id": "7203d6e0-9a50-4ee7-85f2-fde6c26aab08",
   "metadata": {},
   "outputs": [],
   "source": [
    "y_pred = knn.predict(X_val_norm)\n",
    "\n",
    "accuracy = accuracy_score(y_val, y_pred)\n",
    "precision = precision_score(y_val, y_pred)\n",
    "recall = recall_score(y_val, y_pred)\n",
    "\n",
    "print(\"Accuracy:\", accuracy)\n",
    "print(\"Precision:\", precision)\n",
    "print(\"Recall:\", recall)"
   ]
  },
  {
   "cell_type": "code",
   "execution_count": null,
   "id": "f8743964-92a8-4997-b0e8-1e9151c3e2da",
   "metadata": {},
   "outputs": [],
   "source": [
    "print(\"----- EVALUATION ON TRAIN SET ------\")\n",
    "print(\"RMSE\",mean_squared_error(y_val, y_pred, squared=False))  # This is the competition's metric\n",
    "print(\"R^2: \",r2_score(y_val, y_pred))\n",
    "\n",
    "# Using this lines of code we can see the predicted price vs the real price\n",
    "plt.scatter(y_val, y_pred, c='C0', alpha=0.3)\n",
    "plt.axline((0,0),(1,1), c='C1')\n",
    "plt.xlabel('Price')\n",
    "plt.ylabel('Predicted price');\n",
    "plt.show()"
   ]
  },
  {
   "cell_type": "markdown",
   "id": "3471b67e-0b9b-4a7b-a779-49ff91694b2d",
   "metadata": {},
   "source": [
    "### DEEP LEARNING, FULLY-CONNECTED NEURAL NETWORK"
   ]
  },
  {
   "cell_type": "code",
   "execution_count": null,
   "id": "7465d88c-03c4-4c37-930a-7c7b7aa882f7",
   "metadata": {},
   "outputs": [],
   "source": [
    "from __future__ import print_function\n",
    "import tensorflow.keras\n",
    "from tensorflow.keras.models import Sequential\n",
    "from tensorflow.keras.layers import Dense, Dropout, Activation\n",
    "from tensorflow.keras.optimizers import RMSprop, Adam\n",
    "model = Sequential()"
   ]
  },
  {
   "cell_type": "code",
   "execution_count": null,
   "id": "5d2e26e4-7e1f-43f0-bdc4-3bb1cf1c757a",
   "metadata": {},
   "outputs": [],
   "source": [
    "#Set the real number of variables of our final df in input_shape\n",
    "model.add(Dense(12, input_shape=(8,), activation='relu'))\n",
    "model.add(Dropout(0.2))\n",
    "model.add(Dense(8, activation='relu'))\n",
    "model.add(Dropout(0.2))\n",
    "model.add(Dense(1, activation='sigmoid'))\n",
    "\n",
    "model.summary()"
   ]
  },
  {
   "cell_type": "code",
   "execution_count": null,
   "id": "9db9553c-5514-41a1-8cbb-8275aade2e67",
   "metadata": {},
   "outputs": [],
   "source": [
    "model.compile(loss='binary_crossentropy', optimizer='adam', metrics=['accuracy'])"
   ]
  },
  {
   "cell_type": "code",
   "execution_count": null,
   "id": "b2a3474c-8c3e-457a-a46c-9140b95b010d",
   "metadata": {},
   "outputs": [],
   "source": [
    "model.fit(X_train_norm, y_train, epochs=150, batch_size=10)\n",
    "_, accuracy = model.evaluate(X, y, verbose=0)"
   ]
  },
  {
   "cell_type": "code",
   "execution_count": null,
   "id": "453e3b7c-bca8-4f33-a250-12f73b8132a5",
   "metadata": {},
   "outputs": [],
   "source": [
    "# make probability predictions with the model\n",
    "y_pred_FCNN = model.predict(X_val_norm)"
   ]
  },
  {
   "cell_type": "markdown",
   "id": "7c1fb74e-03ca-439a-8f28-7fb1deaff6be",
   "metadata": {},
   "source": [
    "### SUBMISSION DATA SET"
   ]
  },
  {
   "cell_type": "code",
   "execution_count": null,
   "id": "558a0349-c016-45e3-a403-d959b7acd7c0",
   "metadata": {},
   "outputs": [],
   "source": [
    "# First, and very important step, we need to preprocess the test data the same way we have done with the train set. \n",
    "X_test = test_set[features].fillna(0)\n",
    "\n",
    "# Now we can predict the prices for the test set\n",
    "y_test_pred = model.predict(X_test)\n",
    "\n",
    "# We generate the submission like this:\n",
    "df_output = pd.DataFrame(y_test_pred)\n",
    "df_output = df_output.reset_index()\n",
    "df_output.columns = ['index','percentage_docks_available']\n",
    "\n",
    "df_output.to_csv('sample_submission.csv',index=False)\n"
   ]
  }
 ],
 "metadata": {
  "kernelspec": {
   "display_name": "Python 3 (ipykernel)",
   "language": "python",
   "name": "python3"
  },
  "language_info": {
   "codemirror_mode": {
    "name": "ipython",
    "version": 3
   },
   "file_extension": ".py",
   "mimetype": "text/x-python",
   "name": "python",
   "nbconvert_exporter": "python",
   "pygments_lexer": "ipython3",
   "version": "3.9.13"
  }
 },
 "nbformat": 4,
 "nbformat_minor": 5
}
